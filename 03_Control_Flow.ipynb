{
  "nbformat": 4,
  "nbformat_minor": 0,
  "metadata": {
    "colab": {
      "provenance": [],
      "collapsed_sections": [
        "kVq1KnZYCQJB",
        "agPhfDi2CoRn",
        "xY3TmKnpSOJ9",
        "CMPMobtgUu0e",
        "VFmmDIDMw6g0",
        "3dm9owGg-4HN",
        "xfNs7qPN_kSz",
        "2xXej9doAtHz",
        "CyAHZ2mHCC1_",
        "WYId-WTNCUkX",
        "Wj7hjAeYW-oi",
        "O5gGldUDXbnC",
        "IKIPupsCYDI_",
        "kNVwnW-uYS4k",
        "Jr8abYWIYku-",
        "bRDkQ_7eaWPf",
        "fep6uJrZtkxR",
        "w163uBLtvbd7",
        "hGiBDBTgwzTc",
        "W07YFWAd2rGL",
        "6rFeFtzy2x-L",
        "u-Vt3Gnz25k6",
        "ExF9hI273JH9",
        "UDMS3CXzK8jh",
        "pkrAD6UoLF_Y",
        "43f6hrVAMQ6n",
        "cvRlX9zBOdRE",
        "CqIGKJVbPMIC",
        "fI3pZNMiPZNd",
        "YHt5kuZeRPf4",
        "13e5NLvWRX5B",
        "W72ESc8PRsSC",
        "39piCrj6XZsl",
        "Fa4TIdBvXmd1",
        "4CwMXNENXvpV",
        "xNcmdLPDYBs_",
        "yViVDKigYJxw",
        "QcmwRTnJZd42",
        "W7Cn1P2ibf7D",
        "BxI1MN7ye04F",
        "fmtQLXh_fKdk",
        "HehAhBNhf2xl",
        "wibd5t-BzN1g",
        "aOnclGbgzi_1",
        "owcp7Y_Xzvfl",
        "6tLQhoGg0FMo",
        "2gMa8-OR0rFL",
        "i-WPyjrc1eon",
        "NRriWPm71rYP",
        "rmaeqNzY14t0",
        "Z1eT9sto2D60",
        "wvVC6u5s2VJR",
        "YG_mPUYk2gl8",
        "H28JPQg_2xY1",
        "UmsQ30WQ23Pu",
        "5ZJhvwm4287v",
        "wN2N48Rp3ES-",
        "GrzXgM3z3OZK",
        "HRpIVNhK4iS3",
        "AM8l15Xs5Bx5",
        "VxzoBGUj5K1E",
        "aHqRFZ_S5Rqr",
        "DmRQAi8V5hiM",
        "8uR_u6u25_Xf",
        "tONO_aqu6IkY",
        "RKYQsOd46pFC",
        "khQS-4XU6ug0",
        "o4OUueFs74b5",
        "cC7rClbB8QpT"
      ],
      "authorship_tag": "ABX9TyOipx2H0stR3xxRubdTwgeF",
      "include_colab_link": true
    },
    "kernelspec": {
      "name": "python3",
      "display_name": "Python 3"
    },
    "language_info": {
      "name": "python"
    }
  },
  "cells": [
    {
      "cell_type": "markdown",
      "metadata": {
        "id": "view-in-github",
        "colab_type": "text"
      },
      "source": [
        "<a href=\"https://colab.research.google.com/github/ucheblessed/ucheblessed/blob/main/03_Control_Flow.ipynb\" target=\"_parent\"><img src=\"https://colab.research.google.com/assets/colab-badge.svg\" alt=\"Open In Colab\"/></a>"
      ]
    },
    {
      "cell_type": "markdown",
      "source": [
        "# **Control Flow**\n",
        "Control flow describes the order in which your lines of code are run. This order is usually different than the sequence in which the lines of code appear! Execution can flow from one place in the code to another. \n",
        "\n",
        "Special types of statements control how this execution flows. In this lesson, we'll learn about several tools in Python we can use to affect our code's control flow:\n",
        "\n",
        "* Conditional Statements\n",
        "* Boolean Expressions\n",
        "* For and While Loops\n",
        "* Break and Continue\n",
        "* Zip and Enumerate\n",
        "* List Comprehensions\n",
        "\n",
        "## **If Statement**\n",
        "An `if` statement is a conditional statement that runs or skips code based on whether a condition is true or false. Here's a simple example.\n",
        "```\n",
        "if phone_balance < 5:\n",
        "    phone_balance += 10\n",
        "    bank_balance -= 10\n",
        "```\n",
        "\n",
        "## Let's break this down.\n",
        "\n",
        "1.  `if` statement starts with the `if` keyword, followed by the condition to be checked, in this case `phone_balance < 5`, and then a colon. The condition is specified in a boolean expression that evaluates to either True or False.\n",
        "\n",
        "2. After this line is an indented block of code to be executed if that condition is true. Here, the lines that increment `phone_balance` and decrement `bank_balance` only execute if it is true that `phone_balance` is less than `5`. If not, the code in this if block is simply skipped.\n",
        "\n",
        "## **Use Comparison Operators in Conditional Statements**\n",
        "You have learned about Python's comparison operators (e.g. `==` and `!=`) and how they are different from assignment operators (e.g. `=`). In conditional statements, you want to use comparison operators. For example, you'd want to use `if x == 5` rather than `if x = 5`. If your conditional statement is causing a syntax error or doing something unexpected, check whether you have written `==` or `=!`\n"
      ],
      "metadata": {
        "id": "1BMuLc_z92De"
      }
    },
    {
      "cell_type": "markdown",
      "source": [
        "## **If, Elif, Else**\n",
        "In addition to the if clause, there are two other optional clauses often used with an if statement. For example:\n",
        "```\n",
        "if season == 'spring':\n",
        "    print('plant the garden!')\n",
        "elif season == 'summer':\n",
        "    print('water the garden!')\n",
        "elif season == 'fall':\n",
        "    print('harvest the garden!')\n",
        "elif season == 'winter':\n",
        "    print('stay indoors!')\n",
        "else:\n",
        "    print('unrecognized season')\n",
        "```\n",
        "\n",
        "1. `if`: An `if` statement must always start with an `if` clause, which contains the first condition that is checked. If this evaluates to True, Python runs the code indented in this `if` block and then skips to the rest of the code after the `if` statement.\n",
        "\n",
        "2. `elif`: `elif` is short for \"else if.\" An `elif` clause is used to check for an additional condition if the conditions in the previous clauses in the `if` statement evaluate to False. As you can see in the example, you can have multiple `elif` blocks to handle different situations.\n",
        "\n",
        "3. `else`: Last is the `else` clause, which must come at the end of an if statement if used. This clause doesn't require a condition. The code in an `else` block is run if all conditions above that in the `if` statement evaluate to False."
      ],
      "metadata": {
        "id": "G85XmpmG91qB"
      }
    },
    {
      "cell_type": "markdown",
      "source": [
        "## **Indentation**\n",
        "Some other languages use braces to show where blocks of code begin and end. In Python we use indentation to enclose blocks of code. For example, `if` statements use indentation to tell Python what code is inside and outside of different clauses.\n",
        "\n",
        "In Python, indents conventionally come in multiples of four spaces. Be strict about following this convention, because changing the indentation can completely change the meaning of the code. If you are working on a team of Python programmers, it's important that everyone follows the same indentation convention!\n",
        "\n",
        "Spaces or Tabs?\n",
        "The [Python Style Guide](https://www.python.org/dev/peps/pep-0008/#tabs-or-spaces) recommends using 4 spaces to indent, rather than using a tab. Whichever you use, be aware that \"Python 3 disallows mixing the use of tabs and spaces for indentation.\""
      ],
      "metadata": {
        "id": "ZWmSGbmo_gtL"
      }
    },
    {
      "cell_type": "markdown",
      "source": [
        "## **Try It Out!**\n",
        "Use Test Run to execute the following code, which includes several examples of `if` statements. Experiment with different inputs and see what is printed out. Can you follow the flow of logic to figure out which code lines will get run? If you're not sure, you can insert additional `print` statements to help you figure out how it works."
      ],
      "metadata": {
        "id": "epoJQxvj_unE"
      }
    },
    {
      "cell_type": "code",
      "source": [
        "#First Example - try changing the value of phone_balance\n",
        "phone_balance = 10\n",
        "bank_balance = 50\n",
        "\n",
        "if phone_balance < 10:\n",
        "    phone_balance += 10\n",
        "    bank_balance -= 10\n",
        "\n",
        "print(phone_balance)\n",
        "print(bank_balance)"
      ],
      "metadata": {
        "colab": {
          "base_uri": "https://localhost:8080/"
        },
        "id": "oQS64zpn_d3m",
        "outputId": "0983b9a6-c3a8-49a0-e6bf-328535a3d7a0"
      },
      "execution_count": null,
      "outputs": [
        {
          "output_type": "stream",
          "name": "stdout",
          "text": [
            "10\n",
            "50\n"
          ]
        }
      ]
    },
    {
      "cell_type": "code",
      "source": [
        "#Second Example - try changing the value of number\n",
        "\n",
        "number = 145\n",
        "if number % 2 == 0:\n",
        "    print(\"Number \" + str(number) + \" is even.\")\n",
        "else:\n",
        "    print(\"Number \" + str(number) + \" is odd.\")"
      ],
      "metadata": {
        "colab": {
          "base_uri": "https://localhost:8080/"
        },
        "id": "HnQbJqpH_08g",
        "outputId": "921fca75-bc9a-4ed5-99bc-016568b6b662"
      },
      "execution_count": null,
      "outputs": [
        {
          "output_type": "stream",
          "name": "stdout",
          "text": [
            "Number 145 is odd.\n"
          ]
        }
      ]
    },
    {
      "cell_type": "code",
      "source": [
        "#Third Example - try to change the value of age\n",
        "age = 35\n",
        "\n",
        "# Here are the age limits for bus fares\n",
        "free_up_to_age = 4\n",
        "child_up_to_age = 18\n",
        "senior_from_age = 65\n",
        "\n",
        "# These lines determine the bus fare prices\n",
        "concession_ticket = 1.25\n",
        "adult_ticket = 2.50\n",
        "\n",
        "# Here is the logic for bus fare prices\n",
        "if age <= free_up_to_age:\n",
        "    ticket_price = 0\n",
        "elif age <= child_up_to_age:\n",
        "    ticket_price = concession_ticket\n",
        "elif age >= senior_from_age:\n",
        "    ticket_price = concession_ticket\n",
        "else:\n",
        "    ticket_price = adult_ticket\n",
        "\n",
        "message = \"Somebody who is {} years old will pay ${} to ride the bus.\".format(age, ticket_price)\n",
        "print(message)"
      ],
      "metadata": {
        "colab": {
          "base_uri": "https://localhost:8080/"
        },
        "id": "hheNCxsJ_9dI",
        "outputId": "e2784443-6255-4c58-8014-65284d00a7b7"
      },
      "execution_count": null,
      "outputs": [
        {
          "output_type": "stream",
          "name": "stdout",
          "text": [
            "Somebody who is 35 years old will pay $2.5 to ride the bus.\n"
          ]
        }
      ]
    },
    {
      "cell_type": "markdown",
      "source": [
        "## **Practice: Which Prize**\n",
        "Write an `if` statement that lets a competitor know which of these prizes they won based on the number of points they scored, which is stored in the integer variable `points`.\n",
        "\n",
        "<div class=\"_3iP2TrDXtmCaMBMDFgM-Os\"><table class=\"_31OI8Tmq3yywD_20_EuBtM _1pZkqGvd1RdMO5JXUl_2oA\">\n",
        "<thead>\n",
        "<tr>\n",
        "<th><strong>Points</strong></th>\n",
        "<th><strong>Prize</strong></th>\n",
        "</tr>\n",
        "</thead>\n",
        "<tbody>\n",
        "<tr>\n",
        "<td>1 - 50</td>\n",
        "<td>wooden rabbit</td>\n",
        "</tr>\n",
        "<tr>\n",
        "<td>51 - 150</td>\n",
        "<td>no prize</td>\n",
        "</tr>\n",
        "<tr>\n",
        "<td>151 - 180</td>\n",
        "<td>wafer-thin mint</td>\n",
        "</tr>\n",
        "<tr>\n",
        "<td>181 - 200</td>\n",
        "<td>penguin</td>\n",
        "</tr>\n",
        "</tbody>\n",
        "</table>\n",
        "</div>\n",
        "\n",
        "All of the lower and upper bounds here are inclusive, and `points` can only take on positive integer values up to 200.\n",
        "\n",
        "In your `if` statement, assign the `result` variable to a string holding the appropriate message based on the value of `points`. If they've won a prize, the message should state `\"Congratulations! You won a [prize name]!\"` with the prize name. If there's no prize, the message should state `\"Oh dear, no prize this time.\"`\n",
        "\n",
        "**Note:** Feel free to test run your code with other inputs, but when you submit your answer, only use the original input of `points = 174`. You can hide your other inputs by commenting them out."
      ],
      "metadata": {
        "id": "FZ2DYbuAANve"
      }
    },
    {
      "cell_type": "markdown",
      "source": [
        "```\n",
        "points = 174  # use this input to make your submission\n",
        "\n",
        "# write your if statement here\n",
        "\n",
        "\n",
        "print(result)\n",
        "```"
      ],
      "metadata": {
        "id": "58lMPE7KA-YZ"
      }
    },
    {
      "cell_type": "code",
      "source": [
        "points = 174\n",
        "\n",
        "if points <= 50:\n",
        "    result = \"Congratulations! You won a wooden rabbit!\"\n",
        "elif points <= 150:\n",
        "    result = \"Oh dear, no prize this time.\"\n",
        "elif points <= 180:\n",
        "    result = \"Congratulations! You won a wafer-thin mint!\"\n",
        "else:\n",
        "    result = \"Congratulations! You won a penguin!\"\n",
        "\n",
        "print(result)"
      ],
      "metadata": {
        "colab": {
          "base_uri": "https://localhost:8080/"
        },
        "id": "FG4VSqsCAElQ",
        "outputId": "2fd43df3-e145-41a3-b425-b78f02cad4a9"
      },
      "execution_count": null,
      "outputs": [
        {
          "output_type": "stream",
          "name": "stdout",
          "text": [
            "Congratulations! You won a wafer-thin mint!\n"
          ]
        }
      ]
    },
    {
      "cell_type": "markdown",
      "source": [
        "We use `<=` instead of the `<` operator, since it was stated that the upper bound is inclusive. Notice that in each condition, we check if `points` is in a prize bracket by checking if `points` is less than or equal to the upper bound; we didn't have to check if it was greater than the lower bound. Let's see why this is the case.\n",
        "\n",
        "* When `points = 174`, it first checks if `points <= 50`, which evaluates to False. We don't have to check if it is also greater than 0, since it is stated in the problem that `points` will always be a positive integer up to 200.\n",
        "\n",
        "* Since the first condition evaluates to False, it moves on to check the next condition, `points <= 150`. **We don't need to check if it is also greater than 50 here!** We already know this is the case because the first condition has to have evaluated to False in order to get to this point. If we know points `<= 50` is False, then `points > 50` must be `True`!\n",
        "\n",
        "* Finally, we check if points `<= 180`, which evaluates to `True`. We now know that `points` is in the `151 - 180` bracket.\n",
        "\n",
        "The last prize bracket, `181-200`, is caught in the `else` clause, since there is no other possible value of the prize after checking the previous conditions."
      ],
      "metadata": {
        "id": "tEDBu77_BHc4"
      }
    },
    {
      "cell_type": "markdown",
      "source": [
        "## **Quiz: Guess My Number**\n",
        "You decide you want to play a game where you are hiding a number from someone. Store this number in a variable called 'answer'. Another user provides a number called 'guess'. By comparing 'guess' to 'answer', you inform the user if their guess is too high or too low.\n",
        "\n",
        "Fill in the conditionals below to inform the user about how their guess compares to the answer."
      ],
      "metadata": {
        "id": "YNGOVnYtB2i0"
      }
    },
    {
      "cell_type": "markdown",
      "source": [
        "```\n",
        "# '''\n",
        "# You decide you want to play a game where you are hiding \n",
        "# a number from someone.  Store this number in a variable \n",
        "# called 'answer'.  Another user provides a number called\n",
        "# 'guess'.  By comparing guess to answer, you inform the user\n",
        "# if their guess is too high or too low.\n",
        "\n",
        "# Fill in the conditionals below to inform the user about how\n",
        "# their guess compares to the answer.\n",
        "# '''\n",
        "answer = #provide answer\n",
        "guess = #provide guess\n",
        "\n",
        "if #provide conditional\n",
        "    result = \"Oops!  Your guess was too low.\"\n",
        "elif #provide conditional\n",
        "    result = \"Oops!  Your guess was too high.\"\n",
        "elif #provide conditional\n",
        "    result = \"Nice!  Your guess matched the answer!\"\n",
        "\n",
        "print(result)\n",
        "```"
      ],
      "metadata": {
        "id": "Hue9ydZ7B7vz"
      }
    },
    {
      "cell_type": "code",
      "source": [
        "answer = 35\n",
        "guess = 30   # this is just a sample answer and guess\n",
        "\n",
        "if guess < answer:\n",
        "    result = \"Oops!  Your guess was too low.\"\n",
        "elif guess > answer:\n",
        "   result = \"Oops!  Your guess was too high.\"\n",
        "elif guess==answer:\n",
        "    result = \"Nice!  Your guess matched the answer!\"\n",
        "print(result)"
      ],
      "metadata": {
        "id": "aInUpqznBDRs"
      },
      "execution_count": null,
      "outputs": []
    },
    {
      "cell_type": "markdown",
      "source": [
        "### **Quiz: Tax Purchase**\n",
        "Depending on where an individual is from we need to tax them appropriately. The states of CA, MN, and NY have taxes of 7.5%, 9.5%, and 8.9% respectively. Use this information to take the amount of a purchase and the corresponding state to assure that they are taxed by the right amount.\n",
        "```\n",
        "# '''\n",
        "# Depending on where an individual is from we need to tax them \n",
        "# appropriately.  The states of CA, MN, and \n",
        "# NY have taxes of 7.5%, 9.5%, and 8.9% respectively.\n",
        "# Use this information to take the amount of a purchase and \n",
        "# the corresponding state to assure that they are taxed by the right\n",
        "# amount.\n",
        "# '''\n",
        "state = #Either CA, MN, or NY\n",
        "purchase_amount = #amount of purchase\n",
        "\n",
        "if #provide conditional for checking state is CA\n",
        "    tax_amount = .075\n",
        "    total_cost = purchase_amount*(1+tax_amount)\n",
        "    result = \"Since you're from {}, your total cost is {}.\".format(state, total_cost)\n",
        "\n",
        "elif #provide conditional for checking state is MN\n",
        "    tax_amount = .095\n",
        "    total_cost = purchase_amount*(1+tax_amount)\n",
        "    result = \"Since you're from {}, your total cost is {}.\".format(state, total_cost)\n",
        "\n",
        "elif #provide conditional for checking state is NY\n",
        "    tax_amount = .089\n",
        "    total_cost = purchase_amount*(1+tax_amount)\n",
        "    result = \"Since you're from {}, your total cost is {}.\".format(state, total_cost)\n",
        "\n",
        "print(result)\n",
        "```"
      ],
      "metadata": {
        "id": "_JDT5AS7CCGo"
      }
    },
    {
      "cell_type": "code",
      "source": [
        "state = 'CA'\n",
        "purchase_amount = 20.00    # a sample state and purchase amount\n",
        "\n",
        "if state == 'CA':\n",
        "    tax_amount = .075\n",
        "    total_cost = purchase_amount*(1+tax_amount)\n",
        "    result = \"Since you're from {}, your total cost is {}.\".format(state, total_cost)\n",
        "\n",
        "elif state == 'MN':\n",
        "    tax_amount = .095\n",
        "    total_cost = purchase_amount*(1+tax_amount)\n",
        "    result = \"Since you're from {}, your total cost is {}.\".format(state, total_cost)\n",
        "\n",
        "elif state == 'NY':\n",
        "    tax_amount = .089\n",
        "    total_cost = purchase_amount*(1+tax_amount)\n",
        "    result = \"Since you're from {}, your total cost is {}.\".format(state, total_cost)\n",
        "\n",
        "print(result)"
      ],
      "metadata": {
        "id": "u516o_bJCHMN",
        "outputId": "74a75cd2-600e-4c66-96cc-e6b1b38169db",
        "colab": {
          "base_uri": "https://localhost:8080/"
        }
      },
      "execution_count": null,
      "outputs": [
        {
          "output_type": "stream",
          "name": "stdout",
          "text": [
            "Since you're from CA, your total cost is 21.5.\n"
          ]
        }
      ]
    },
    {
      "cell_type": "markdown",
      "source": [
        "## **Complex Boolean Expressions**\n",
        "`If` statements sometimes use more complicated boolean expressions for their conditions. They may contain multiple comparisons operators, logical operators, and even calculations. Examples:\n",
        "```\n",
        "if 18.5 <= weight / height**2 < 25:\n",
        "    print(\"BMI is considered 'normal'\")\n",
        "\n",
        "if is_raining and is_sunny:\n",
        "    print(\"Is there a rainbow?\")\n",
        "\n",
        "if (not unsubscribed) and (location == \"USA\" or location == \"CAN\"):\n",
        "    print(\"send email\")\n",
        "```\n",
        "\n",
        "For really complicated conditions you might need to combine some `ands`, `ors` and `not`s together. Use parentheses if you need to make the combinations clear.\n",
        "\n",
        "However simple or complex, the condition in an `if` statement must be a boolean expression that evaluates to either True or False and it is this value that decides whether the indented block in an if statement executes or not."
      ],
      "metadata": {
        "id": "kVq1KnZYCQJB"
      }
    },
    {
      "cell_type": "markdown",
      "source": [
        "Good and Bad Examples\n",
        "Here are some things to keep in mind while writing boolean expressions for your if statements.\n",
        "\n",
        "### **1. Don't use `True` or `False` as conditions**\n",
        "```\n",
        "# Bad example\n",
        "if True:\n",
        "    print(\"This indented code will always get run.\")\n",
        "```\n",
        "\n",
        "While \"`True`\" is a valid boolean expression, it's not useful as a condition since it always evaluates to `True`, so the indented code will always get run. Similarly, `if False` is not a condition you should use either - the statement following this `if` statement would never be executed.\n",
        "\n",
        "```\n",
        "# Another bad example\n",
        "if is_cold or not is_cold:\n",
        "    print(\"This indented code will always get run.\")\n",
        "```\n",
        "\n",
        "Similarly, it's useless to use any condition that you know will always evaluate to True, like this example above. A boolean variable can only be True or False, so either `is_cold` or not `is_cold` is always `True`, and the indented code will always be run.\n",
        "\n",
        "### **2. Be careful writing expressions that use logical operators**\n",
        "Logical operators `and`, `or` and `not` have specific meanings that aren't quite the same as their meanings in plain English. Make sure your boolean expressions are being evaluated the way you expect them to.\n",
        "```\n",
        "# Bad example\n",
        "if weather == \"snow\" or \"rain\":\n",
        "    print(\"Wear boots!\")\n",
        "```\n",
        "\n",
        "This code is valid in Python, but it is not a boolean expression, although it reads like one. The reason is that the expression to the right of the or operator, \"rain\", is not a boolean expression - it's a string! Later we'll discuss what happens when you use non-boolean-type objects in place of booleans.\n",
        "\n",
        "### **3. Don't compare a boolean variable with `== True` or `== False`***\n",
        "This comparison isn’t necessary, since the boolean variable itself is a boolean expression.\n",
        "```\n",
        "# Bad example\n",
        "if is_cold == True:\n",
        "    print(\"The weather is cold!\")\n",
        "```\n",
        "\n",
        "This is a valid condition, but we can make the code more readable by using the variable itself as the condition instead, as below.\n",
        "```\n",
        "# Good example\n",
        "if is_cold:\n",
        "    print(\"The weather is cold!\")\n",
        "```\n",
        "\n",
        "If you want to check whether a boolean is False, you can use the `not` operator.\n",
        "\n",
        "### **Truth Value Testing**\n",
        "If we use a non-boolean object as a condition in an `if` statement in place of the boolean expression, Python will check for its truth value and use that to decide whether or not to run the indented code. By default, the truth value of an object in Python is considered True unless specified as False in the documentation.\n",
        "\n",
        "Here are most of the built-in objects that are considered False in Python:\n",
        "\n",
        "* constants defined to be false: `None` and `False`\n",
        "* zero of any numeric type: `0`, `0.0`, `0j`, `Decimal(0)`, `Fraction(0, 1)`\n",
        "* empty sequences and collections: `'\"\"`, `()`, `[]`, `{}`, `set()`, `range(0)`\n",
        "\n",
        "Example:\n",
        "```\n",
        "errors = 3\n",
        "if errors:\n",
        "    print(\"You have {} errors to fix!\".format(errors))\n",
        "else:\n",
        "    print(\"No errors to fix!\")\n",
        "```\n",
        "\n",
        "In this code, `errors` has the truth value True because it's a non-zero number, so the error message is printed. This is a nice, succinct way of writing an `if` statement.\n",
        "\n"
      ],
      "metadata": {
        "id": "agPhfDi2CoRn"
      }
    },
    {
      "cell_type": "markdown",
      "source": [
        "### **QUESTION 1 OF 2**\n",
        "Imagine an air traffic control program that tracks three variables, altitude, speed, and propulsion which for a particular airplane have the values specified below.\n",
        "```\n",
        "altitude = 10000\n",
        "speed = 250\n",
        "propulsion = \"Propeller\"\n",
        "```\n",
        "\n",
        "For each of the following boolean expressions, work out whether it evaluates to True or False."
      ],
      "metadata": {
        "id": "xY3TmKnpSOJ9"
      }
    },
    {
      "cell_type": "code",
      "source": [
        "altitude = 10000\n",
        "speed = 250\n",
        "propulsion = \"Propeller\""
      ],
      "metadata": {
        "id": "PDpwF5bQCnwp"
      },
      "execution_count": null,
      "outputs": []
    },
    {
      "cell_type": "code",
      "source": [
        "altitude < 1000 and speed > 100"
      ],
      "metadata": {
        "colab": {
          "base_uri": "https://localhost:8080/"
        },
        "id": "yKZqTrVud5s3",
        "outputId": "3b651a93-ca66-434a-d664-30e74d322de6"
      },
      "execution_count": null,
      "outputs": [
        {
          "output_type": "execute_result",
          "data": {
            "text/plain": [
              "False"
            ]
          },
          "metadata": {},
          "execution_count": 2
        }
      ]
    },
    {
      "cell_type": "markdown",
      "source": [
        "`altitude < 1000` is `False`, so we don't even need to check the second condition - the whole expression is `False`."
      ],
      "metadata": {
        "id": "-UDI4MQySiJ1"
      }
    },
    {
      "cell_type": "code",
      "source": [
        "(propulsion == \"Jet\" or propulsion == \"Turboprop\") and speed < 300 and altitude > 20000"
      ],
      "metadata": {
        "colab": {
          "base_uri": "https://localhost:8080/"
        },
        "id": "XdYweWrbd8gm",
        "outputId": "d47c2e3c-9ca8-4763-bb8e-854adb0bf928"
      },
      "execution_count": null,
      "outputs": [
        {
          "output_type": "execute_result",
          "data": {
            "text/plain": [
              "False"
            ]
          },
          "metadata": {},
          "execution_count": 3
        }
      ]
    },
    {
      "cell_type": "markdown",
      "source": [
        "`propulsion == \"Jet\"` is `False`, and `propulsion == \"Turboprop\"` is `False`, so the whole expression inside the parentheses is `False`. It is combined with the other expressions with and, so we don't even need to check these - the whole expression must be False because the first part is `False`."
      ],
      "metadata": {
        "id": "LK9sSyMyUHOE"
      }
    },
    {
      "cell_type": "code",
      "source": [
        "not (speed > 400 and propulsion == \"Propeller\")"
      ],
      "metadata": {
        "colab": {
          "base_uri": "https://localhost:8080/"
        },
        "id": "Eayv_tpjeCIm",
        "outputId": "b984f477-9dbc-4b27-d4a0-935b1dab761e"
      },
      "execution_count": null,
      "outputs": [
        {
          "output_type": "execute_result",
          "data": {
            "text/plain": [
              "True"
            ]
          },
          "metadata": {},
          "execution_count": 4
        }
      ]
    },
    {
      "cell_type": "markdown",
      "source": [
        "To work this one out, we need to look at the inside of the parentheses first, then apply `not` to that. `speed > 400` is `False`, and because we are using and this makes the whole of the expression inside the parentheses `False`. Applying not reverses this, so this expression is `True`."
      ],
      "metadata": {
        "id": "FzrzVwujUPyc"
      }
    },
    {
      "cell_type": "code",
      "source": [
        "(altitude > 500 and speed > 100) or not propulsion == \"Propeller\""
      ],
      "metadata": {
        "colab": {
          "base_uri": "https://localhost:8080/"
        },
        "id": "uyyggAVLeKkP",
        "outputId": "848cac68-e62a-42ad-99c2-44d9aca6b882"
      },
      "execution_count": null,
      "outputs": [
        {
          "output_type": "execute_result",
          "data": {
            "text/plain": [
              "True"
            ]
          },
          "metadata": {},
          "execution_count": 5
        }
      ]
    },
    {
      "cell_type": "markdown",
      "source": [
        "Let's start by looking inside the parentheses. `altitude > 500` is `True`, and `speed` is greater than `100`, so the expression inside the parenthesis is `True`. Whatever the value of the other expression, because they are connected by `or`, the whole expression will evaluate to `True`."
      ],
      "metadata": {
        "id": "cTpYtCC2UcGN"
      }
    },
    {
      "cell_type": "markdown",
      "source": [
        "## **Quiz: Using Truth Values of Objects**\n",
        "The code below is the solution to the *Which Prize* quiz you've seen previously. You're going to rewrite this based on what you've learned about truth values.\n",
        "\n",
        "```\n",
        "points = 174\n",
        "\n",
        "if points <= 50:\n",
        "    result = \"Congratulations! You won a wooden rabbit!\"\n",
        "elif points <= 150:\n",
        "    result = \"Oh dear, no prize this time.\"\n",
        "elif points <= 180:\n",
        "    result = \"Congratulations! You won a wafer-thin mint!\"\n",
        "else:\n",
        "    result = \"Congratulations! You won a penguin!\"\n",
        "\n",
        "print(result)\n",
        "```\n",
        "\n",
        "\n",
        "\n"
      ],
      "metadata": {
        "id": "CMPMobtgUu0e"
      }
    },
    {
      "cell_type": "markdown",
      "source": [
        "You will use a new variable `prize` to store a prize name if one was won, and then use the truth value of this variable to compose the `result` message. This will involve two `if` statements.\n",
        "\n",
        "**1st conditional statement:** update `prize` to the correct prize name based on `points`.\n",
        "\n",
        "**2nd conditional statement:** set result to the correct phrase based on whether prize is evaluated as True or False.\n",
        "\n",
        "* If `prize` is None, `result` should be set to `\"Oh dear, no prize this time.\"`\n",
        "* If `prize` contains a prize name, result should be set to `\"Congratulations! You won a {}!\".format(prize)`. This will avoid having the multiple result assignments for different prizes.\n",
        "At the beginning of your code, set prize to None, as the default value."
      ],
      "metadata": {
        "id": "qcxMJfLOU-aF"
      }
    },
    {
      "cell_type": "markdown",
      "source": [
        "```\n",
        "points = 174  # use this as input for your submission\n",
        "\n",
        "# establish the default prize value to None\n",
        "\n",
        "\n",
        "# use the points value to assign prizes to the correct prize names\n",
        "\n",
        "\n",
        "# use the truth value of prize to assign result to the correct prize\n",
        "\n",
        "\n",
        "print(result)\n",
        "```"
      ],
      "metadata": {
        "id": "sL2vSSQRVtEi"
      }
    },
    {
      "cell_type": "code",
      "source": [
        "points = 174\n",
        "\n",
        "points = 174  # use this input when submitting your answer\n",
        "\n",
        "# set prize to default value of None\n",
        "prize = None\n",
        "\n",
        "# use the value of points to assign prize to the correct prize name\n",
        "if points <= 50:\n",
        "    prize = \"wooden rabbit\"\n",
        "elif 151 <= points <= 180:\n",
        "    prize = \"wafer-thin mint\"\n",
        "elif points >= 181:\n",
        "    prize = \"penguin\"\n",
        "\n",
        "# use the truth value of prize to assign result to the correct message\n",
        "if prize:\n",
        "    result = \"Congratulations! You won a {}!\".format(prize)\n",
        "else:\n",
        "    result = \"Oh dear, no prize this time.\"\n",
        "\n",
        "print(result)"
      ],
      "metadata": {
        "colab": {
          "base_uri": "https://localhost:8080/"
        },
        "id": "VySEZqJJUnq0",
        "outputId": "2244e7da-42fd-405e-f545-4937cc7186a3"
      },
      "execution_count": null,
      "outputs": [
        {
          "output_type": "stream",
          "name": "stdout",
          "text": [
            "Congratulations! You won a wafer-thin mint!\n"
          ]
        }
      ]
    },
    {
      "cell_type": "markdown",
      "source": [
        "We first set `prize` to `None` and then update it only if falls into a bracket that results in winning a prize. This is accomplished in the first `if` statement. We then use the truth value of prize to assign result to a message based on whether a `prize` was won.\n",
        "\n",
        "Remember when `prize = \"penguin\"`, or any other non-empty string, then the `if prize` condition is `True`!"
      ],
      "metadata": {
        "id": "FLrsp-E1WBbA"
      }
    },
    {
      "cell_type": "markdown",
      "source": [
        "# **For Loops**\n",
        "Python has two kinds of loops - `for` loops and `while` loops. A `for` loop is used to \"iterate\", or do something repeatedly, over an **iterable**.\n",
        "\n",
        "An **iterable** is an object that can return one of its elements at a time. This can include sequence types, such as strings, lists, and tuples, as well as non-sequence types, such as dictionaries and files.\n",
        "\n",
        "### **Example**\n",
        "Let's break down the components of a `for` loop, using this example with the list `cities`:\n",
        "```\n",
        "cities = ['new york city', 'mountain view', 'chicago', 'los angeles']\n",
        "for city in cities:\n",
        "    print(city)\n",
        "print(\"Done!\")\n",
        "```\n",
        "\n"
      ],
      "metadata": {
        "id": "VFmmDIDMw6g0"
      }
    },
    {
      "cell_type": "code",
      "source": [
        "cities = ['new york city', 'mountain view', 'chicago', 'los angeles']\n",
        "for city in cities:\n",
        "    print(city)\n",
        "print(\"Done!\")"
      ],
      "metadata": {
        "colab": {
          "base_uri": "https://localhost:8080/"
        },
        "id": "_BKFrTJsdulf",
        "outputId": "78adba2f-92ce-4737-8e0c-bd1d6c729695"
      },
      "execution_count": null,
      "outputs": [
        {
          "output_type": "stream",
          "name": "stdout",
          "text": [
            "new york city\n",
            "mountain view\n",
            "chicago\n",
            "los angeles\n",
            "Done!\n"
          ]
        }
      ]
    },
    {
      "cell_type": "markdown",
      "source": [
        "## **Components of a `for` Loop**\n",
        "1. The first line of the loop starts with the `for` keyword, which signals that this is a `for` loop\n",
        "2. Following that is `city in cities`, indicating `city` is the iteration variable, and `cities` is the iterable being looped over. In the first iteration of the loop, `city` gets the value of the first element in `cities`, which is `“new york city”`.\n",
        "3. The `for` loop heading line always ends with a colon `:`\n",
        "4. Following the `for` loop heading is an indented block of code, the body of the loop, to be executed in each iteration of this loop. There is only one line in the body of this loop - `print(city)`.\n",
        "5. After the body of the loop has executed, we don't move on to the next line yet; we go back to the `for` heading line, where the iteration variable takes the value of the next element of the iterable. In the second iteration of the loop above, `city` takes the value of the next element in` cities`, which is \"mountain view\".\n",
        "6. This process repeats until the loop has iterated through all the elements of the iterable. Then, we move on to the line that follows the body of the loop - in this case, `print(\"Done!\")`. We can tell what the next line after the body of the loop is because it is unindented. Here is another reason why paying attention to your indentation is very important in Python!\n",
        "\n",
        "Executing the code in the example above produces this output:\n",
        "```\n",
        "new york city\n",
        "mountain view\n",
        "chicago\n",
        "los angeles\n",
        "Done!\n",
        "```\n",
        "\n",
        "You can name iteration variables however you like. A common pattern is to give the iteration variable and iterable the same names, except the singular and plural versions respectively (e.g., 'city' and 'cities')."
      ],
      "metadata": {
        "id": "3dm9owGg-4HN"
      }
    },
    {
      "cell_type": "markdown",
      "source": [
        "## **Using the `range()` Function with `for` Loops**\n",
        "`range()` is a built-in function used to create an iterable sequence of numbers. You will frequently use `range()` with a `for` loop to repeat an action a certain number of times. Any variable can be used to iterate through the numbers, but Python programmers conventionally use `i`, as in this example:\n",
        "```\n",
        "for i in range(3):\n",
        "    print(\"Hello!\")\n",
        "```\n",
        "\n",
        "Output:\n",
        "```\n",
        "Hello!\n",
        "Hello!\n",
        "Hello!\n",
        "```\n",
        "\n",
        "**`range(start=0, stop, step=1)`**\n",
        "\n",
        "\n",
        "The `range()` function takes three integer arguments, the first and third of which are optional:\n",
        "\n",
        "* The 'start' argument is the first number of the sequence. If unspecified, 'start' defaults to 0.\n",
        "* The 'stop' argument is 1 more than the last number of the sequence. This argument must be specified.\n",
        "* The 'step' argument is the difference between each number in the sequence. If unspecified, 'step' defaults to 1.\n",
        "\n",
        "**Notes on using `range()`:**\n",
        "\n",
        "* If you specify one integer inside the parentheses with `range()`, it's used as the value for 'stop,' and the defaults are used for the other two.\n",
        "\n",
        "**e.g.** - `range(4)` returns `0, 1, 2, 3`\n",
        "* If you specify two integers inside the parentheses with `range()`, they're used for 'start' and 'stop,' and the default is used for 'step.'\n",
        "\n",
        "**e.g** - `range(2, 6)` returns `2, 3, 4, 5`\n",
        "* Or you can specify all three integers for 'start', 'stop', and 'step.'\n",
        "\n",
        "**e.g.** - `range(1, 10, 2)` returns `1, 3, 5, 7, 9`"
      ],
      "metadata": {
        "id": "xfNs7qPN_kSz"
      }
    },
    {
      "cell_type": "markdown",
      "source": [
        "### **Creating and Modifying Lists**\n",
        "In addition to extracting information from lists, as we did in the first example above, you can also create and modify lists with `for` loops. You can **create** a list by appending to a new list at each iteration of the `for` loop like this:\n",
        "\n",
        "```\n",
        "# Creating a new list\n",
        "cities = ['new york city', 'mountain view', 'chicago', 'los angeles']\n",
        "capitalized_cities = []\n",
        "\n",
        "for city in cities:\n",
        "    capitalized_cities.append(city.title())\n",
        "```\n",
        "\n",
        "**Modifying** a list is a bit more involved, and requires the use of the `range()` function.\n",
        "\n",
        "We can use the `range()` function to generate the indices for each value in the `cities` list. This lets us access the elements of the list with `cities[index]` so that we can modify the values in the `cities` list in place.\n",
        "```\n",
        "cities = ['new york city', 'mountain view', 'chicago', 'los angeles']\n",
        "\n",
        "for index in range(len(cities)):\n",
        "    cities[index] = cities[index].title()\n",
        "```\n",
        "\n",
        "\n",
        "\n"
      ],
      "metadata": {
        "id": "2xXej9doAtHz"
      }
    },
    {
      "cell_type": "code",
      "source": [
        "cities = ['new york city', 'mountain view', 'chicago', 'los angeles']\n",
        "\n",
        "for index in range(len(cities)):\n",
        "    cities[index] = cities[index].title()\n",
        "\n",
        "print(cities)"
      ],
      "metadata": {
        "colab": {
          "base_uri": "https://localhost:8080/"
        },
        "id": "S_aacQFmehoL",
        "outputId": "264c9d78-64fc-4dbe-ba59-fa0e064d25f0"
      },
      "execution_count": null,
      "outputs": [
        {
          "output_type": "stream",
          "name": "stdout",
          "text": [
            "['New York City', 'Mountain View', 'Chicago', 'Los Angeles']\n"
          ]
        }
      ]
    },
    {
      "cell_type": "markdown",
      "source": [
        "# **Practice: Quick Brown Fox**\n",
        "Use a `for loop` to take a list and print each element of the list in its own line.\n",
        "\n",
        "Example:\n",
        "```\n",
        "sentence = [\"the\", \"quick\", \"brown\", \"fox\", \"jumped\", \"over\", \"the\", \"lazy\", \"dog\"]\n",
        "```\n",
        "\n",
        "Output:\n",
        "```\n",
        "the\n",
        "quick\n",
        "brown\n",
        "fox\n",
        "jumped\n",
        "over\n",
        "the\n",
        "lazy\n",
        "dog\n",
        "```\n",
        "\n"
      ],
      "metadata": {
        "id": "CyAHZ2mHCC1_"
      }
    },
    {
      "cell_type": "code",
      "source": [
        "sentence = [\"the\", \"quick\", \"brown\", \"fox\", \"jumped\", \"over\", \"the\", \"lazy\", \"dog\"]\n",
        "\n",
        "# Write a for loop to print out each word in the sentence list, one word per line\n",
        "for word in sentence:\n",
        "    print(word)\n"
      ],
      "metadata": {
        "id": "ND6jcJ1beR7v",
        "colab": {
          "base_uri": "https://localhost:8080/"
        },
        "outputId": "37b6c17d-66ae-431e-ff3a-705a48fd7a99"
      },
      "execution_count": null,
      "outputs": [
        {
          "output_type": "stream",
          "name": "stdout",
          "text": [
            "the\n",
            "quick\n",
            "brown\n",
            "fox\n",
            "jumped\n",
            "over\n",
            "the\n",
            "lazy\n",
            "dog\n"
          ]
        }
      ]
    },
    {
      "cell_type": "markdown",
      "source": [
        "## **Practice: Multiples of 5**\n",
        "Write a `for loop` below that will print out every whole number that is a multiple of `5` and less than or equal to `30`.\n",
        "\n",
        "This should output:\n",
        "```\n",
        "5\n",
        "10\n",
        "15\n",
        "20\n",
        "25\n",
        "30\n",
        "```\n",
        "\n"
      ],
      "metadata": {
        "id": "WYId-WTNCUkX"
      }
    },
    {
      "cell_type": "code",
      "source": [
        "# Write a for loop using range() to print out multiples of 9 up to 200 inclusive\n",
        "for i in range(9, 200, 9):\n",
        "    print(i)\n",
        "\n"
      ],
      "metadata": {
        "id": "ozrqL7KHCgAG",
        "colab": {
          "base_uri": "https://localhost:8080/"
        },
        "outputId": "26e2b3f3-373f-4e71-ca54-acf37920f826"
      },
      "execution_count": null,
      "outputs": [
        {
          "output_type": "stream",
          "name": "stdout",
          "text": [
            "9\n",
            "18\n",
            "27\n",
            "36\n",
            "45\n",
            "54\n",
            "63\n",
            "72\n",
            "81\n",
            "90\n",
            "99\n",
            "108\n",
            "117\n",
            "126\n",
            "135\n",
            "144\n",
            "153\n",
            "162\n",
            "171\n",
            "180\n",
            "189\n",
            "198\n"
          ]
        }
      ]
    },
    {
      "cell_type": "markdown",
      "source": [
        "## **Quiz: Create Usernames**\n",
        "Write a `for` loop that iterates over the `names` list to create a `usernames` list. To create a username for each name, make everything lowercase and replace spaces with underscores. Running your `for` loop over the list:\n",
        "\n",
        "```\n",
        "names = [\"Joey Tribbiani\", \"Monica Geller\", \"Chandler Bing\", \"Phoebe Buffay\"]\n",
        "```\n",
        "\n",
        "should print out the `usernames` list:\n",
        "\n",
        "```\n",
        "[\"joey_tribbiani\", \"monica_geller\", \"chandler_bing\", \"phoebe_buffay\"]\n",
        "```\n",
        "\n",
        "**HINT:** Use the `.replace()` method to replace the spaces with underscores. Check out how to use this method in this [Stack Overflow answer.](https://stackoverflow.com/a/12723785)"
      ],
      "metadata": {
        "id": "Wj7hjAeYW-oi"
      }
    },
    {
      "cell_type": "code",
      "source": [
        "names = [\"Joey Tribbiani\", \"Monica Geller\", \"Chandler Bing\", \"Phoebe Buffay\"]\n",
        "usernames = []\n",
        "\n",
        "# write your for loop here\n",
        "for name in names:\n",
        "    usernames.append(name.lower().replace(\" \", \"_\"))\n",
        "\n",
        "print(usernames)\n",
        "print(names)"
      ],
      "metadata": {
        "colab": {
          "base_uri": "https://localhost:8080/"
        },
        "id": "ZpgYtZLpW5W7",
        "outputId": "a6755bbb-4f07-4571-a612-c1fe5460ec61"
      },
      "execution_count": null,
      "outputs": [
        {
          "output_type": "stream",
          "name": "stdout",
          "text": [
            "['joey_tribbiani', 'monica_geller', 'chandler_bing', 'phoebe_buffay']\n",
            "['Joey Tribbiani', 'Monica Geller', 'Chandler Bing', 'Phoebe Buffay']\n"
          ]
        }
      ]
    },
    {
      "cell_type": "markdown",
      "source": [
        "### **QUESTION 2 OF 5**\n",
        "Let's say instead of creating a new list, we want to modify the `names` list itself with the changes and write the following code. What would this do?"
      ],
      "metadata": {
        "id": "O5gGldUDXbnC"
      }
    },
    {
      "cell_type": "code",
      "source": [
        "names = [\"Joey Tribbiani\", \"Monica Geller\", \"Chandler Bing\", \"Phoebe Buffay\"]\n",
        "\n",
        "for name in names:\n",
        "    name = name.lower().replace(\" \", \"_\")\n",
        "\n",
        "print(names)"
      ],
      "metadata": {
        "colab": {
          "base_uri": "https://localhost:8080/"
        },
        "id": "SRp7k6AuXlMF",
        "outputId": "d2ca3fcf-1be6-4f14-d8e9-8f11b6713ef5"
      },
      "execution_count": null,
      "outputs": [
        {
          "output_type": "stream",
          "name": "stdout",
          "text": [
            "['Joey Tribbiani', 'Monica Geller', 'Chandler Bing', 'Phoebe Buffay']\n"
          ]
        }
      ]
    },
    {
      "cell_type": "markdown",
      "source": [
        "The printed output for the `names` list will look exactly like it did in the first line. During each iteration, the `name` variable is set to a string taken from the list. Then the assignment statement creates a new string (`name.lower().replace(\" \", \"_\")`) and changes the `name` variable to that string. It doesn't modify the contents of the `names` list at all. To modify the list you must operate on the list itself, using range, as you saw earlier."
      ],
      "metadata": {
        "id": "Yhz13AuEXycX"
      }
    },
    {
      "cell_type": "markdown",
      "source": [
        "## **Quiz: Modify Usernames with Range**\n",
        "Write a `for` loop that uses `range()` to iterate over the positions in `usernames` to modify the list. Like you did in the previous quiz, change each name to be lowercase and replace spaces with underscores. After running your loop, this list\n",
        "```\n",
        "usernames = [\"Joey Tribbiani\", \"Monica Geller\", \"Chandler Bing\", \"Phoebe Buffay\"]\n",
        "```\n",
        "\n",
        "should change to this:\n",
        "```\n",
        "usernames = [\"joey_tribbiani\", \"monica_geller\", \"chandler_bing\", \"phoebe_buffay\"]\n",
        "```"
      ],
      "metadata": {
        "id": "IKIPupsCYDI_"
      }
    },
    {
      "cell_type": "code",
      "source": [
        "usernames = [\"Joey Tribbiani\", \"Monica Geller\", \"Chandler Bing\", \"Phoebe Buffay\"]\n",
        "\n",
        "# write your for loop here\n",
        "for i in range(len(usernames)):\n",
        "    usernames[i] = usernames[i].lower().replace(\" \", \"_\")\n",
        "\n",
        "print(usernames)"
      ],
      "metadata": {
        "colab": {
          "base_uri": "https://localhost:8080/"
        },
        "id": "_vCCAvKaXmmn",
        "outputId": "c11cb924-a4b7-4019-ebc9-0f2dc8e0391e"
      },
      "execution_count": null,
      "outputs": [
        {
          "output_type": "stream",
          "name": "stdout",
          "text": [
            "['joey_tribbiani', 'monica_geller', 'chandler_bing', 'phoebe_buffay']\n"
          ]
        }
      ]
    },
    {
      "cell_type": "markdown",
      "source": [
        "## **Quiz: Tag Counter**\n",
        "Write a `for` loop that iterates over a list of strings, `tokens`, and counts how many of them are [XML tags](https://en.wikipedia.org/wiki/XML). XML is a data language similar to HTML. You can tell if a string is an XML tag if it begins with a left angle bracket \"<\" and ends with a right angle bracket \">\". Keep track of the number of tags using the variable `count`.\n",
        "\n",
        "You can assume that the list of strings will not contain empty strings."
      ],
      "metadata": {
        "id": "kNVwnW-uYS4k"
      }
    },
    {
      "cell_type": "code",
      "source": [
        "tokens = ['<greeting>', 'Hello World!', '</greeting>', 'html']\n",
        "count = 0\n",
        "\n",
        "# write your for loop here\n",
        "count = 0\n",
        "for token in tokens:\n",
        "    if token[0] == '<' and token[-1] == '>':\n",
        "        count += 1\n",
        "\n",
        "print(count)"
      ],
      "metadata": {
        "colab": {
          "base_uri": "https://localhost:8080/"
        },
        "id": "P9l2NBruYg_5",
        "outputId": "1517acf2-f61d-44cb-8079-c6df3d8c97e3"
      },
      "execution_count": null,
      "outputs": [
        {
          "output_type": "stream",
          "name": "stdout",
          "text": [
            "2\n"
          ]
        }
      ]
    },
    {
      "cell_type": "markdown",
      "source": [
        "## **Quiz: Create an HTML List**\n",
        "Write some code, including a `for` loop, that iterates over a list of strings and creates a single string, `html_str`, which is an HTML list. For example, if the list is `items = ['first string', 'second string']`, printing `html_str` should output:\n",
        "```\n",
        "<ul>\n",
        "<li>first string</li>\n",
        "<li>second string</li>\n",
        "</ul>\n",
        "```\n",
        "\n",
        "That is, the string's first line should be the opening tag `<ul>`. Following that is one line per element in the source list, surrounded by `<li>` and `</li>` tags. The final line of the string should be the closing tag `</ul>`."
      ],
      "metadata": {
        "id": "Jr8abYWIYku-"
      }
    },
    {
      "cell_type": "code",
      "source": [
        "items = ['first string', 'second string', 'uche', 'ty']\n",
        "html_str = \"<ul>\\n\"  # \"\\ n\" is the character that marks the end of the line, it does\n",
        "                     # the characters that are after it in html_str are on the next line\n",
        "\n",
        "# write your code here\n",
        "for item in items:\n",
        "    html_str += \"<li>{}</li>\\n\".format(item)\n",
        "html_str += \"</ul>\"\n",
        "\n",
        "print(html_str)"
      ],
      "metadata": {
        "colab": {
          "base_uri": "https://localhost:8080/"
        },
        "id": "lpvKt2loY8rV",
        "outputId": "04c77e43-0991-4226-db1c-0d5402ff225d"
      },
      "execution_count": null,
      "outputs": [
        {
          "output_type": "stream",
          "name": "stdout",
          "text": [
            "<ul>\n",
            "<li>first string</li>\n",
            "<li>second string</li>\n",
            "<li>uche</li>\n",
            "<li>ty</li>\n",
            "</ul>\n"
          ]
        }
      ]
    },
    {
      "cell_type": "code",
      "source": [
        "print(list(range(0,-5)))"
      ],
      "metadata": {
        "colab": {
          "base_uri": "https://localhost:8080/"
        },
        "id": "-hAyl-0YZX9p",
        "outputId": "46987202-1059-4a08-b420-ffda75895247"
      },
      "execution_count": null,
      "outputs": [
        {
          "output_type": "stream",
          "name": "stdout",
          "text": [
            "[]\n"
          ]
        }
      ]
    },
    {
      "cell_type": "markdown",
      "source": [
        "### Use the code below to complete the next quiz.\n",
        "```\n",
        "colors = ['Red', 'Blue', 'Green', 'Purple']\n",
        "lower_colors = [ ]\n",
        "\n",
        "for color in colors:\n",
        "    #finish this part\n",
        "    \n",
        "```\n",
        "\n",
        "### **QUESTION 2 OF 3**\n",
        "If you want to create a new list called lower_colors, where each color in colors is lower cased, which code line should be added into the for loop in the code block above?\n",
        "\n",
        "**A.** lower_colors[color.lower()]\n",
        "\n",
        "**B.** lower_colors.append(lower(color))\n",
        "\n",
        "**C.** lower_colors.add(color.lower())\n",
        "\n",
        "**D.** lower_colors.append(color.lower())"
      ],
      "metadata": {
        "id": "bRDkQ_7eaWPf"
      }
    },
    {
      "cell_type": "code",
      "source": [
        "colors = ['Red', 'Blue', 'Green', 'Purple']\n",
        "lower_colors = [ ]\n",
        "\n",
        "for color in colors:\n",
        "    lower_colors.append(color.lower())\n",
        "    \n",
        "print(lower_colors)"
      ],
      "metadata": {
        "colab": {
          "base_uri": "https://localhost:8080/"
        },
        "id": "GNednzTFbud3",
        "outputId": "2eb237d4-39f2-4f6f-d66d-9c960207f0b3"
      },
      "execution_count": null,
      "outputs": [
        {
          "output_type": "stream",
          "name": "stdout",
          "text": [
            "['red', 'blue', 'green', 'purple']\n"
          ]
        }
      ]
    },
    {
      "cell_type": "code",
      "source": [
        "import datetime\n",
        "now = datetime.datetime.now()\n",
        "\n"
      ],
      "metadata": {
        "id": "_A5xXgZ3bu-i"
      },
      "execution_count": null,
      "outputs": []
    },
    {
      "cell_type": "code",
      "source": [
        "from datetime import date\n",
        "\n",
        "today = date.today()\n",
        "print(\"Today's date:\", today)"
      ],
      "metadata": {
        "colab": {
          "base_uri": "https://localhost:8080/"
        },
        "id": "BcUyq151q-PA",
        "outputId": "a97dc367-9661-4dd8-9f63-d35482381f80"
      },
      "execution_count": null,
      "outputs": [
        {
          "output_type": "stream",
          "name": "stdout",
          "text": [
            "Today's date: 2022-08-18\n"
          ]
        }
      ]
    },
    {
      "cell_type": "code",
      "source": [
        "from datetime import date\n",
        "\n",
        "today = date.today()\n",
        "\n",
        "# dd/mm/YY\n",
        "d1 = today.strftime(\"%d/%m/%Y\")\n",
        "print(\"d1 =\", d1)\n",
        "\n",
        "# Textual month, day and year\t\n",
        "d2 = today.strftime(\"%B %d, %Y\")\n",
        "print(\"d2 =\", d2)\n",
        "\n",
        "# mm/dd/y\n",
        "d3 = today.strftime(\"%m/%d/%y\")\n",
        "print(\"d3 =\", d3)\n",
        "\n",
        "# Month abbreviation, day and year\t\n",
        "d4 = today.strftime(\"%b-%d-%Y\")\n",
        "print(\"d4 =\", d4)"
      ],
      "metadata": {
        "colab": {
          "base_uri": "https://localhost:8080/"
        },
        "id": "SRF8gk1erQyz",
        "outputId": "d2f05077-df20-4524-e7eb-1f55a6bbdd7f"
      },
      "execution_count": null,
      "outputs": [
        {
          "output_type": "stream",
          "name": "stdout",
          "text": [
            "d1 = 18/08/2022\n",
            "d2 = August 18, 2022\n",
            "d3 = 08/18/22\n",
            "d4 = Aug-18-2022\n"
          ]
        }
      ]
    },
    {
      "cell_type": "markdown",
      "source": [
        "# **Building Dictionaries**\n",
        "By now you are familiar with two important concepts: 1) counting with `for` loops and 2) the dictionary `get` method. These two can actually be combined to create a useful counter dictionary, something you will likely come across again. For example, we can create a dictionary, `word_counter`, that keeps track of the total count of each word in a string.\n",
        "\n",
        "The following are a couple of ways to do it:\n",
        "\n",
        "### **Method 1: Using a `for` loop to create a set of counters**\n",
        "Let's start with a list containing the words in a series of book titles:\n",
        "\n",
        "```\n",
        "book_title =  ['great', 'expectations','the', 'adventures', 'of', 'sherlock','holmes','the','great','gasby','hamlet','adventures','of','huckleberry','fin']\n",
        "```\n",
        "\n",
        "**Step 1**: Create an empty dictionary.\n",
        "\n",
        "`word_counter = {}`\n",
        "\n",
        "**Step 2.** Iterate through each element in the list. If an element is already included in the dictionary, add 1 to its value. If not, add the element to the dictionary and set its value to 1.\n",
        "```\n",
        "for word in book_title:\n",
        "    if word not in word_counter:\n",
        "        word_counter[word] = 1\n",
        "    else:\n",
        "        word_counter[word] += 1\n",
        "```"
      ],
      "metadata": {
        "id": "fep6uJrZtkxR"
      }
    },
    {
      "cell_type": "markdown",
      "source": [
        "**What's happening here?**\n",
        "* The `for` loop iterates through each element in the list. For the first iteration, `word` takes the value 'great'.\n",
        "* Next, the if statement checks if `word` is in the `word_counter` dictionary.\n",
        "* Since it doesn't yet, the statement `word_counter[word] = 1` adds great as a key to the dictionary with a value of 1.\n",
        "* Then, it leaves the if else statement and moves on to the next iteration of the for loop. `word` now takes the value expectations and repeats the process.\n",
        "* When the if condition is not met, it is because that `word` already exists in the `word_counter` dictionary, and the statement `word_counter[word] = word_counter[word] + 1` increases the count of that word by 1.\n",
        "* Once the `for` loop finishes iterating through the list, the for loop is complete.\n",
        "\n",
        "We can see the output by printing out the dictionary. Printing word_counter results in the following output.\n",
        "```\n",
        "{'great': 2, 'expectations': 1, 'the': 2, 'adventures': 2, 'of': 2, 'sherlock': 1, 'holmes': 1, 'gasby': 1, 'hamlet': 1, 'huckleberry': 1, 'fin': 1}\n",
        "```\n",
        "\n"
      ],
      "metadata": {
        "id": "G8HZ0yfAtk34"
      }
    },
    {
      "cell_type": "markdown",
      "source": [
        "### **Method 2: Using the `get` method**\n",
        "We will use the same list for this example:\n",
        "```\n",
        "book_title =  ['great', 'expectations','the', 'adventures', 'of', 'sherlock','holmes','the','great','gasby','hamlet','adventures','of','huckleberry','fin']\n",
        "```\n",
        "**Step 1:** Create an empty dictionary.\n",
        "\n",
        "`word_counter = {}`\n",
        "\n",
        "**Step 2.** Iterate through each element, `get()` its value in the dictionary, and add 1.\n",
        "Recall that the dictionary `get` method is another way to retrieve the value of a key in a dictionary. Except unlike indexing, this will return a default value if the key is not found. If unspecified, this default value is set to None. We can use `get` with a default value of 0 to simplify the code from the first method above.\n",
        "```\n",
        "for word in book_title:\n",
        "    word_counter[word] = word_counter.get(word, 0) + 1\n",
        "```\n",
        "\n",
        "**What's happening here?**\n",
        "* The `for` loop iterates through the list as we saw earlier. The `for` loop feeds 'great' to the next statement in the body of the `for` loop.\n",
        "* In this line: `word_counter[word] = word_counter.get(word,0) + 1`, since the key *'great'* doesn't yet exist in the dictionary, `get()` will return the value 0 and `word_counter[word]` will be set to 1.\n",
        "* Once it encounters a word that already exists in `word_counter` (e.g. the second appearance of 'the'), the value for that key is incremented by 1. On the second appearance of 'the', the key's value would add 1 again, resulting in 2.\n",
        "* Once the `for` loop finishes iterating through the list, the for loop is complete.\n",
        "\n",
        "Printing word_counter shows us we get the same result as we did in method 1.\n",
        "```\n",
        "{'great': 2, 'expectations': 1, 'the': 2, 'adventures': 2, 'of': 2, 'sherlock': 1, 'holmes': 1, 'gasby': 1, 'hamlet': 1, 'huckleberry': 1, 'fin': 1}\n",
        "```\n"
      ],
      "metadata": {
        "id": "w163uBLtvbd7"
      }
    },
    {
      "cell_type": "markdown",
      "source": [
        "# **Iterating Through Dictionaries with `for` Loops**\n",
        "When you iterate through a dictionary using a `for` loop, doing it the normal way, like\n",
        "\n",
        "`for n in some_dict` , will only give you access to the **keys** in the dictionary - which is what you'd want in some situations. In other cases, you'd want to iterate through both the **keys** and **values** in the dictionary. Let's see how this is done in an example. Consider this dictionary that uses names of actors as keys and their characters as values.\n",
        "```\n",
        "cast = {\n",
        "           \"Jerry Seinfeld\": \"Jerry Seinfeld\",\n",
        "           \"Julia Louis-Dreyfus\": \"Elaine Benes\",\n",
        "           \"Jason Alexander\": \"George Costanza\",\n",
        "           \"Michael Richards\": \"Cosmo Kramer\"\n",
        "       }\n",
        "```\n",
        "\n",
        "Iterating through it in the usual way with a `for` loop would give you just the keys, as shown below:\n",
        "```\n",
        "for key in cast:\n",
        "    print(key)\n",
        "```\n",
        "\n",
        "This outputs:\n",
        "```\n",
        "Jerry Seinfeld\n",
        "Julia Louis-Dreyfus\n",
        "Jason Alexander\n",
        "Michael Richards\n",
        "```\n",
        "\n",
        "If you wish to iterate through both keys and values, you can use the built-in method `items` like this:\n",
        "```\n",
        "for key, value in cast.items():\n",
        "    print(\"Actor: {}    Role: {}\".format(key, value))\n",
        "```\n",
        "\n",
        "This outputs:\n",
        "```\n",
        "Actor: Jerry Seinfeld    Role: Jerry Seinfeld\n",
        "Actor: Julia Louis-Dreyfus    Role: Elaine Benes\n",
        "Actor: Jason Alexander    Role: George Costanza\n",
        "Actor: Michael Richards    Role: Cosmo Kramer\n",
        "```\n",
        "\n",
        "`items` is an awesome method that returns tuples of key, value pairs, which you can use to iterate over dictionaries in `for` loops."
      ],
      "metadata": {
        "id": "hGiBDBTgwzTc"
      }
    },
    {
      "cell_type": "markdown",
      "source": [
        "# **Quiz: Fruit Basket - Task 1**\n",
        "You would like to count the number of fruits in your basket. In order to do this, you have the following dictionary and list of fruits. Use the dictionary and list to count the total number of fruits, but you do not want to count the other items in your basket."
      ],
      "metadata": {
        "id": "W07YFWAd2rGL"
      }
    },
    {
      "cell_type": "code",
      "source": [
        "# You would like to count the number of fruits in your basket. \n",
        "# In order to do this, you have the following dictionary and list of\n",
        "# fruits.  Use the dictionary and list to count the total number\n",
        "# of fruits, but you do not want to count the other items in your basket.\n",
        "\n",
        "result = 0\n",
        "basket_items = {'apples': 4, 'oranges': 19, 'kites': 3, 'sandwiches': 8}\n",
        "fruits = ['apples', 'oranges', 'pears', 'peaches', 'grapes', 'bananas']\n",
        "\n",
        "#Iterate through the dictionary\n",
        "\n",
        "#if the key is in the list of fruits, add the value (number of fruits) to result\n",
        "\n",
        "\n",
        "print(result)"
      ],
      "metadata": {
        "id": "06UkowJFsARQ"
      },
      "execution_count": null,
      "outputs": []
    },
    {
      "cell_type": "markdown",
      "source": [
        "# **Quiz: Fruit Basket - Task 2**\n",
        "If your solution is robust, you should be able to use it with any dictionary of items to count the number of fruits in the basket. Try the loop for each of the dictionaries below to make sure it always works."
      ],
      "metadata": {
        "id": "6rFeFtzy2x-L"
      }
    },
    {
      "cell_type": "code",
      "source": [
        "#Example 1\n",
        "\n",
        "result = 0\n",
        "basket_items = {'pears': 5, 'grapes': 19, 'kites': 3, 'sandwiches': 8, 'bananas': 4}\n",
        "fruits = ['apples', 'oranges', 'pears', 'peaches', 'grapes', 'bananas']\n",
        "\n",
        "# Your previous solution here\n",
        "\n",
        "print(result)\n",
        "\n",
        "#Example 2\n",
        "\n",
        "result = 0\n",
        "basket_items = {'peaches': 5, 'lettuce': 2, 'kites': 3, 'sandwiches': 8, 'pears': 4}\n",
        "fruits = ['apples', 'oranges', 'pears', 'peaches', 'grapes', 'bananas']\n",
        "\n",
        "# Your previous solution here\n",
        "\n",
        "print(result)\n",
        "\n",
        "\n",
        "#Example 3\n",
        "\n",
        "result = 0\n",
        "basket_items = {'lettuce': 2, 'kites': 3, 'sandwiches': 8, 'pears': 4, 'bears': 10}\n",
        "fruits = ['apples', 'oranges', 'pears', 'peaches', 'grapes', 'bananas']\n",
        "\n",
        "# Your previous solution here\n",
        "\n",
        "print(result)\n"
      ],
      "metadata": {
        "id": "uS0hv4li244k"
      },
      "execution_count": null,
      "outputs": []
    },
    {
      "cell_type": "markdown",
      "source": [
        "# **Quiz: Fruit Basket - Task 3**\n",
        "So, a couple of things about the above examples:\n",
        "\n",
        "1. It is a bit annoying having to copy and paste all the code to each spot - wouldn't it be nice to have a way to repeat the process without copying all the code? Don't worry! You will learn how to do this in the next lesson!\n",
        "\n",
        "\n",
        "2. It would be nice to keep track of both the number of fruits and other items in the basket.\n",
        "\n",
        "Use the environment below to try out this second part."
      ],
      "metadata": {
        "id": "u-Vt3Gnz25k6"
      }
    },
    {
      "cell_type": "code",
      "source": [
        "# You would like to count the number of fruits in your basket. \n",
        "# In order to do this, you have the following dictionary and list of\n",
        "# fruits.  Use the dictionary and list to count the total number\n",
        "# of fruits and not_fruits.\n",
        "\n",
        "fruit_count, not_fruit_count = 0, 0\n",
        "basket_items = {'apples': 4, 'oranges': 19, 'kites': 3, 'sandwiches': 8}\n",
        "fruits = ['apples', 'oranges', 'pears', 'peaches', 'grapes', 'bananas']\n",
        "\n",
        "#Iterate through the dictionary\n",
        "\n",
        "#if the key is in the list of fruits, add to fruit_count.\n",
        "\n",
        "#if the key is not in the list, then add to the not_fruit_count\n",
        "\n",
        "\n",
        "print(fruit_count, not_fruit_count)"
      ],
      "metadata": {
        "id": "dOtwwIUc3ISV"
      },
      "execution_count": null,
      "outputs": []
    },
    {
      "cell_type": "markdown",
      "source": [
        "# **Solution: Fruit Basket - Tasks 1 & 2**"
      ],
      "metadata": {
        "id": "ExF9hI273JH9"
      }
    },
    {
      "cell_type": "code",
      "source": [
        "result = 0\n",
        "basket_items = {'apples': 4, 'oranges': 19, 'kites': 3, 'sandwiches': 8}\n",
        "fruits = ['apples', 'oranges', 'pears', 'peaches', 'grapes', 'bananas']\n",
        "\n",
        "for object, count in basket_items.items():\n",
        "   if object in fruits:\n",
        "       result += count\n",
        "\n",
        "print(\"There are {} fruits in the basket.\".format(result))"
      ],
      "metadata": {
        "colab": {
          "base_uri": "https://localhost:8080/"
        },
        "id": "Ws3xq-FlK5U5",
        "outputId": "efb42c11-4f6f-4e60-bf7f-3b9dd8f1dc3b"
      },
      "execution_count": null,
      "outputs": [
        {
          "output_type": "stream",
          "name": "stdout",
          "text": [
            "There are 23 fruits in the basket.\n"
          ]
        }
      ]
    },
    {
      "cell_type": "markdown",
      "source": [
        "# **Solution: Fruit Basket - Task 3**"
      ],
      "metadata": {
        "id": "UDMS3CXzK8jh"
      }
    },
    {
      "cell_type": "code",
      "source": [
        "fruit_count, not_fruit_count = 0, 0\n",
        "basket_items = {'apples': 4, 'oranges': 19, 'kites': 3, 'sandwiches': 8}\n",
        "fruits = ['apples', 'oranges', 'pears', 'peaches', 'grapes', 'bananas']\n",
        "\n",
        "#Iterate through the dictionary\n",
        "for object, count in basket_items.items():\n",
        "    if object in fruits:\n",
        "       fruit_count += count\n",
        "    else:\n",
        "        not_fruit_count += count\n",
        "\n",
        "print(\"The number of fruits is {}.  There are {} objects that are not fruits.\".format(fruit_count, not_fruit_count))"
      ],
      "metadata": {
        "colab": {
          "base_uri": "https://localhost:8080/"
        },
        "id": "xSbyVX5FK5-h",
        "outputId": "9510567f-cf96-4850-d4d1-dbdbeb7be911"
      },
      "execution_count": null,
      "outputs": [
        {
          "output_type": "stream",
          "name": "stdout",
          "text": [
            "The number of fruits is 23.  There are 11 objects that are not fruits.\n"
          ]
        }
      ]
    },
    {
      "cell_type": "markdown",
      "source": [
        "# **`While` Loops**\n",
        "`For` loops are an example of \"definite iteration\" meaning that the loop's body is run a predefined number of times. This differs from \"indefinite iteration\" which is when a loop repeats an unknown number of times and ends when some condition is met, which is what happens in a `while` loop. Here's an example of a `while` loop.\n",
        "```\n",
        "card_deck = [4, 11, 8, 5, 13, 2, 8, 10]\n",
        "hand = []\n",
        "\n",
        "# adds the last element of the card_deck list to the hand list\n",
        "# until the values in hand add up to 17 or more\n",
        "while sum(hand)  < 17:\n",
        "    hand.append(card_deck.pop())\n",
        "```\n",
        "\n",
        "This example features two new functions. `sum` returns the sum of the elements in a list, and pop is a list method that removes the last element from a list and returns it."
      ],
      "metadata": {
        "id": "pkrAD6UoLF_Y"
      }
    },
    {
      "cell_type": "markdown",
      "source": [
        "## **Components of a `While` Loop**\n",
        "1. The first line starts with the `while` keyword, indicating this is a `while` loop.\n",
        "2. Following that is a condition to be checked. In this example, that's `sum(hand) <= 17`.\n",
        "3. The `while` loop heading always ends with a colon `:`.\n",
        "4. Indented after this heading is the body of the `while` loop. If the condition for the `while` loop is true, the code lines in the loop's body will be executed.\n",
        "5. We then go back to the `while` heading line, and the condition is evaluated again. This process of checking the condition and then executing the loop repeats until the condition becomes false.\n",
        "6. When the condition becomes false, we move on to the line following the body of the loop, which will be unindented.\n",
        "\n",
        "The indented body of the loop should modify at least one variable in the test condition. If the value of the test condition never changes, the result is an infinite loop!"
      ],
      "metadata": {
        "id": "43f6hrVAMQ6n"
      }
    },
    {
      "cell_type": "markdown",
      "source": [
        "## **Practice: Factorials with While Loops**\n",
        "Find the factorial of a number using a `while` loop.\n",
        "\n",
        "A **factorial** of a whole number is that number multiplied by every whole number between itself and 1. For example, 6 factorial (written \"6!\") equals 6 x 5 x 4 x 3 x 2 x 1 = 720. So 6! = 720.\n",
        "\n",
        "We can write a `while` loop to take any given number and figure out what its factorial is.\n",
        "\n",
        "Example: If `number` is 6, your code should compute and print the `product`, 720."
      ],
      "metadata": {
        "id": "cvRlX9zBOdRE"
      }
    },
    {
      "cell_type": "code",
      "source": [
        "# number to find the factorial of\n",
        "number = 6   \n",
        "\n",
        "# start with our product equal to one\n",
        "product = 1\n",
        "\n",
        "# track the current number being multiplied\n",
        "current = 1\n",
        "\n",
        "# write your while loop here\n",
        "\n",
        "    # multiply the product so far by the current number\n",
        "    \n",
        "    \n",
        "    # increment current with each iteration until it reaches number\n",
        "\n",
        "\n",
        "\n",
        "# print the factorial of number\n",
        "print(product)"
      ],
      "metadata": {
        "id": "BvO2upCFLBJi"
      },
      "execution_count": null,
      "outputs": []
    },
    {
      "cell_type": "markdown",
      "source": [
        "## **Practice: Factorials with For Loops**\n",
        "Now use a `for` loop to find the factorial!\n",
        "\n",
        "It will now be great practice `for` you to try to revise the code you wrote above to find the factorial of a number, but this time, using a for loop. Try it in the code editor below!"
      ],
      "metadata": {
        "id": "CqIGKJVbPMIC"
      }
    },
    {
      "cell_type": "code",
      "source": [
        "# number to find the factorial of\n",
        "number = 6   \n",
        "\n",
        "# start with our product equal to one\n",
        "product = 1\n",
        "\n",
        "# write your for loop here\n",
        "\n",
        "\n",
        "\n",
        "# print the factorial of number\n",
        "print(product)"
      ],
      "metadata": {
        "id": "_6lRYzv6PUhs"
      },
      "execution_count": null,
      "outputs": []
    },
    {
      "cell_type": "markdown",
      "source": [
        "# Solution: Factorials with While Loops"
      ],
      "metadata": {
        "id": "fI3pZNMiPZNd"
      }
    },
    {
      "cell_type": "code",
      "source": [
        "# number to find the factorial of\n",
        "number = 6\n",
        "# start with our product equal to one\n",
        "product = 1\n",
        "# track the current number being multiplied\n",
        "current = 1\n",
        "\n",
        "while  current <= number:\n",
        "    # multiply the product so far by the current number\n",
        "    product *= current\n",
        "    # increment current with each iteration until it reaches number\n",
        "    current += 1\n",
        "\n",
        "\n",
        "# print the factorial of number\n",
        "print(product)"
      ],
      "metadata": {
        "colab": {
          "base_uri": "https://localhost:8080/"
        },
        "id": "-dfLP5SMRJgy",
        "outputId": "b57cdb11-f015-422e-e203-8e740a8574d3"
      },
      "execution_count": null,
      "outputs": [
        {
          "output_type": "stream",
          "name": "stdout",
          "text": [
            "720\n"
          ]
        }
      ]
    },
    {
      "cell_type": "markdown",
      "source": [
        "# **Solution: Factorials with For Loops**\n",
        "Here is the solution for this one, using a for loop to find the factorial of a number:"
      ],
      "metadata": {
        "id": "YHt5kuZeRPf4"
      }
    },
    {
      "cell_type": "code",
      "source": [
        "# number we'll find the factorial of\n",
        "number = 6\n",
        "# start with our product equal to one\n",
        "product = 1\n",
        "\n",
        "# calculate factorial of number with a for loop\n",
        "for num in range(2, number + 1):\n",
        "    product *= num\n",
        "\n",
        "# print the factorial of number\n",
        "print(product)\n"
      ],
      "metadata": {
        "colab": {
          "base_uri": "https://localhost:8080/"
        },
        "id": "U65Quq4wRNFa",
        "outputId": "c277b0a1-2269-4884-c9fe-628af3dac38f"
      },
      "execution_count": null,
      "outputs": [
        {
          "output_type": "stream",
          "name": "stdout",
          "text": [
            "720\n"
          ]
        }
      ]
    },
    {
      "cell_type": "markdown",
      "source": [
        "# **Quiz: Count By**\n",
        "Suppose you want to count from some number `start_num` by another number `count_by` until you hit a final number end_num. Use `break_num` as the variable that you'll change each time through the loop. For simplicity, assume that `end_num` is always larger than `start_num` and `count_by` is always positive.\n",
        "\n",
        "Before the loop, what do you want to set `break_num` equal to? How do you want to change `break_num` each time through the loop? What condition will you use to see when it's time to stop looping?\n",
        "\n",
        "After the loop is done, print out `break_num`, showing the value that indicated it was time to stop looping. It is the case that `break_num` should be a number that is the first number larger than `end_num`."
      ],
      "metadata": {
        "id": "13e5NLvWRX5B"
      }
    },
    {
      "cell_type": "code",
      "source": [
        "start_num = #provide some start number\n",
        "end_num = #provide some end number that you stop when you hit\n",
        "count_by = #provide some number to count by \n",
        "\n",
        "# write a while loop that uses break_num as the ongoing number to \n",
        "#   check against end_num\n",
        "\n",
        "\n",
        "print(break_num)"
      ],
      "metadata": {
        "id": "1xlSgVDURVFx"
      },
      "execution_count": null,
      "outputs": []
    },
    {
      "cell_type": "markdown",
      "source": [
        "# **Quiz: Count By Check**\n",
        "Suppose you want to count from some number `start_num` by another number `count_by` until you hit a final number `end_num`, and calculate `break_num` the way you did in the last quiz.\n",
        "\n",
        "Now in addition, address what would happen if someone gives a `start_num` that is greater than `end_num`. If this is the case, set result to `\"Oops! Looks like your start value is greater than the end value. Please try again.\"` Otherwise, set `result` to the value of break_num."
      ],
      "metadata": {
        "id": "W72ESc8PRsSC"
      }
    },
    {
      "cell_type": "code",
      "source": [
        "start_num = #provide some start number\n",
        "end_num = #provide some end number that you stop when you hit\n",
        "count_by = #provide some number to count by \n",
        "\n",
        "# write a condition to check that end_num is larger than start_num before looping\n",
        "# write a while loop that uses break_num as the ongoing number to \n",
        "#   check against end_num\n",
        "\n",
        "\n",
        "print(result)"
      ],
      "metadata": {
        "id": "KSj-mvfCXYuW"
      },
      "execution_count": null,
      "outputs": []
    },
    {
      "cell_type": "markdown",
      "source": [
        "# **Quiz: Nearest Square**\n",
        "Write a `while` loop that finds the largest square number less than an integer `limit` and stores it in a variable `nearest_square`. A square number is the product of an integer multiplied by itself, for example 36 is a square number because it equals 6*6.\n",
        "\n",
        "For example, if `limit` is 40, your code should set the `nearest_square` to 36."
      ],
      "metadata": {
        "id": "39piCrj6XZsl"
      }
    },
    {
      "cell_type": "code",
      "source": [
        "limit = 40\n",
        "\n",
        "# write your while loop here\n",
        "\n",
        "\n",
        "print(nearest_square)"
      ],
      "metadata": {
        "id": "ADiN7hrhXl2c"
      },
      "execution_count": null,
      "outputs": []
    },
    {
      "cell_type": "markdown",
      "source": [
        "## **Solution: Count By**"
      ],
      "metadata": {
        "id": "Fa4TIdBvXmd1"
      }
    },
    {
      "cell_type": "code",
      "source": [
        "start_num = 5\n",
        "end_num = 100\n",
        "count_by = 2\n",
        "\n",
        "break_num = start_num\n",
        "while break_num < end_num:\n",
        "    break_num += count_by\n",
        "\n",
        "print(break_num)"
      ],
      "metadata": {
        "colab": {
          "base_uri": "https://localhost:8080/"
        },
        "id": "LWFtWYWlXq7I",
        "outputId": "46592641-64bb-4551-f0f9-f917e1f25cd8"
      },
      "execution_count": null,
      "outputs": [
        {
          "output_type": "stream",
          "name": "stdout",
          "text": [
            "101\n"
          ]
        }
      ]
    },
    {
      "cell_type": "markdown",
      "source": [
        "## **Another Example Output:**\n",
        "If we used the same code above, except with these starting values:"
      ],
      "metadata": {
        "id": "4CwMXNENXvpV"
      }
    },
    {
      "cell_type": "code",
      "source": [
        "start_num = 300\n",
        "end_num = 548\n",
        "count_by = 23\n",
        "\n",
        "break_num = start_num\n",
        "while break_num < end_num:\n",
        "    break_num += count_by\n",
        "\n",
        "print(break_num)"
      ],
      "metadata": {
        "colab": {
          "base_uri": "https://localhost:8080/"
        },
        "id": "HMEr0Tz_Xsog",
        "outputId": "a2d2f601-a99c-454a-8d64-7dffc0e5296b"
      },
      "execution_count": null,
      "outputs": [
        {
          "output_type": "stream",
          "name": "stdout",
          "text": [
            "553\n"
          ]
        }
      ]
    },
    {
      "cell_type": "markdown",
      "source": [
        "## **Quiz: Count By Check**\n"
      ],
      "metadata": {
        "id": "xNcmdLPDYBs_"
      }
    },
    {
      "cell_type": "code",
      "source": [
        "start_num = 5\n",
        "end_num = 100\n",
        "count_by = 2\n",
        "\n",
        "if start_num > end_num:\n",
        "    result = \"Oops! Looks like your start value is greater than the end value. Please try again.\"\n",
        "\n",
        "else:\n",
        "    break_num = start_num\n",
        "    while break_num < end_num:\n",
        "        break_num += count_by\n",
        "\n",
        "    result = break_num\n",
        "\n",
        "print(result)"
      ],
      "metadata": {
        "colab": {
          "base_uri": "https://localhost:8080/"
        },
        "id": "rW9UBXweXzIQ",
        "outputId": "c345b293-efcb-4140-d94a-969549038d87"
      },
      "execution_count": null,
      "outputs": [
        {
          "output_type": "stream",
          "name": "stdout",
          "text": [
            "101\n"
          ]
        }
      ]
    },
    {
      "cell_type": "markdown",
      "source": [
        "### **Another Example Output:**\n",
        "If we used the same code above, except with these starting values:"
      ],
      "metadata": {
        "id": "yViVDKigYJxw"
      }
    },
    {
      "cell_type": "code",
      "source": [
        "start_num = 199\n",
        "end_num = 4\n",
        "count_by = 10\n",
        "\n",
        "if start_num > end_num:\n",
        "    result = \"Oops! Looks like your start value is greater than the end value. Please try again.\"\n",
        "\n",
        "else:\n",
        "    break_num = start_num\n",
        "    while break_num < end_num:\n",
        "        break_num += count_by\n",
        "\n",
        "    result = break_num\n",
        "\n",
        "print(result)"
      ],
      "metadata": {
        "colab": {
          "base_uri": "https://localhost:8080/"
        },
        "id": "vpmfI7jDYGty",
        "outputId": "19417ffd-b5ad-4bf3-ebf4-f14ad048cfbc"
      },
      "execution_count": null,
      "outputs": [
        {
          "output_type": "stream",
          "name": "stdout",
          "text": [
            "Oops! Looks like your start value is greater than the end value. Please try again.\n"
          ]
        }
      ]
    },
    {
      "cell_type": "markdown",
      "source": [
        "## **Solution: Nearest Square**"
      ],
      "metadata": {
        "id": "QcmwRTnJZd42"
      }
    },
    {
      "cell_type": "code",
      "source": [
        "limit = 40\n",
        "\n",
        "num = 0\n",
        "while (num+1)**2 < limit:\n",
        "    num += 1\n",
        "nearest_square = num**2\n",
        "\n",
        "print(nearest_square)"
      ],
      "metadata": {
        "colab": {
          "base_uri": "https://localhost:8080/"
        },
        "id": "rGMaPjDsZbdY",
        "outputId": "a9bd6e11-17a5-46a4-b8cc-d37ad802d598"
      },
      "execution_count": null,
      "outputs": [
        {
          "output_type": "stream",
          "name": "stdout",
          "text": [
            "36\n"
          ]
        }
      ]
    },
    {
      "cell_type": "markdown",
      "source": [
        "## **For Loops Vs. While Loops**\n",
        "We are familiar with both for and while loops, let's consider when it's most helpful to use each of them.\n",
        "\n",
        "**`for`** loops are ideal when the **number of iterations is known or finite.**\n",
        "\n",
        "Examples:\n",
        "\n",
        "* When you have an iterable collection (list, string, set, tuple, dictionary)\n",
        "  * `for name in names:`\n",
        "* When you want to iterate through a loop for a definite number of times, using `range()`\n",
        "  * `for i in range(5):`\n",
        "\n",
        "`while` loops are ideal when the **iterations need to continue until a condition is met.**\n",
        "\n",
        "Examples:\n",
        "\n",
        "* When you want to use comparison operators\n",
        "  * `while count <= 100:`\n",
        "* When you want to loop based on receiving specific user input.\n",
        "  * `while user_input == 'y':`\n",
        "\n",
        "*Check out these webpages to see more examples on this topic:*\n",
        "\n",
        "* StackOverflow [discussion](https://stackoverflow.com/questions/920645/when-to-use-while-or-for-in-python).\n",
        "* Wiki page on [Python.org](https://wiki.python.org/moin/WhileLoop)"
      ],
      "metadata": {
        "id": "W7Cn1P2ibf7D"
      }
    },
    {
      "cell_type": "markdown",
      "source": [
        "## **Question: What type of loop should we use?**\n",
        "You need to write a loop that takes the numbers in a given list named `num_list:`\n",
        "```\n",
        "num_list = [422, 136, 524, 85, 96, 719, 85, 92, 10, 17, 312, 542, 87, 23, 86, 191, 116, 35, 173, 45, 149, 59, 84, 69, 113, 166]\n",
        "```\n",
        "\n",
        "Your code should add up the odd numbers in the list, but only up to the first 5 odd numbers together. If there are more than 5 odd numbers, you should stop at the fifth. If there are fewer than 5 odd numbers, add all of the odd numbers.\n",
        "\n",
        "**Would you use a `while` or a `for` loop to write this code?**\n",
        "\n",
        "We have provided our solution on the next page. Feel free to use the coding playground below to test your code."
      ],
      "metadata": {
        "id": "BxI1MN7ye04F"
      }
    },
    {
      "cell_type": "code",
      "source": [
        "## Please use this space to test and run your code\n",
        "\n"
      ],
      "metadata": {
        "id": "B8h-C1bnZy_C"
      },
      "execution_count": null,
      "outputs": []
    },
    {
      "cell_type": "markdown",
      "source": [
        "## **Solution: What type of loop should we use?**\n",
        "**Question:** You need to write a loop that takes the numbers in a given list named num_list:\n",
        "```\n",
        "num_list = [422, 136, 524, 85, 96, 719, 85, 92, 10, 17, 312, 542, 87, 23, 86, 191, 116, 35, 173, 45, 149, 59, 84, 69, 113, 166]\n",
        "```\n",
        "\n",
        "Your code should add up the odd numbers in the list, but only up to the first 5 odd numbers together. If there are more than 5 odd numbers, you should stop at the fifth. If there are fewer than 5 odd numbers, add all of the odd numbers.\n",
        "\n",
        "**Solution:**\n",
        "We would write a `while` loop to write this code for the following reasons:\n",
        "\n",
        "1. We don't need a `break` statement that a `for` loop will require. Without a `break` statement, a for loop will iterate through the whole list, which is not efficient.\n",
        "2. We don't want to iterate over the entire list, but only over the required number of elements in the list that meets our condition.\n",
        "It is easier to understand because you explicitly control the exit conditions for the loop."
      ],
      "metadata": {
        "id": "fmtQLXh_fKdk"
      }
    },
    {
      "cell_type": "code",
      "source": [
        "num_list = [422, 136, 524, 85, 96, 719, 85, 92, 10, 17, 312, 542, 87, 23, 86, 191, 116, 35, 173, 45, 149, 59, 84, 69, 113, 166]\n",
        "\n",
        "count_odd = 0\n",
        "list_sum = 0\n",
        "i = 0\n",
        "len_num_list = len(num_list)\n",
        "\n",
        "while (count_odd < 5) and (i < len_num_list): \n",
        "    if num_list[i] % 2 != 0:\n",
        "        list_sum += num_list[i]\n",
        "        count_odd += 1\n",
        "    i += 1\n",
        "\n",
        "print (\"The numbers of odd numbers added are: {}\".format(count_odd))\n",
        "print (\"The sum of the odd numbers added is: {}\".format(list_sum))"
      ],
      "metadata": {
        "colab": {
          "base_uri": "https://localhost:8080/"
        },
        "id": "65HALQtzfkFX",
        "outputId": "e2196dd9-b3d9-452e-f792-5500c317454a"
      },
      "execution_count": null,
      "outputs": [
        {
          "output_type": "stream",
          "name": "stdout",
          "text": [
            "The numbers of odd numbers added are: 5\n",
            "The sum of the odd numbers added is: 993\n"
          ]
        }
      ]
    },
    {
      "cell_type": "markdown",
      "source": [
        "*Consider this:* If the question was to identify if each number in the list is an odd or even number, then a `for` loop makes better sense. In that case, you need to loop through each element in the list. However, in the question above, as long as you have the sum of the first five odd numbers (the condition), you can stop going through the list and don't need to go through the rest of the elements."
      ],
      "metadata": {
        "id": "u2On04XWfnP3"
      }
    },
    {
      "cell_type": "markdown",
      "source": [
        "# **Break, Continue**\n",
        "Sometimes we need more control over when a loop should end, or skip an iteration. In these cases, we use the `break` and `continue` keywords, which can be used in both `for` and `while` loops.\n",
        "\n",
        "* `break` terminates a loop\n",
        "* `continue` skips one iteration of a loop\n",
        "Watch the video and experiment with the examples below to see how these can be helpful.\n",
        "\n",
        "# **Try It Out!**\n",
        "Below, you'll find two methods to solve the cargo loading program from the video. The first one is simply the one found in the video, which breaks from the loop when the weight reaches the limit. However, we found several problems with this. The second method addresses these issues by modifying the conditional statement and adding `continue`. The code below shows the results!"
      ],
      "metadata": {
        "id": "HehAhBNhf2xl"
      }
    },
    {
      "cell_type": "code",
      "source": [
        "manifest = [(\"bananas\", 15), (\"mattresses\", 24), (\"dog kennels\", 42), (\"machine\", 120), (\"cheeses\", 5)]\n",
        "\n",
        "# the code breaks the loop when weight exceeds or reaches the limit\n",
        "print(\"METHOD 1\")\n",
        "weight = 0\n",
        "items = []\n",
        "for cargo_name, cargo_weight in manifest:\n",
        "    print(\"current weight: {}\".format(weight))\n",
        "    if weight >= 100:\n",
        "        print(\"  breaking loop now!\")\n",
        "        break\n",
        "    else:\n",
        "        print(\"  adding {} ({})\".format(cargo_name, cargo_weight))\n",
        "        items.append(cargo_name)\n",
        "        weight += cargo_weight\n",
        "\n",
        "print(\"\\nFinal Weight: {}\".format(weight))\n",
        "print(\"Final Items: {}\".format(items))\n",
        "\n",
        "# skips an iteration when adding an item would exceed the limit\n",
        "# breaks the loop if weight is exactly the value of the limit\n",
        "print(\"\\nMETHOD 2\")\n",
        "weight = 0\n",
        "items = []\n",
        "for cargo_name, cargo_weight in manifest:\n",
        "    print(\"current weight: {}\".format(weight))\n",
        "    if weight >= 100:\n",
        "        print(\"  breaking from the loop now!\")\n",
        "        break\n",
        "    elif weight + cargo_weight > 100:\n",
        "        print(\"  skipping {} ({})\".format(cargo_name, cargo_weight))\n",
        "        continue\n",
        "    else:\n",
        "        print(\"  adding {} ({})\".format(cargo_name, cargo_weight))\n",
        "        items.append(cargo_name)\n",
        "        weight += cargo_weight\n",
        "\n",
        "print(\"\\nFinal Weight: {}\".format(weight))\n",
        "print(\"Final Items: {}\".format(items))"
      ],
      "metadata": {
        "colab": {
          "base_uri": "https://localhost:8080/"
        },
        "id": "gRsnFgQGfkpw",
        "outputId": "90b47479-1e03-4097-952c-425306c0bebf"
      },
      "execution_count": null,
      "outputs": [
        {
          "output_type": "stream",
          "name": "stdout",
          "text": [
            "METHOD 1\n",
            "current weight: 0\n",
            "  adding bananas (15)\n",
            "current weight: 15\n",
            "  adding mattresses (24)\n",
            "current weight: 39\n",
            "  adding dog kennels (42)\n",
            "current weight: 81\n",
            "  adding machine (120)\n",
            "current weight: 201\n",
            "  breaking loop now!\n",
            "\n",
            "Final Weight: 201\n",
            "Final Items: ['bananas', 'mattresses', 'dog kennels', 'machine']\n",
            "\n",
            "METHOD 2\n",
            "current weight: 0\n",
            "  adding bananas (15)\n",
            "current weight: 15\n",
            "  adding mattresses (24)\n",
            "current weight: 39\n",
            "  adding dog kennels (42)\n",
            "current weight: 81\n",
            "  skipping machine (120)\n",
            "current weight: 81\n",
            "  adding cheeses (5)\n",
            "\n",
            "Final Weight: 86\n",
            "Final Items: ['bananas', 'mattresses', 'dog kennels', 'cheeses']\n"
          ]
        }
      ]
    },
    {
      "cell_type": "markdown",
      "source": [
        "# **Quiz: Break the String**\n",
        "Write a loop with a `break` statement to create a string,` news_ticker`, that is exactly 140 characters long. You should create the news ticker by adding `headlines` from the headlines list, inserting a space in between each headline. If necessary, truncate the last headline in the middle so that `news_ticker` is exactly 140 characters long.\n",
        "\n",
        "Remember that `break` works in both `for` and `while` loops. Use whichever loop seems most appropriate. Consider adding `print` statements to your code to help you resolve bugs."
      ],
      "metadata": {
        "id": "wibd5t-BzN1g"
      }
    },
    {
      "cell_type": "code",
      "source": [
        "# HINT: modify the headlines list to verify your loop works with different inputs\n",
        "headlines = [\"Local Bear Eaten by Man\",\n",
        "             \"Legislature Announces New Laws\",\n",
        "             \"Peasant Discovers Violence Inherent in System\",\n",
        "             \"Cat Rescues Fireman Stuck in Tree\",\n",
        "             \"Brave Knight Runs Away\",\n",
        "             \"Papperbok Review: Totally Triffic\"]\n",
        "\n",
        "news_ticker = \"\"\n",
        "# write your loop here\n",
        "\n",
        "\n",
        "print(news_ticker)"
      ],
      "metadata": {
        "id": "qXLTJg_7gczc"
      },
      "execution_count": null,
      "outputs": []
    },
    {
      "cell_type": "markdown",
      "source": [
        "# **Quiz Solution: Break the String**\n",
        "Here's one way you could do this."
      ],
      "metadata": {
        "id": "aOnclGbgzi_1"
      }
    },
    {
      "cell_type": "code",
      "source": [
        "headlines = [\"Local Bear Eaten by Man\",\n",
        "             \"Legislature Announces New Laws\",\n",
        "             \"Peasant Discovers Violence Inherent in System\",\n",
        "             \"Cat Rescues Fireman Stuck in Tree\",\n",
        "             \"Brave Knight Runs Away\",\n",
        "             \"Papperbok Review: Totally Triffic\"]\n",
        "\n",
        "news_ticker = \"\"\n",
        "for headline in headlines:\n",
        "    news_ticker += headline + \" \"\n",
        "    if len(news_ticker) >= 140:\n",
        "        news_ticker = news_ticker[:140]\n",
        "        break\n",
        "\n",
        "print(news_ticker)"
      ],
      "metadata": {
        "colab": {
          "base_uri": "https://localhost:8080/"
        },
        "id": "H-gtygtxznlm",
        "outputId": "215b8ecc-893b-4418-a991-f3b427b47195"
      },
      "execution_count": null,
      "outputs": [
        {
          "output_type": "stream",
          "name": "stdout",
          "text": [
            "Local Bear Eaten by Man Legislature Announces New Laws Peasant Discovers Violence Inherent in System Cat Rescues Fireman Stuck in Tree Brave\n"
          ]
        }
      ]
    },
    {
      "cell_type": "markdown",
      "source": [
        "# **Coding Quiz: Check for Prime Numbers**\n",
        "Prime numbers are whole numbers that have only two factors: 1 and the number itself. The first few prime numbers are 2, 3, 5, 7.\n",
        "\n",
        "For instance, 6 has four factors: 1, 2, 3, 6.\n",
        "1 X 6 = 6\n",
        "2 X 3 = 6\n",
        "So we know 6 is not a prime number.\n",
        "\n",
        "In the following coding environment, write code to check if the numbers provided in the list `check_prime` are prime numbers.\n",
        "\n",
        "* If the numbers are prime, the code should print \"[number] is a prime number.\"\n",
        "* If the number is NOT a prime number, it should print \"[number] is not a prime number\", and a factor of that number, other than 1 and the number itself: \"[factor] is a factor of [number]\".\n",
        "\n",
        "**Example output:**\n",
        "```\n",
        "7 IS a prime number\n",
        "26 is NOT a prime number, because 2 is a factor of 26\n",
        "```\n",
        "\n"
      ],
      "metadata": {
        "id": "owcp7Y_Xzvfl"
      }
    },
    {
      "cell_type": "code",
      "source": [
        "## Your code should check if each number in the list is a prime number\n",
        "check_prime = [26, 39, 51, 53, 57, 79, 85]\n",
        "\n",
        "## write your code here\n",
        "## HINT: You can use the modulo operator to find a factor\n",
        "\n"
      ],
      "metadata": {
        "id": "dDEIwDi4zp_B"
      },
      "execution_count": null,
      "outputs": []
    },
    {
      "cell_type": "markdown",
      "source": [
        "# **Solution for Coding Quiz: Check for Prime Numbers**\n",
        "**Question:** Write code to check if the numbers provided in the list `check_prime` are prime numbers. For each number, if the number is prime, the code should print that the number is a prime number. If the number is NOT a prime number, it should print that the number is not a prime number, and also print a factor of that number besides 1 and the number itself.\n",
        "\n",
        "**Logic for the solution:**\n",
        "\n",
        "* We loop through each number in the `check_prime` list.\n",
        "* Create a \"search-for-factors\" loop beginning at 2, and continuing up to the (number-1)\n",
        "* Use a conditional statement with the `modulo operator` to check if our number when divided by the possible factor yields any remainder besides 0.\n",
        "* If we ever find one factor, we can declare that the number is not prime, and state the factor we found. Then we can break out of the loop for that number.\n",
        "* If we get up to the (number - 1) and haven't broken out of the loop, then we can declare that the number is prime.\n",
        "\n",
        "Here is the solution."
      ],
      "metadata": {
        "id": "6tLQhoGg0FMo"
      }
    },
    {
      "cell_type": "code",
      "source": [
        "check_prime = [26, 39, 51, 53, 57, 79, 85]\n",
        "\n",
        "# iterate through the check_prime list\n",
        "for num in check_prime:\n",
        "\n",
        "# search for factors, iterating through numbers ranging from 2 to the number itself\n",
        "    for i in range(2, num):\n",
        "\n",
        "# number is not prime if modulo is 0\n",
        "        if (num % i) == 0:\n",
        "            print(\"{} is NOT a prime number, because {} is a factor of {}\".format(num, i, num))\n",
        "            break\n",
        "\n",
        "# otherwise keep checking until we've searched all possible factors, and then declare it prime\n",
        "        if i == num -1:    \n",
        "            print(\"{} IS a prime number\".format(num))"
      ],
      "metadata": {
        "colab": {
          "base_uri": "https://localhost:8080/"
        },
        "id": "lsXiZpgM0lqP",
        "outputId": "b7a3280c-0f6c-4200-c4ef-39629e09df79"
      },
      "execution_count": null,
      "outputs": [
        {
          "output_type": "stream",
          "name": "stdout",
          "text": [
            "26 is NOT a prime number, because 2 is a factor of 26\n",
            "39 is NOT a prime number, because 3 is a factor of 39\n",
            "51 is NOT a prime number, because 3 is a factor of 51\n",
            "53 IS a prime number\n",
            "57 is NOT a prime number, because 3 is a factor of 57\n",
            "79 IS a prime number\n",
            "85 is NOT a prime number, because 5 is a factor of 85\n"
          ]
        }
      ]
    },
    {
      "cell_type": "markdown",
      "source": [
        "# **Zip and Enumerate**\n",
        "`zip` and `enumerate` are useful built-in functions that can come in handy when dealing with loops.\n",
        "\n",
        "### **Zip**\n",
        "`zip` returns an iterator that combines multiple iterables into one sequence of tuples. Each tuple contains the elements in that position from all the iterables. For example, printing\n",
        "```\n",
        "list(zip(['a', 'b', 'c'], [1, 2, 3]))\n",
        "```\n",
        " would output:\n",
        "```\n",
        "[('a', 1), ('b', 2), ('c', 3)]\n",
        "```\n",
        "\n",
        "Like we did for `range()` we need to convert it to a list or iterate through it with a loop to see the elements.\n",
        "\n",
        "You could unpack each tuple in a `for` loop like this.\n",
        "```\n",
        "letters = ['a', 'b', 'c']\n",
        "nums = [1, 2, 3]\n",
        "\n",
        "for letter, num in zip(letters, nums):\n",
        "    print(\"{}: {}\".format(letter, num))\n",
        "```\n",
        "\n",
        "In addition to zipping two lists together, you can also unzip a list into tuples using an asterisk.\n",
        "```\n",
        "some_list = [('a', 1), ('b', 2), ('c', 3)]\n",
        "letters, nums = zip(*some_list)\n",
        "```\n",
        "\n",
        "This would create the same `letters` and `nums` tuples we saw earlier.\n",
        "\n",
        "### **Enumerate**\n",
        "`enumerate` is a built in function that returns an iterator of tuples containing indices and values of a list. You'll often use this when you want the index along with each element of an iterable in a loop.\n",
        "```\n",
        "letters = ['a', 'b', 'c', 'd', 'e']\n",
        "for i, letter in enumerate(letters):\n",
        "    print(i, letter)\n",
        "```\n",
        "\n",
        "This code would output:\n",
        "\n",
        "```\n",
        "0 a\n",
        "1 b\n",
        "2 c\n",
        "3 d\n",
        "4 e\n",
        "```"
      ],
      "metadata": {
        "id": "2gMa8-OR0rFL"
      }
    },
    {
      "cell_type": "markdown",
      "source": [
        "# **Quiz: Zip Coordinates**\n",
        "Use `zip` to write a `for` loop that creates a string specifying the label and coordinates of each point and appends it to the list `points`. Each string should be formatted as `label: x, y, z`. For example, the string for the first coordinate should be F: 23, 677, 4."
      ],
      "metadata": {
        "id": "i-WPyjrc1eon"
      }
    },
    {
      "cell_type": "code",
      "source": [
        "x_coord = [23, 53, 2, -12, 95, 103, 14, -5]\n",
        "y_coord = [677, 233, 405, 433, 905, 376, 432, 445]\n",
        "z_coord = [4, 16, -6, -42, 3, -6, 23, -1]\n",
        "labels = [\"F\", \"J\", \"A\", \"Q\", \"Y\", \"B\", \"W\", \"X\"]\n",
        "\n",
        "points = []\n",
        "# write your for loop here\n",
        "\n",
        "\n",
        "for point in points:\n",
        "    print(point)"
      ],
      "metadata": {
        "id": "h1Ecuee10meu"
      },
      "execution_count": null,
      "outputs": []
    },
    {
      "cell_type": "markdown",
      "source": [
        "# **Quiz: Zip Lists to a Dictionary**\n",
        "Use zip to create a dictionary `cast` that uses `names` as keys and heights as values."
      ],
      "metadata": {
        "id": "NRriWPm71rYP"
      }
    },
    {
      "cell_type": "code",
      "source": [
        "cast_names = [\"Barney\", \"Robin\", \"Ted\", \"Lily\", \"Marshall\"]\n",
        "cast_heights = [72, 68, 72, 66, 76]\n",
        "\n",
        "cast = # replace with your code\n",
        "print(cast)"
      ],
      "metadata": {
        "id": "uFhSuPtG13s7"
      },
      "execution_count": null,
      "outputs": []
    },
    {
      "cell_type": "markdown",
      "source": [
        "# **Quiz: Unzip Tuples**\n",
        "Unzip the `cast` tuple into two `names` and `heights` tuples."
      ],
      "metadata": {
        "id": "rmaeqNzY14t0"
      }
    },
    {
      "cell_type": "code",
      "source": [
        "cast = ((\"Barney\", 72), (\"Robin\", 68), (\"Ted\", 72), (\"Lily\", 66), (\"Marshall\", 76))\n",
        "\n",
        "# define names and heights here\n",
        "\n",
        "\n",
        "print(names)\n",
        "print(heights)"
      ],
      "metadata": {
        "id": "uLWv7pa_2DIk"
      },
      "execution_count": null,
      "outputs": []
    },
    {
      "cell_type": "markdown",
      "source": [
        "# **Quiz: Transpose with Zip**\n",
        "Use `zip` to transpose data from a 4-by-3 matrix to a 3-by-4 matrix. There's actually a cool trick for this! Feel free to look at the solutions if you can't figure it out."
      ],
      "metadata": {
        "id": "Z1eT9sto2D60"
      }
    },
    {
      "cell_type": "code",
      "source": [
        "data = ((0, 1, 2), (3, 4, 5), (6, 7, 8), (9, 10, 11))\n",
        "\n",
        "data_transpose = # replace with your code\n",
        "print(data_transpose)"
      ],
      "metadata": {
        "id": "FIGu6c-C2NZN"
      },
      "execution_count": null,
      "outputs": []
    },
    {
      "cell_type": "markdown",
      "source": [
        "# **Quiz: Enumerate**\n",
        "Use `enumerate` to modify the `cast` list so that each element contains the name followed by the character's corresponding height. For example, the first element of `cast` should change from `\"Barney Stinson\"` to `\"Barney Stinson 72\"`."
      ],
      "metadata": {
        "id": "wvVC6u5s2VJR"
      }
    },
    {
      "cell_type": "code",
      "source": [
        "cast = [\"Barney Stinson\", \"Robin Scherbatsky\", \"Ted Mosby\", \"Lily Aldrin\", \"Marshall Eriksen\"]\n",
        "heights = [72, 68, 72, 66, 76]\n",
        "\n",
        "# write your for loop here\n",
        "\n",
        "\n",
        "print(cast)"
      ],
      "metadata": {
        "id": "wYa626wZ2fg3"
      },
      "execution_count": null,
      "outputs": []
    },
    {
      "cell_type": "markdown",
      "source": [
        "## **Quiz Solution: Zip Coordinates**"
      ],
      "metadata": {
        "id": "YG_mPUYk2gl8"
      }
    },
    {
      "cell_type": "code",
      "source": [
        "x_coord = [23, 53, 2, -12, 95, 103, 14, -5]\n",
        "y_coord = [677, 233, 405, 433, 905, 376, 432, 445]\n",
        "z_coord = [4, 16, -6, -42, 3, -6, 23, -1]\n",
        "labels = [\"F\", \"J\", \"A\", \"Q\", \"Y\", \"B\", \"W\", \"X\"]\n",
        "\n",
        "points = []\n",
        "for point in zip(labels, x_coord, y_coord, z_coord):\n",
        "    points.append(\"{}: {}, {}, {}\".format(*point))\n",
        "\n",
        "for point in points:\n",
        "    print(point)"
      ],
      "metadata": {
        "colab": {
          "base_uri": "https://localhost:8080/"
        },
        "id": "AZPk9frH2oBH",
        "outputId": "64f50684-8067-49c8-b898-95ec1b76f5ac"
      },
      "execution_count": null,
      "outputs": [
        {
          "output_type": "stream",
          "name": "stdout",
          "text": [
            "F: 23, 677, 4\n",
            "J: 53, 233, 16\n",
            "A: 2, 405, -6\n",
            "Q: -12, 433, -42\n",
            "Y: 95, 905, 3\n",
            "B: 103, 376, -6\n",
            "W: 14, 432, 23\n",
            "X: -5, 445, -1\n"
          ]
        }
      ]
    },
    {
      "cell_type": "markdown",
      "source": [
        "Notice here, the tuple was unpacked using `*` in the `format` method. This can help make your code cleaner!"
      ],
      "metadata": {
        "id": "ucrwChoK2sRl"
      }
    },
    {
      "cell_type": "markdown",
      "source": [
        "## **Quiz Solution: Zip Lists to a Dictionary**"
      ],
      "metadata": {
        "id": "H28JPQg_2xY1"
      }
    },
    {
      "cell_type": "code",
      "source": [
        "cast_names = [\"Barney\", \"Robin\", \"Ted\", \"Lily\", \"Marshall\"]\n",
        "cast_heights = [72, 68, 72, 66, 76]\n",
        "\n",
        "cast = dict(zip(cast_names, cast_heights))\n",
        "print(cast)"
      ],
      "metadata": {
        "colab": {
          "base_uri": "https://localhost:8080/"
        },
        "id": "n2jyA7cJ2pFr",
        "outputId": "dcc3abc3-dfe2-4516-afe4-8a89199138aa"
      },
      "execution_count": null,
      "outputs": [
        {
          "output_type": "stream",
          "name": "stdout",
          "text": [
            "{'Barney': 72, 'Robin': 68, 'Ted': 72, 'Lily': 66, 'Marshall': 76}\n"
          ]
        }
      ]
    },
    {
      "cell_type": "markdown",
      "source": [
        "# **Quiz Solution: Unzip Tuples**"
      ],
      "metadata": {
        "id": "UmsQ30WQ23Pu"
      }
    },
    {
      "cell_type": "code",
      "source": [
        "cast = ((\"Barney\", 72), (\"Robin\", 68), (\"Ted\", 72), (\"Lily\", 66), (\"Marshall\", 76))\n",
        "\n",
        "names, heights = zip(*cast)\n",
        "print(names)\n",
        "print(heights)"
      ],
      "metadata": {
        "colab": {
          "base_uri": "https://localhost:8080/"
        },
        "id": "zV5L5W_G216o",
        "outputId": "dfdcd88a-a14a-4e26-b02c-379c4cb8c851"
      },
      "execution_count": null,
      "outputs": [
        {
          "output_type": "stream",
          "name": "stdout",
          "text": [
            "('Barney', 'Robin', 'Ted', 'Lily', 'Marshall')\n",
            "(72, 68, 72, 66, 76)\n"
          ]
        }
      ]
    },
    {
      "cell_type": "markdown",
      "source": [
        "# **Quiz Solution: Transpose with Zip**"
      ],
      "metadata": {
        "id": "5ZJhvwm4287v"
      }
    },
    {
      "cell_type": "code",
      "source": [
        "data = ((0, 1, 2), (3, 4, 5), (6, 7, 8), (9, 10, 11))\n",
        "\n",
        "data_transpose = tuple(zip(*data))\n",
        "print(data_transpose)"
      ],
      "metadata": {
        "colab": {
          "base_uri": "https://localhost:8080/"
        },
        "id": "9ZbNWD0-278h",
        "outputId": "bae024a8-1ce3-47d7-a757-556e4d4e2c0c"
      },
      "execution_count": null,
      "outputs": [
        {
          "output_type": "stream",
          "name": "stdout",
          "text": [
            "((0, 3, 6, 9), (1, 4, 7, 10), (2, 5, 8, 11))\n"
          ]
        }
      ]
    },
    {
      "cell_type": "markdown",
      "source": [
        "## **Quiz Solution: Enumerate**"
      ],
      "metadata": {
        "id": "wN2N48Rp3ES-"
      }
    },
    {
      "cell_type": "code",
      "source": [
        "cast = [\"Barney Stinson\", \"Robin Scherbatsky\", \"Ted Mosby\", \"Lily Aldrin\", \"Marshall Eriksen\"]\n",
        "heights = [72, 68, 72, 66, 76]\n",
        "\n",
        "for i, character in enumerate(cast):\n",
        "    cast[i] = character + \" \" + str(heights[i])\n",
        "\n",
        "print(cast)\n"
      ],
      "metadata": {
        "colab": {
          "base_uri": "https://localhost:8080/"
        },
        "id": "Qq-Lv86E3DS5",
        "outputId": "c20fd67c-41c8-4f23-f118-8435de7718ca"
      },
      "execution_count": null,
      "outputs": [
        {
          "output_type": "stream",
          "name": "stdout",
          "text": [
            "['Barney Stinson 72', 'Robin Scherbatsky 68', 'Ted Mosby 72', 'Lily Aldrin 66', 'Marshall Eriksen 76']\n"
          ]
        }
      ]
    },
    {
      "cell_type": "markdown",
      "source": [
        "**List Comprehensions**\n",
        "In Python, you can create lists really quickly and concisely with list comprehensions. This example from earlier:\n",
        "```\n",
        "capitalized_cities = []\n",
        "for city in cities:\n",
        "    capitalized_cities.append(city.title())\n",
        "```\n",
        "\n",
        "can be reduced to:\n",
        "```\n",
        "capitalized_cities = [city.title() for city in cities]\n",
        "```\n",
        "\n",
        "List comprehensions allow us to create a list using a `for` loop in one step.\n",
        "\n",
        "You create a list comprehension with brackets `[]`, including an expression to evaluate for each element in an iterable. This list comprehension above calls `city.title()` for each element `city` in `cities`, to create each element in the new list, `capitalized_cities`.\n",
        "\n",
        "## **Conditionals in List Comprehensions**\n",
        "You can also add conditionals to list comprehensions (listcomps). After the iterable, you can use the `if` keyword to check a condition in each iteration.\n",
        "```\n",
        "squares = [x**2 for x in range(9) if x % 2 == 0]\n",
        "```\n",
        "\n",
        "The code above sets `squares` equal to the list [0, 4, 16, 36, 64], as x to the power of 2 is only evaluated if x is even. If you want to add an `else`, you will get a syntax error doing this.\n",
        "```\n",
        "squares = [x**2 for x in range(9) if x % 2 == 0 else x + 3]\n",
        "```\n",
        "\n",
        "If you would like to add `else`, you have to move the conditionals to the beginning of the listcomp, right after the expression, like this.\n",
        "```\n",
        "squares = [x**2 if x % 2 == 0 else x + 3 for x in range(9)]\n",
        "```\n",
        "\n",
        "List comprehensions are not found in other languages, but are very common in Python.\n",
        "\n"
      ],
      "metadata": {
        "id": "GrzXgM3z3OZK"
      }
    },
    {
      "cell_type": "markdown",
      "source": [
        "# **Quiz: Extract First Names**\n",
        "Use a list comprehension to create a new list `first_names` containing just the first names in `names` in lowercase."
      ],
      "metadata": {
        "id": "HRpIVNhK4iS3"
      }
    },
    {
      "cell_type": "code",
      "source": [
        "names = [\"Rick Sanchez\", \"Morty Smith\", \"Summer Smith\", \"Jerry Smith\", \"Beth Smith\"]\n",
        "\n",
        "first_names = # write your list comprehension here\n",
        "print(first_names)"
      ],
      "metadata": {
        "id": "EgeUwuvs3Ixj"
      },
      "execution_count": null,
      "outputs": []
    },
    {
      "cell_type": "markdown",
      "source": [
        "# **Quiz: Multiples of Three**\n",
        "Use a list comprehension to create a list `multiples_3` containing the first 20 multiples of 3."
      ],
      "metadata": {
        "id": "AM8l15Xs5Bx5"
      }
    },
    {
      "cell_type": "code",
      "source": [
        "multiples_3 = # write your list comprehension here\n",
        "print(multiples_3)"
      ],
      "metadata": {
        "id": "c8HfXCNp5JsM"
      },
      "execution_count": null,
      "outputs": []
    },
    {
      "cell_type": "markdown",
      "source": [
        "# **Quiz: Filter Names by Scores**\n",
        "Use a list comprehension to create a list of names passed that only include those that scored at least 65."
      ],
      "metadata": {
        "id": "VxzoBGUj5K1E"
      }
    },
    {
      "cell_type": "code",
      "source": [
        "scores = {\n",
        "             \"Rick Sanchez\": 70,\n",
        "             \"Morty Smith\": 35,\n",
        "             \"Summer Smith\": 82,\n",
        "             \"Jerry Smith\": 23,\n",
        "             \"Beth Smith\": 98\n",
        "          }\n",
        "\n",
        "passed = # write your list comprehension here\n",
        "print(passed)"
      ],
      "metadata": {
        "id": "KhuhHy0w5PGw"
      },
      "execution_count": null,
      "outputs": []
    },
    {
      "cell_type": "markdown",
      "source": [
        "# **Quiz Solution: Extract First Names**\n"
      ],
      "metadata": {
        "id": "aHqRFZ_S5Rqr"
      }
    },
    {
      "cell_type": "code",
      "source": [
        "names = [\"Rick Sanchez\", \"Morty Smith\", \"Summer Smith\", \"Jerry Smith\", \"Beth Smith\"]\n",
        "\n",
        "first_names = [name.split()[0].capitalize() for name in names]\n",
        "print(first_names)"
      ],
      "metadata": {
        "colab": {
          "base_uri": "https://localhost:8080/"
        },
        "id": "fi9d2wFO5XNI",
        "outputId": "3236fa65-4569-41f2-ec8b-043819318e37"
      },
      "execution_count": null,
      "outputs": [
        {
          "output_type": "stream",
          "name": "stdout",
          "text": [
            "['Rick', 'Morty', 'Summer', 'Jerry', 'Beth']\n"
          ]
        }
      ]
    },
    {
      "cell_type": "markdown",
      "source": [
        "# **Quiz Solution: Multiples of Three**"
      ],
      "metadata": {
        "id": "DmRQAi8V5hiM"
      }
    },
    {
      "cell_type": "code",
      "source": [
        "multiples_3 = [x * 3 for x in range(1, 21)]\n",
        "print(multiples_3)"
      ],
      "metadata": {
        "colab": {
          "base_uri": "https://localhost:8080/"
        },
        "id": "hND0YezO5ZCw",
        "outputId": "f47c2fb3-d795-45a7-b48b-2197e6def7b2"
      },
      "execution_count": null,
      "outputs": [
        {
          "output_type": "stream",
          "name": "stdout",
          "text": [
            "[3, 6, 9, 12, 15, 18, 21, 24, 27, 30, 33, 36, 39, 42, 45, 48, 51, 54, 57, 60]\n"
          ]
        }
      ]
    },
    {
      "cell_type": "markdown",
      "source": [
        "# **Quiz Solution: Filter Names by Scores**"
      ],
      "metadata": {
        "id": "8uR_u6u25_Xf"
      }
    },
    {
      "cell_type": "code",
      "source": [
        "scores = {\n",
        "             \"Rick Sanchez\": 70,\n",
        "             \"Morty Smith\": 35,\n",
        "             \"Summer Smith\": 82,\n",
        "             \"Jerry Smith\": 23,\n",
        "             \"Beth Smith\": 98\n",
        "          }\n",
        "\n",
        "passed = [name for name, score in scores.items() if score >= 65]\n",
        "print(passed)"
      ],
      "metadata": {
        "colab": {
          "base_uri": "https://localhost:8080/"
        },
        "id": "uNetZrIx5pD4",
        "outputId": "ac075fd2-119b-4072-9c58-2446c3a55315"
      },
      "execution_count": null,
      "outputs": [
        {
          "output_type": "stream",
          "name": "stdout",
          "text": [
            "['Rick Sanchez', 'Summer Smith', 'Beth Smith']\n"
          ]
        }
      ]
    },
    {
      "cell_type": "markdown",
      "source": [
        "## **Introduction**\n",
        "Time for some practice questions again! The questions on this page will help you review the concepts covered in the Control Flow lesson. These questions may use concepts from everything covered so far.\n",
        "\n",
        "You may find these questions on the challenging end, but we have provided solutions for them on the next page. We encourage you to give them a good try, but if you get stuck or need a hint, do not hesitate to look at the solutions.\n",
        "\n",
        "The following questions are based on data on Oscar Award Nominations for Best Director between the years 1931 to 2010. To start you off, we've provided a dictionary called \"nominated\" with the year (as key) and list of directors who were nominated in that year (as value). We've provided you with a different dictionary called \"winners\" with the year (as key) and list of directors who won the award in that year (as value).\n",
        "\n",
        "### **Helpful hint:**\n",
        "\n",
        "1. You may find it helpful to use a paper and pen to think through the logic of the for loop instead of directly trying to type out your code. for loops are tricky, but if you take the time to slowly work out the question's logic, and write out what is happening with each iteration in the for loop, it's easier to think through the code.\n",
        "\n",
        "## **Practice Questions**\n",
        "### **Question 1.**\n",
        "**A. Create a dictionary that includes the count of Oscar nominations for each director in the nominations list.**\n",
        "\n",
        "**B. Provide a dictionary with the count of Oscar wins for each director in the winners list.**"
      ],
      "metadata": {
        "id": "tONO_aqu6IkY"
      }
    },
    {
      "cell_type": "code",
      "source": [
        "nominated = {1931: ['Norman Taurog', 'Wesley Ruggles', 'Clarence Brown', 'Lewis Milestone', 'Josef Von Sternberg'], 1932: ['Frank Borzage', 'King Vidor', 'Josef Von Sternberg'], 1933: ['Frank Lloyd', 'Frank Capra', 'George Cukor'], 1934: ['Frank Capra', 'Victor Schertzinger', 'W. S. Van Dyke'], 1935: ['John Ford', 'Michael Curtiz', 'Henry Hathaway', 'Frank Lloyd'], 1936: ['Frank Capra', 'William Wyler', 'Robert Z. Leonard', 'Gregory La Cava', 'W. S. Van Dyke'], 1937: ['Leo McCarey', 'Sidney Franklin', 'William Dieterle', 'Gregory La Cava', 'William Wellman'], 1938: ['Frank Capra', 'Michael Curtiz', 'Norman Taurog', 'King Vidor', 'Michael Curtiz'], 1939: ['Sam Wood', 'Frank Capra', 'John Ford', 'William Wyler', 'Victor Fleming'], 1940: ['John Ford', 'Sam Wood', 'William Wyler', 'George Cukor', 'Alfred Hitchcock'], 1941: ['John Ford', 'Orson Welles', 'Alexander Hall', 'William Wyler', 'Howard Hawks'], 1942: ['Sam Wood', 'Mervyn LeRoy', 'John Farrow', 'Michael Curtiz', 'William Wyler'], 1943: ['Michael Curtiz', 'Ernst Lubitsch', 'Clarence Brown', 'George Stevens', 'Henry King'], 1944: ['Leo McCarey', 'Billy Wilder', 'Otto Preminger', 'Alfred Hitchcock', 'Henry King'], 1945: ['Billy Wilder', 'Leo McCarey', 'Clarence Brown', 'Jean Renoir', 'Alfred Hitchcock'], 1946: ['David Lean', 'Frank Capra', 'Robert Siodmak', 'Clarence Brown', 'William Wyler'], 1947: ['Elia Kazan', 'Henry Koster', 'Edward Dmytryk', 'George Cukor', 'David Lean'], 1948: ['John Huston', 'Laurence Olivier', 'Jean Negulesco', 'Fred Zinnemann', 'Anatole Litvak'], 1949: ['Joseph L. Mankiewicz', 'Robert Rossen', 'William A. Wellman', 'Carol Reed', 'William Wyler'], 1950: ['Joseph L. Mankiewicz', 'John Huston', 'George Cukor', 'Billy Wilder', 'Carol Reed'], 1951: ['George Stevens', 'John Huston', 'Vincente Minnelli', 'William Wyler', 'Elia Kazan'], 1952: ['John Ford', 'Joseph L. Mankiewicz', 'Cecil B. DeMille', 'Fred Zinnemann', 'John Huston'], 1953: ['Fred Zinnemann', 'Charles Walters', 'William Wyler', 'George Stevens', 'Billy Wilder'], 1954: ['Elia Kazan', 'George Seaton', 'William Wellman', 'Alfred Hitchcock', 'Billy Wilder'], 1955: ['Delbert Mann', 'John Sturges', 'Elia Kazan', 'Joshua Logan', 'David Lean'], 1956: ['George Stevens', 'Michael Anderson', 'William Wyler', 'Walter Lang', 'King Vidor'], 1957: ['David Lean', 'Mark Robson', 'Joshua Logan', 'Sidney Lumet', 'Billy Wilder'], 1958: ['Richard Brooks', 'Stanley Kramer', 'Robert Wise', 'Mark Robson', 'Vincente Minnelli'], 1959: ['George Stevens', 'Fred Zinnemann', 'Jack Clayton', 'Billy Wilder', 'William Wyler'], 1960: ['Billy Wilder', 'Jules Dassin', 'Alfred Hitchcock', 'Jack Cardiff', 'Fred Zinnemann'], 1961: ['J. Lee Thompson', 'Robert Rossen', 'Stanley Kramer', 'Federico Fellini', 'Robert Wise', 'Jerome Robbins'], 1962: ['David Lean', 'Frank Perry', 'Pietro Germi', 'Arthur Penn', 'Robert Mulligan'], 1963: ['Elia Kazan', 'Otto Preminger', 'Federico Fellini', 'Martin Ritt', 'Tony Richardson'], 1964: ['George Cukor', 'Peter Glenville', 'Stanley Kubrick', 'Robert Stevenson', 'Michael Cacoyannis'], 1965: ['William Wyler', 'John Schlesinger', 'David Lean', 'Hiroshi Teshigahara', 'Robert Wise'], 1966: ['Fred Zinnemann', 'Michelangelo Antonioni', 'Claude Lelouch', 'Richard Brooks', 'Mike Nichols'], 1967: ['Arthur Penn', 'Stanley Kramer', 'Richard Brooks', 'Norman Jewison', 'Mike Nichols'], 1968: ['Carol Reed', 'Gillo Pontecorvo', 'Anthony Harvey', 'Franco Zeffirelli', 'Stanley Kubrick'], 1969: ['John Schlesinger', 'Arthur Penn', 'George Roy Hill', 'Sydney Pollack', 'Costa-Gavras'], 1970: ['Franklin J. Schaffner', 'Federico Fellini', 'Arthur Hiller', 'Robert Altman', 'Ken Russell'], 1971: ['Stanley Kubrick', 'Norman Jewison', 'Peter Bogdanovich', 'John Schlesinger', 'William Friedkin'], 1972: ['Bob Fosse', 'John Boorman', 'Jan Troell', 'Francis Ford Coppola', 'Joseph L. Mankiewicz'], 1973: ['George Roy Hill', 'George Lucas', 'Ingmar Bergman', 'William Friedkin', 'Bernardo Bertolucci'], 1974: ['Francis Ford Coppola', 'Roman Polanski', 'Francois Truffaut', 'Bob Fosse', 'John Cassavetes'], 1975: ['Federico Fellini', 'Stanley Kubrick', 'Sidney Lumet', 'Robert Altman', 'Milos Forman'], 1976: ['Alan J. Pakula', 'Ingmar Bergman', 'Sidney Lumet', 'Lina Wertmuller', 'John G. Avildsen'], 1977: ['Steven Spielberg', 'Fred Zinnemann', 'George Lucas', 'Herbert Ross', 'Woody Allen'], 1978: ['Hal Ashby', 'Warren Beatty', 'Buck Henry', 'Woody Allen', 'Alan Parker', 'Michael Cimino'], 1979: ['Bob Fosse', 'Francis Coppola', 'Peter Yates', 'Edouard Molinaro', 'Robert Benton'], 1980: ['David Lynch', 'Martin Scorsese', 'Richard Rush', 'Roman Polanski', 'Robert Redford'], 1981: ['Louis Malle', 'Hugh Hudson', 'Mark Rydell', 'Steven Spielberg', 'Warren Beatty'], 1982: ['Wolfgang Petersen', 'Steven Spielberg', 'Sydney Pollack', 'Sidney Lumet', 'Richard Attenborough'], 1983: ['Peter Yates', 'Ingmar Bergman', 'Mike Nichols', 'Bruce Beresford', 'James L. Brooks'], 1984: ['Woody Allen', 'Roland Joffe', 'David Lean', 'Robert Benton', 'Milos Forman'], 1985: ['Hector Babenco', 'John Huston', 'Akira Kurosawa', 'Peter Weir', 'Sydney Pollack'], 1986: ['David Lynch', 'Woody Allen', 'Roland Joffe', 'James Ivory', 'Oliver Stone'], 1987: ['Bernardo Bertolucci', 'Adrian Lyne', 'John Boorman', 'Norman Jewison', 'Lasse Hallstrom'], 1988: ['Barry Levinson', 'Charles Crichton', 'Martin Scorsese', 'Alan Parker', 'Mike Nichols'], 1989: ['Woody Allen', 'Peter Weir', 'Kenneth Branagh', 'Jim Sheridan', 'Oliver Stone'], 1990: ['Francis Ford Coppola', 'Martin Scorsese', 'Stephen Frears', 'Barbet Schroeder', 'Kevin Costner'], 1991: ['John Singleton', 'Barry Levinson', 'Oliver Stone', 'Ridley Scott', 'Jonathan Demme'], 1992: ['Clint Eastwood', 'Neil Jordan', 'James Ivory', 'Robert Altman', 'Martin Brest'], 1993: ['Jim Sheridan', 'Jane Campion', 'James Ivory', 'Robert Altman', 'Steven Spielberg'], 1994: ['Woody Allen', 'Quentin Tarantino', 'Robert Redford', 'Krzysztof Kieslowski', 'Robert Zemeckis'], 1995: ['Chris Noonan', 'Tim Robbins', 'Mike Figgis', 'Michael Radford', 'Mel Gibson'], 1996: ['Anthony Minghella', 'Joel Coen', 'Milos Forman', 'Mike Leigh', 'Scott Hicks'], 1997: ['Peter Cattaneo', 'Gus Van Sant', 'Curtis Hanson', 'Atom Egoyan', 'James Cameron'], 1998: ['Roberto Benigni', 'John Madden', 'Terrence Malick', 'Peter Weir', 'Steven Spielberg'], 1999: ['Spike Jonze', 'Lasse Hallstrom', 'Michael Mann', 'M. Night Shyamalan', 'Sam Mendes'], 2000: ['Stephen Daldry', 'Ang Lee', 'Steven Soderbergh', 'Ridley Scott', 'Steven Soderbergh'], 2001: ['Ridley Scott', 'Robert Altman', 'Peter Jackson', 'David Lynch', 'Ron Howard'], 2002: ['Rob Marshall', 'Martin Scorsese', 'Stephen Daldry', 'Pedro Almodovar', 'Roman Polanski'], 2003: ['Fernando Meirelles', 'Sofia Coppola', 'Peter Weir', 'Clint Eastwood', 'Peter Jackson'], 2004: ['Martin Scorsese', 'Taylor Hackford', 'Alexander Payne', 'Mike Leigh', 'Clint Eastwood'], 2005: ['Ang Lee', 'Bennett Miller', 'Paul Haggis', 'George Clooney', 'Steven Spielberg'], 2006: ['Alejandro Gonzaalez Inarritu', 'Clint Eastwood', 'Stephen Frears', 'Paul Greengrass', 'Martin Scorsese'], 2007: ['Julian Schnabel', 'Jason Reitman', 'Tony Gilroy', 'Paul Thomas Anderson', 'Joel Coen', 'Ethan Coen'], 2008: ['David Fincher', 'Ron Howard', 'Gus Van Sant', 'Stephen Daldry', 'Danny Boyle'], 2009: ['James Cameron', 'Quentin Tarantino', 'Lee Daniels', 'Jason Reitman', 'Kathryn Bigelow'], 2010: ['Darren Aronofsky', 'David O. Russell', 'David Fincher', 'Ethan Coen', 'Joel Coen', 'Tom Hooper']}\n",
        "winners = {1931: ['Norman Taurog'], 1932: ['Frank Borzage'], 1933: ['Frank Lloyd'], 1934: ['Frank Capra'], 1935: ['John Ford'], 1936: ['Frank Capra'], 1937: ['Leo McCarey'], 1938: ['Frank Capra'], 1939: ['Victor Fleming'], 1940: ['John Ford'], 1941: ['John Ford'], 1942: ['William Wyler'], 1943: ['Michael Curtiz'], 1944: ['Leo McCarey'], 1945: ['Billy Wilder'], 1946: ['William Wyler'], 1947: ['Elia Kazan'], 1948: ['John Huston'], 1949: ['Joseph L. Mankiewicz'], 1950: ['Joseph L. Mankiewicz'], 1951: ['George Stevens'], 1952: ['John Ford'], 1953: ['Fred Zinnemann'], 1954: ['Elia Kazan'], 1955: ['Delbert Mann'], 1956: ['George Stevens'], 1957: ['David Lean'], 1958: ['Vincente Minnelli'], 1959: ['William Wyler'], 1960: ['Billy Wilder'], 1961: ['Jerome Robbins', 'Robert Wise'], 1962: ['David Lean'], 1963: ['Tony Richardson'], 1964: ['George Cukor'], 1965: ['Robert Wise'], 1966: ['Fred Zinnemann'], 1967: ['Mike Nichols'], 1968: ['Carol Reed'], 1969: ['John Schlesinger'], 1970: ['Franklin J. Schaffner'], 1971: ['William Friedkin'], 1972: ['Bob Fosse'], 1973: ['George Roy Hill'], 1974: ['Francis Ford Coppola'], 1975: ['Milos Forman'], 1976: ['John G. Avildsen'], 1977: ['Woody Allen'], 1978: ['Michael Cimino'], 1979: ['Robert Benton'], 1980: ['Robert Redford'], 1981: ['Warren Beatty'], 1982: ['Richard Attenborough'], 1983: ['James L. Brooks'], 1984: ['Milos Forman'], 1985: ['Sydney Pollack'], 1986: ['Oliver Stone'], 1987: ['Bernardo Bertolucci'], 1988: ['Barry Levinson'], 1989: ['Oliver Stone'], 1990: ['Kevin Costner'], 1991: ['Jonathan Demme'], 1992: ['Clint Eastwood'], 1993: ['Steven Spielberg'], 1994: ['Robert Zemeckis'], 1995: ['Mel Gibson'], 1996: ['Anthony Minghella'], 1997: ['James Cameron'], 1998: ['Steven Spielberg'], 1999: ['Sam Mendes'], 2000: ['Steven Soderbergh'], 2001: ['Ron Howard'], 2002: ['Roman Polanski'], 2003: ['Peter Jackson'], 2004: ['Clint Eastwood'], 2005: ['Ang Lee'], 2006: ['Martin Scorsese'], 2007: ['Ethan Coen', 'Joel Coen'], 2008: ['Danny Boyle'], 2009: ['Kathryn Bigelow'], 2010: ['Tom Hooper']}\n",
        "\n",
        "### Question 1A: Create dictionary with the count of Oscar nominations for each director \n",
        "nom_count_dict = {}\n",
        "# Add your solution code below before line 10. Add more lines for your code as needed.\n",
        "\n",
        "\n",
        "\n",
        "print(\"nom_count_dict = {}\\n\".format(nom_count_dict))\n",
        "###################################################################################################################\n",
        "###################################################################################################################\n",
        "\n",
        "### Question 1B: Create dictionary with the count of Oscar wins for each director\n",
        "win_count_dict = {}\n",
        "# Add your solution code below before line 20. Add more lines for your code as needed.\n",
        "\n",
        "\n",
        "\n",
        "print(\"win_count_dict = {}\".format(win_count_dict))"
      ],
      "metadata": {
        "id": "Q1-jb-i_6DBy"
      },
      "execution_count": null,
      "outputs": []
    },
    {
      "cell_type": "markdown",
      "source": [
        "## **Question 2:**\n",
        "Provide a list with the name(s) of the director(s) with the most Oscar wins. We are asking for a list because there could be more than 1 director tied for the most Oscar wins."
      ],
      "metadata": {
        "id": "RKYQsOd46pFC"
      }
    },
    {
      "cell_type": "code",
      "source": [
        "winners = {1931: ['Norman Taurog'], 1932: ['Frank Borzage'], 1933: ['Frank Lloyd'], 1934: ['Frank Capra'], 1935: ['John Ford'], 1936: ['Frank Capra'], 1937: ['Leo McCarey'], 1938: ['Frank Capra'], 1939: ['Victor Fleming'], 1940: ['John Ford'], 1941: ['John Ford'], 1942: ['William Wyler'], 1943: ['Michael Curtiz'], 1944: ['Leo McCarey'], 1945: ['Billy Wilder'], 1946: ['William Wyler'], 1947: ['Elia Kazan'], 1948: ['John Huston'], 1949: ['Joseph L. Mankiewicz'], 1950: ['Joseph L. Mankiewicz'], 1951: ['George Stevens'], 1952: ['John Ford'], 1953: ['Fred Zinnemann'], 1954: ['Elia Kazan'], 1955: ['Delbert Mann'], 1956: ['George Stevens'], 1957: ['David Lean'], 1958: ['Vincente Minnelli'], 1959: ['William Wyler'], 1960: ['Billy Wilder'], 1961: ['Jerome Robbins', 'Robert Wise'], 1962: ['David Lean'], 1963: ['Tony Richardson'], 1964: ['George Cukor'], 1965: ['Robert Wise'], 1966: ['Fred Zinnemann'], 1967: ['Mike Nichols'], 1968: ['Carol Reed'], 1969: ['John Schlesinger'], 1970: ['Franklin J. Schaffner'], 1971: ['William Friedkin'], 1972: ['Bob Fosse'], 1973: ['George Roy Hill'], 1974: ['Francis Ford Coppola'], 1975: ['Milos Forman'], 1976: ['John G. Avildsen'], 1977: ['Woody Allen'], 1978: ['Michael Cimino'], 1979: ['Robert Benton'], 1980: ['Robert Redford'], 1981: ['Warren Beatty'], 1982: ['Richard Attenborough'], 1983: ['James L. Brooks'], 1984: ['Milos Forman'], 1985: ['Sydney Pollack'], 1986: ['Oliver Stone'], 1987: ['Bernardo Bertolucci'], 1988: ['Barry Levinson'], 1989: ['Oliver Stone'], 1990: ['Kevin Costner'], 1991: ['Jonathan Demme'], 1992: ['Clint Eastwood'], 1993: ['Steven Spielberg'], 1994: ['Robert Zemeckis'], 1995: ['Mel Gibson'], 1996: ['Anthony Minghella'], 1997: ['James Cameron'], 1998: ['Steven Spielberg'], 1999: ['Sam Mendes'], 2000: ['Steven Soderbergh'], 2001: ['Ron Howard'], 2002: ['Roman Polanski'], 2003: ['Peter Jackson'], 2004: ['Clint Eastwood'], 2005: ['Ang Lee'], 2006: ['Martin Scorsese'], 2007: ['Ethan Coen', 'Joel Coen'], 2008: ['Danny Boyle'], 2009: ['Kathryn Bigelow'], 2010: ['Tom Hooper']}\n",
        "\n",
        "\n",
        "### For Question 2: Please provide a list with the name(s) of the director(s) with \n",
        "### the most Oscar wins. The list can hold the names of multiple directors,\n",
        "### since there can be more than 1 director tied with the most Oscar wins.\n",
        "\n",
        "most_win_director = []\n",
        "# Add your code here\n",
        "\n",
        "\n",
        "print(\"most_win_director = {}\".format(most_win_director))\n"
      ],
      "metadata": {
        "id": "W5E64Ye_6tJ4"
      },
      "execution_count": null,
      "outputs": []
    },
    {
      "cell_type": "markdown",
      "source": [
        "# **Solutions to Practice Questions**\n",
        "Here are some possible solutions for these questions.\n",
        "\n",
        "### **Question 1a**\n",
        "Provide a dictionary with the count of nominations for each director.\n",
        "\n",
        "Here's the logic for my solution:\n",
        "1. To solve this question, I use the `.items` method for dictionaries. Remember, the key in our nominated dictionary is a list of nominated directors. Think Compound Data Structures!\n",
        "2. I know I need to create a dictionary where the key is a director and the value is the number of nominations.\n",
        "3. But to get each director as a key, I will have to use two `for` loops.\n",
        "4. First, to iterate through the nominated dictionary's value (which here is a list of nominations) .\n",
        "5. But I have do to this again to iterate through each element (what I'm trying to get to - a nominated director) in the `nominated` list.\n",
        "6. After that, if the director isn't yet in our dictionary, we give that director a count of one. If the director is in the dictionary, we increment that director's count by one.\n",
        "Solution code (to be inserted starting in line 9 of the starter code):"
      ],
      "metadata": {
        "id": "khQS-4XU6ug0"
      }
    },
    {
      "cell_type": "code",
      "source": [
        "nominated = {1931: ['Norman Taurog', 'Wesley Ruggles', 'Clarence Brown', 'Lewis Milestone', 'Josef Von Sternberg'], 1932: ['Frank Borzage', 'King Vidor', 'Josef Von Sternberg'], 1933: ['Frank Lloyd', 'Frank Capra', 'George Cukor'], 1934: ['Frank Capra', 'Victor Schertzinger', 'W. S. Van Dyke'], 1935: ['John Ford', 'Michael Curtiz', 'Henry Hathaway', 'Frank Lloyd'], 1936: ['Frank Capra', 'William Wyler', 'Robert Z. Leonard', 'Gregory La Cava', 'W. S. Van Dyke'], 1937: ['Leo McCarey', 'Sidney Franklin', 'William Dieterle', 'Gregory La Cava', 'William Wellman'], 1938: ['Frank Capra', 'Michael Curtiz', 'Norman Taurog', 'King Vidor', 'Michael Curtiz'], 1939: ['Sam Wood', 'Frank Capra', 'John Ford', 'William Wyler', 'Victor Fleming'], 1940: ['John Ford', 'Sam Wood', 'William Wyler', 'George Cukor', 'Alfred Hitchcock'], 1941: ['John Ford', 'Orson Welles', 'Alexander Hall', 'William Wyler', 'Howard Hawks'], 1942: ['Sam Wood', 'Mervyn LeRoy', 'John Farrow', 'Michael Curtiz', 'William Wyler'], 1943: ['Michael Curtiz', 'Ernst Lubitsch', 'Clarence Brown', 'George Stevens', 'Henry King'], 1944: ['Leo McCarey', 'Billy Wilder', 'Otto Preminger', 'Alfred Hitchcock', 'Henry King'], 1945: ['Billy Wilder', 'Leo McCarey', 'Clarence Brown', 'Jean Renoir', 'Alfred Hitchcock'], 1946: ['David Lean', 'Frank Capra', 'Robert Siodmak', 'Clarence Brown', 'William Wyler'], 1947: ['Elia Kazan', 'Henry Koster', 'Edward Dmytryk', 'George Cukor', 'David Lean'], 1948: ['John Huston', 'Laurence Olivier', 'Jean Negulesco', 'Fred Zinnemann', 'Anatole Litvak'], 1949: ['Joseph L. Mankiewicz', 'Robert Rossen', 'William A. Wellman', 'Carol Reed', 'William Wyler'], 1950: ['Joseph L. Mankiewicz', 'John Huston', 'George Cukor', 'Billy Wilder', 'Carol Reed'], 1951: ['George Stevens', 'John Huston', 'Vincente Minnelli', 'William Wyler', 'Elia Kazan'], 1952: ['John Ford', 'Joseph L. Mankiewicz', 'Cecil B. DeMille', 'Fred Zinnemann', 'John Huston'], 1953: ['Fred Zinnemann', 'Charles Walters', 'William Wyler', 'George Stevens', 'Billy Wilder'], 1954: ['Elia Kazan', 'George Seaton', 'William Wellman', 'Alfred Hitchcock', 'Billy Wilder'], 1955: ['Delbert Mann', 'John Sturges', 'Elia Kazan', 'Joshua Logan', 'David Lean'], 1956: ['George Stevens', 'Michael Anderson', 'William Wyler', 'Walter Lang', 'King Vidor'], 1957: ['David Lean', 'Mark Robson', 'Joshua Logan', 'Sidney Lumet', 'Billy Wilder'], 1958: ['Richard Brooks', 'Stanley Kramer', 'Robert Wise', 'Mark Robson', 'Vincente Minnelli'], 1959: ['George Stevens', 'Fred Zinnemann', 'Jack Clayton', 'Billy Wilder', 'William Wyler'], 1960: ['Billy Wilder', 'Jules Dassin', 'Alfred Hitchcock', 'Jack Cardiff', 'Fred Zinnemann'], 1961: ['J. Lee Thompson', 'Robert Rossen', 'Stanley Kramer', 'Federico Fellini', 'Robert Wise', 'Jerome Robbins'], 1962: ['David Lean', 'Frank Perry', 'Pietro Germi', 'Arthur Penn', 'Robert Mulligan'], 1963: ['Elia Kazan', 'Otto Preminger', 'Federico Fellini', 'Martin Ritt', 'Tony Richardson'], 1964: ['George Cukor', 'Peter Glenville', 'Stanley Kubrick', 'Robert Stevenson', 'Michael Cacoyannis'], 1965: ['William Wyler', 'John Schlesinger', 'David Lean', 'Hiroshi Teshigahara', 'Robert Wise'], 1966: ['Fred Zinnemann', 'Michelangelo Antonioni', 'Claude Lelouch', 'Richard Brooks', 'Mike Nichols'], 1967: ['Arthur Penn', 'Stanley Kramer', 'Richard Brooks', 'Norman Jewison', 'Mike Nichols'], 1968: ['Carol Reed', 'Gillo Pontecorvo', 'Anthony Harvey', 'Franco Zeffirelli', 'Stanley Kubrick'], 1969: ['John Schlesinger', 'Arthur Penn', 'George Roy Hill', 'Sydney Pollack', 'Costa-Gavras'], 1970: ['Franklin J. Schaffner', 'Federico Fellini', 'Arthur Hiller', 'Robert Altman', 'Ken Russell'], 1971: ['Stanley Kubrick', 'Norman Jewison', 'Peter Bogdanovich', 'John Schlesinger', 'William Friedkin'], 1972: ['Bob Fosse', 'John Boorman', 'Jan Troell', 'Francis Ford Coppola', 'Joseph L. Mankiewicz'], 1973: ['George Roy Hill', 'George Lucas', 'Ingmar Bergman', 'William Friedkin', 'Bernardo Bertolucci'], 1974: ['Francis Ford Coppola', 'Roman Polanski', 'Francois Truffaut', 'Bob Fosse', 'John Cassavetes'], 1975: ['Federico Fellini', 'Stanley Kubrick', 'Sidney Lumet', 'Robert Altman', 'Milos Forman'], 1976: ['Alan J. Pakula', 'Ingmar Bergman', 'Sidney Lumet', 'Lina Wertmuller', 'John G. Avildsen'], 1977: ['Steven Spielberg', 'Fred Zinnemann', 'George Lucas', 'Herbert Ross', 'Woody Allen'], 1978: ['Hal Ashby', 'Warren Beatty', 'Buck Henry', 'Woody Allen', 'Alan Parker', 'Michael Cimino'], 1979: ['Bob Fosse', 'Francis Coppola', 'Peter Yates', 'Edouard Molinaro', 'Robert Benton'], 1980: ['David Lynch', 'Martin Scorsese', 'Richard Rush', 'Roman Polanski', 'Robert Redford'], 1981: ['Louis Malle', 'Hugh Hudson', 'Mark Rydell', 'Steven Spielberg', 'Warren Beatty'], 1982: ['Wolfgang Petersen', 'Steven Spielberg', 'Sydney Pollack', 'Sidney Lumet', 'Richard Attenborough'], 1983: ['Peter Yates', 'Ingmar Bergman', 'Mike Nichols', 'Bruce Beresford', 'James L. Brooks'], 1984: ['Woody Allen', 'Roland Joffe', 'David Lean', 'Robert Benton', 'Milos Forman'], 1985: ['Hector Babenco', 'John Huston', 'Akira Kurosawa', 'Peter Weir', 'Sydney Pollack'], 1986: ['David Lynch', 'Woody Allen', 'Roland Joffe', 'James Ivory', 'Oliver Stone'], 1987: ['Bernardo Bertolucci', 'Adrian Lyne', 'John Boorman', 'Norman Jewison', 'Lasse Hallstrom'], 1988: ['Barry Levinson', 'Charles Crichton', 'Martin Scorsese', 'Alan Parker', 'Mike Nichols'], 1989: ['Woody Allen', 'Peter Weir', 'Kenneth Branagh', 'Jim Sheridan', 'Oliver Stone'], 1990: ['Francis Ford Coppola', 'Martin Scorsese', 'Stephen Frears', 'Barbet Schroeder', 'Kevin Costner'], 1991: ['John Singleton', 'Barry Levinson', 'Oliver Stone', 'Ridley Scott', 'Jonathan Demme'], 1992: ['Clint Eastwood', 'Neil Jordan', 'James Ivory', 'Robert Altman', 'Martin Brest'], 1993: ['Jim Sheridan', 'Jane Campion', 'James Ivory', 'Robert Altman', 'Steven Spielberg'], 1994: ['Woody Allen', 'Quentin Tarantino', 'Robert Redford', 'Krzysztof Kieslowski', 'Robert Zemeckis'], 1995: ['Chris Noonan', 'Tim Robbins', 'Mike Figgis', 'Michael Radford', 'Mel Gibson'], 1996: ['Anthony Minghella', 'Joel Coen', 'Milos Forman', 'Mike Leigh', 'Scott Hicks'], 1997: ['Peter Cattaneo', 'Gus Van Sant', 'Curtis Hanson', 'Atom Egoyan', 'James Cameron'], 1998: ['Roberto Benigni', 'John Madden', 'Terrence Malick', 'Peter Weir', 'Steven Spielberg'], 1999: ['Spike Jonze', 'Lasse Hallstrom', 'Michael Mann', 'M. Night Shyamalan', 'Sam Mendes'], 2000: ['Stephen Daldry', 'Ang Lee', 'Steven Soderbergh', 'Ridley Scott', 'Steven Soderbergh'], 2001: ['Ridley Scott', 'Robert Altman', 'Peter Jackson', 'David Lynch', 'Ron Howard'], 2002: ['Rob Marshall', 'Martin Scorsese', 'Stephen Daldry', 'Pedro Almodovar', 'Roman Polanski'], 2003: ['Fernando Meirelles', 'Sofia Coppola', 'Peter Weir', 'Clint Eastwood', 'Peter Jackson'], 2004: ['Martin Scorsese', 'Taylor Hackford', 'Alexander Payne', 'Mike Leigh', 'Clint Eastwood'], 2005: ['Ang Lee', 'Bennett Miller', 'Paul Haggis', 'George Clooney', 'Steven Spielberg'], 2006: ['Alejandro Gonzaalez Inarritu', 'Clint Eastwood', 'Stephen Frears', 'Paul Greengrass', 'Martin Scorsese'], 2007: ['Julian Schnabel', 'Jason Reitman', 'Tony Gilroy', 'Paul Thomas Anderson', 'Joel Coen', 'Ethan Coen'], 2008: ['David Fincher', 'Ron Howard', 'Gus Van Sant', 'Stephen Daldry', 'Danny Boyle'], 2009: ['James Cameron', 'Quentin Tarantino', 'Lee Daniels', 'Jason Reitman', 'Kathryn Bigelow'], 2010: ['Darren Aronofsky', 'David O. Russell', 'David Fincher', 'Ethan Coen', 'Joel Coen', 'Tom Hooper']}\n",
        "winners = {1931: ['Norman Taurog'], 1932: ['Frank Borzage'], 1933: ['Frank Lloyd'], 1934: ['Frank Capra'], 1935: ['John Ford'], 1936: ['Frank Capra'], 1937: ['Leo McCarey'], 1938: ['Frank Capra'], 1939: ['Victor Fleming'], 1940: ['John Ford'], 1941: ['John Ford'], 1942: ['William Wyler'], 1943: ['Michael Curtiz'], 1944: ['Leo McCarey'], 1945: ['Billy Wilder'], 1946: ['William Wyler'], 1947: ['Elia Kazan'], 1948: ['John Huston'], 1949: ['Joseph L. Mankiewicz'], 1950: ['Joseph L. Mankiewicz'], 1951: ['George Stevens'], 1952: ['John Ford'], 1953: ['Fred Zinnemann'], 1954: ['Elia Kazan'], 1955: ['Delbert Mann'], 1956: ['George Stevens'], 1957: ['David Lean'], 1958: ['Vincente Minnelli'], 1959: ['William Wyler'], 1960: ['Billy Wilder'], 1961: ['Jerome Robbins', 'Robert Wise'], 1962: ['David Lean'], 1963: ['Tony Richardson'], 1964: ['George Cukor'], 1965: ['Robert Wise'], 1966: ['Fred Zinnemann'], 1967: ['Mike Nichols'], 1968: ['Carol Reed'], 1969: ['John Schlesinger'], 1970: ['Franklin J. Schaffner'], 1971: ['William Friedkin'], 1972: ['Bob Fosse'], 1973: ['George Roy Hill'], 1974: ['Francis Ford Coppola'], 1975: ['Milos Forman'], 1976: ['John G. Avildsen'], 1977: ['Woody Allen'], 1978: ['Michael Cimino'], 1979: ['Robert Benton'], 1980: ['Robert Redford'], 1981: ['Warren Beatty'], 1982: ['Richard Attenborough'], 1983: ['James L. Brooks'], 1984: ['Milos Forman'], 1985: ['Sydney Pollack'], 1986: ['Oliver Stone'], 1987: ['Bernardo Bertolucci'], 1988: ['Barry Levinson'], 1989: ['Oliver Stone'], 1990: ['Kevin Costner'], 1991: ['Jonathan Demme'], 1992: ['Clint Eastwood'], 1993: ['Steven Spielberg'], 1994: ['Robert Zemeckis'], 1995: ['Mel Gibson'], 1996: ['Anthony Minghella'], 1997: ['James Cameron'], 1998: ['Steven Spielberg'], 1999: ['Sam Mendes'], 2000: ['Steven Soderbergh'], 2001: ['Ron Howard'], 2002: ['Roman Polanski'], 2003: ['Peter Jackson'], 2004: ['Clint Eastwood'], 2005: ['Ang Lee'], 2006: ['Martin Scorsese'], 2007: ['Ethan Coen', 'Joel Coen'], 2008: ['Danny Boyle'], 2009: ['Kathryn Bigelow'], 2010: ['Tom Hooper']}\n",
        "\n",
        "### Question 1A: Create dictionary with the count of Oscar nominations for each director \n",
        "nom_count_dict = {}\n",
        "nom_count_dict = {}\n",
        "for year, list_dir in nominated.items():\n",
        "    for director in list_dir:\n",
        "        if director not in nom_count_dict:\n",
        "            nom_count_dict[director] = 1\n",
        "        else:\n",
        "            nom_count_dict[director] += 1\n",
        "\n",
        "\n",
        "\n",
        "print(\"nom_count_dict = {}\\n\".format(nom_count_dict))"
      ],
      "metadata": {
        "colab": {
          "base_uri": "https://localhost:8080/"
        },
        "id": "13Ta12dD7Nmj",
        "outputId": "e5432bc6-9c9a-4596-e5a2-7fb4772347ad"
      },
      "execution_count": null,
      "outputs": [
        {
          "output_type": "stream",
          "name": "stdout",
          "text": [
            "nom_count_dict = {'Norman Taurog': 2, 'Wesley Ruggles': 1, 'Clarence Brown': 4, 'Lewis Milestone': 1, 'Josef Von Sternberg': 2, 'Frank Borzage': 1, 'King Vidor': 3, 'Frank Lloyd': 2, 'Frank Capra': 6, 'George Cukor': 5, 'Victor Schertzinger': 1, 'W. S. Van Dyke': 2, 'John Ford': 5, 'Michael Curtiz': 5, 'Henry Hathaway': 1, 'William Wyler': 12, 'Robert Z. Leonard': 1, 'Gregory La Cava': 2, 'Leo McCarey': 3, 'Sidney Franklin': 1, 'William Dieterle': 1, 'William Wellman': 2, 'Sam Wood': 3, 'Victor Fleming': 1, 'Alfred Hitchcock': 5, 'Orson Welles': 1, 'Alexander Hall': 1, 'Howard Hawks': 1, 'Mervyn LeRoy': 1, 'John Farrow': 1, 'Ernst Lubitsch': 1, 'George Stevens': 5, 'Henry King': 2, 'Billy Wilder': 8, 'Otto Preminger': 2, 'Jean Renoir': 1, 'David Lean': 7, 'Robert Siodmak': 1, 'Elia Kazan': 5, 'Henry Koster': 1, 'Edward Dmytryk': 1, 'John Huston': 5, 'Laurence Olivier': 1, 'Jean Negulesco': 1, 'Fred Zinnemann': 7, 'Anatole Litvak': 1, 'Joseph L. Mankiewicz': 4, 'Robert Rossen': 2, 'William A. Wellman': 1, 'Carol Reed': 3, 'Vincente Minnelli': 2, 'Cecil B. DeMille': 1, 'Charles Walters': 1, 'George Seaton': 1, 'Delbert Mann': 1, 'John Sturges': 1, 'Joshua Logan': 2, 'Michael Anderson': 1, 'Walter Lang': 1, 'Mark Robson': 2, 'Sidney Lumet': 4, 'Richard Brooks': 3, 'Stanley Kramer': 3, 'Robert Wise': 3, 'Jack Clayton': 1, 'Jules Dassin': 1, 'Jack Cardiff': 1, 'J. Lee Thompson': 1, 'Federico Fellini': 4, 'Jerome Robbins': 1, 'Frank Perry': 1, 'Pietro Germi': 1, 'Arthur Penn': 3, 'Robert Mulligan': 1, 'Martin Ritt': 1, 'Tony Richardson': 1, 'Peter Glenville': 1, 'Stanley Kubrick': 4, 'Robert Stevenson': 1, 'Michael Cacoyannis': 1, 'John Schlesinger': 3, 'Hiroshi Teshigahara': 1, 'Michelangelo Antonioni': 1, 'Claude Lelouch': 1, 'Mike Nichols': 4, 'Norman Jewison': 3, 'Gillo Pontecorvo': 1, 'Anthony Harvey': 1, 'Franco Zeffirelli': 1, 'George Roy Hill': 2, 'Sydney Pollack': 3, 'Costa-Gavras': 1, 'Franklin J. Schaffner': 1, 'Arthur Hiller': 1, 'Robert Altman': 5, 'Ken Russell': 1, 'Peter Bogdanovich': 1, 'William Friedkin': 2, 'Bob Fosse': 3, 'John Boorman': 2, 'Jan Troell': 1, 'Francis Ford Coppola': 3, 'George Lucas': 2, 'Ingmar Bergman': 3, 'Bernardo Bertolucci': 2, 'Roman Polanski': 3, 'Francois Truffaut': 1, 'John Cassavetes': 1, 'Milos Forman': 3, 'Alan J. Pakula': 1, 'Lina Wertmuller': 1, 'John G. Avildsen': 1, 'Steven Spielberg': 6, 'Herbert Ross': 1, 'Woody Allen': 6, 'Hal Ashby': 1, 'Warren Beatty': 2, 'Buck Henry': 1, 'Alan Parker': 2, 'Michael Cimino': 1, 'Francis Coppola': 1, 'Peter Yates': 2, 'Edouard Molinaro': 1, 'Robert Benton': 2, 'David Lynch': 3, 'Martin Scorsese': 6, 'Richard Rush': 1, 'Robert Redford': 2, 'Louis Malle': 1, 'Hugh Hudson': 1, 'Mark Rydell': 1, 'Wolfgang Petersen': 1, 'Richard Attenborough': 1, 'Bruce Beresford': 1, 'James L. Brooks': 1, 'Roland Joffe': 2, 'Hector Babenco': 1, 'Akira Kurosawa': 1, 'Peter Weir': 4, 'James Ivory': 3, 'Oliver Stone': 3, 'Adrian Lyne': 1, 'Lasse Hallstrom': 2, 'Barry Levinson': 2, 'Charles Crichton': 1, 'Kenneth Branagh': 1, 'Jim Sheridan': 2, 'Stephen Frears': 2, 'Barbet Schroeder': 1, 'Kevin Costner': 1, 'John Singleton': 1, 'Ridley Scott': 3, 'Jonathan Demme': 1, 'Clint Eastwood': 4, 'Neil Jordan': 1, 'Martin Brest': 1, 'Jane Campion': 1, 'Quentin Tarantino': 2, 'Krzysztof Kieslowski': 1, 'Robert Zemeckis': 1, 'Chris Noonan': 1, 'Tim Robbins': 1, 'Mike Figgis': 1, 'Michael Radford': 1, 'Mel Gibson': 1, 'Anthony Minghella': 1, 'Joel Coen': 3, 'Mike Leigh': 2, 'Scott Hicks': 1, 'Peter Cattaneo': 1, 'Gus Van Sant': 2, 'Curtis Hanson': 1, 'Atom Egoyan': 1, 'James Cameron': 2, 'Roberto Benigni': 1, 'John Madden': 1, 'Terrence Malick': 1, 'Spike Jonze': 1, 'Michael Mann': 1, 'M. Night Shyamalan': 1, 'Sam Mendes': 1, 'Stephen Daldry': 3, 'Ang Lee': 2, 'Steven Soderbergh': 2, 'Peter Jackson': 2, 'Ron Howard': 2, 'Rob Marshall': 1, 'Pedro Almodovar': 1, 'Fernando Meirelles': 1, 'Sofia Coppola': 1, 'Taylor Hackford': 1, 'Alexander Payne': 1, 'Bennett Miller': 1, 'Paul Haggis': 1, 'George Clooney': 1, 'Alejandro Gonzaalez Inarritu': 1, 'Paul Greengrass': 1, 'Julian Schnabel': 1, 'Jason Reitman': 2, 'Tony Gilroy': 1, 'Paul Thomas Anderson': 1, 'Ethan Coen': 2, 'David Fincher': 2, 'Danny Boyle': 1, 'Lee Daniels': 1, 'Kathryn Bigelow': 1, 'Darren Aronofsky': 1, 'David O. Russell': 1, 'Tom Hooper': 1}\n",
            "\n"
          ]
        }
      ]
    },
    {
      "cell_type": "markdown",
      "source": [
        "## **Question 1b**\n",
        "Provide a dictionary with the count of wins for each director.\n",
        "\n",
        "Essentially, it is the same logic as above, with the other dictionary.\n",
        "We could use the same approach as in question 1a and it would work fine, but I've provided a shorter alternative here. Instead of the last 4 lines as above, I've just written 1 line, by using the `.get` method. In this line, we find the director in the win_count_dict dictionary and return the value for that director (the number of times they've won). If they aren't in the dictionary, `get` returns 0 for that director. Then we increment that director's count by one.\n",
        "\n",
        "Solution code (to be inserted starting in line 9 of the starter code):"
      ],
      "metadata": {
        "id": "o4OUueFs74b5"
      }
    },
    {
      "cell_type": "code",
      "source": [
        "nominated = {1931: ['Norman Taurog', 'Wesley Ruggles', 'Clarence Brown', 'Lewis Milestone', 'Josef Von Sternberg'], 1932: ['Frank Borzage', 'King Vidor', 'Josef Von Sternberg'], 1933: ['Frank Lloyd', 'Frank Capra', 'George Cukor'], 1934: ['Frank Capra', 'Victor Schertzinger', 'W. S. Van Dyke'], 1935: ['John Ford', 'Michael Curtiz', 'Henry Hathaway', 'Frank Lloyd'], 1936: ['Frank Capra', 'William Wyler', 'Robert Z. Leonard', 'Gregory La Cava', 'W. S. Van Dyke'], 1937: ['Leo McCarey', 'Sidney Franklin', 'William Dieterle', 'Gregory La Cava', 'William Wellman'], 1938: ['Frank Capra', 'Michael Curtiz', 'Norman Taurog', 'King Vidor', 'Michael Curtiz'], 1939: ['Sam Wood', 'Frank Capra', 'John Ford', 'William Wyler', 'Victor Fleming'], 1940: ['John Ford', 'Sam Wood', 'William Wyler', 'George Cukor', 'Alfred Hitchcock'], 1941: ['John Ford', 'Orson Welles', 'Alexander Hall', 'William Wyler', 'Howard Hawks'], 1942: ['Sam Wood', 'Mervyn LeRoy', 'John Farrow', 'Michael Curtiz', 'William Wyler'], 1943: ['Michael Curtiz', 'Ernst Lubitsch', 'Clarence Brown', 'George Stevens', 'Henry King'], 1944: ['Leo McCarey', 'Billy Wilder', 'Otto Preminger', 'Alfred Hitchcock', 'Henry King'], 1945: ['Billy Wilder', 'Leo McCarey', 'Clarence Brown', 'Jean Renoir', 'Alfred Hitchcock'], 1946: ['David Lean', 'Frank Capra', 'Robert Siodmak', 'Clarence Brown', 'William Wyler'], 1947: ['Elia Kazan', 'Henry Koster', 'Edward Dmytryk', 'George Cukor', 'David Lean'], 1948: ['John Huston', 'Laurence Olivier', 'Jean Negulesco', 'Fred Zinnemann', 'Anatole Litvak'], 1949: ['Joseph L. Mankiewicz', 'Robert Rossen', 'William A. Wellman', 'Carol Reed', 'William Wyler'], 1950: ['Joseph L. Mankiewicz', 'John Huston', 'George Cukor', 'Billy Wilder', 'Carol Reed'], 1951: ['George Stevens', 'John Huston', 'Vincente Minnelli', 'William Wyler', 'Elia Kazan'], 1952: ['John Ford', 'Joseph L. Mankiewicz', 'Cecil B. DeMille', 'Fred Zinnemann', 'John Huston'], 1953: ['Fred Zinnemann', 'Charles Walters', 'William Wyler', 'George Stevens', 'Billy Wilder'], 1954: ['Elia Kazan', 'George Seaton', 'William Wellman', 'Alfred Hitchcock', 'Billy Wilder'], 1955: ['Delbert Mann', 'John Sturges', 'Elia Kazan', 'Joshua Logan', 'David Lean'], 1956: ['George Stevens', 'Michael Anderson', 'William Wyler', 'Walter Lang', 'King Vidor'], 1957: ['David Lean', 'Mark Robson', 'Joshua Logan', 'Sidney Lumet', 'Billy Wilder'], 1958: ['Richard Brooks', 'Stanley Kramer', 'Robert Wise', 'Mark Robson', 'Vincente Minnelli'], 1959: ['George Stevens', 'Fred Zinnemann', 'Jack Clayton', 'Billy Wilder', 'William Wyler'], 1960: ['Billy Wilder', 'Jules Dassin', 'Alfred Hitchcock', 'Jack Cardiff', 'Fred Zinnemann'], 1961: ['J. Lee Thompson', 'Robert Rossen', 'Stanley Kramer', 'Federico Fellini', 'Robert Wise', 'Jerome Robbins'], 1962: ['David Lean', 'Frank Perry', 'Pietro Germi', 'Arthur Penn', 'Robert Mulligan'], 1963: ['Elia Kazan', 'Otto Preminger', 'Federico Fellini', 'Martin Ritt', 'Tony Richardson'], 1964: ['George Cukor', 'Peter Glenville', 'Stanley Kubrick', 'Robert Stevenson', 'Michael Cacoyannis'], 1965: ['William Wyler', 'John Schlesinger', 'David Lean', 'Hiroshi Teshigahara', 'Robert Wise'], 1966: ['Fred Zinnemann', 'Michelangelo Antonioni', 'Claude Lelouch', 'Richard Brooks', 'Mike Nichols'], 1967: ['Arthur Penn', 'Stanley Kramer', 'Richard Brooks', 'Norman Jewison', 'Mike Nichols'], 1968: ['Carol Reed', 'Gillo Pontecorvo', 'Anthony Harvey', 'Franco Zeffirelli', 'Stanley Kubrick'], 1969: ['John Schlesinger', 'Arthur Penn', 'George Roy Hill', 'Sydney Pollack', 'Costa-Gavras'], 1970: ['Franklin J. Schaffner', 'Federico Fellini', 'Arthur Hiller', 'Robert Altman', 'Ken Russell'], 1971: ['Stanley Kubrick', 'Norman Jewison', 'Peter Bogdanovich', 'John Schlesinger', 'William Friedkin'], 1972: ['Bob Fosse', 'John Boorman', 'Jan Troell', 'Francis Ford Coppola', 'Joseph L. Mankiewicz'], 1973: ['George Roy Hill', 'George Lucas', 'Ingmar Bergman', 'William Friedkin', 'Bernardo Bertolucci'], 1974: ['Francis Ford Coppola', 'Roman Polanski', 'Francois Truffaut', 'Bob Fosse', 'John Cassavetes'], 1975: ['Federico Fellini', 'Stanley Kubrick', 'Sidney Lumet', 'Robert Altman', 'Milos Forman'], 1976: ['Alan J. Pakula', 'Ingmar Bergman', 'Sidney Lumet', 'Lina Wertmuller', 'John G. Avildsen'], 1977: ['Steven Spielberg', 'Fred Zinnemann', 'George Lucas', 'Herbert Ross', 'Woody Allen'], 1978: ['Hal Ashby', 'Warren Beatty', 'Buck Henry', 'Woody Allen', 'Alan Parker', 'Michael Cimino'], 1979: ['Bob Fosse', 'Francis Coppola', 'Peter Yates', 'Edouard Molinaro', 'Robert Benton'], 1980: ['David Lynch', 'Martin Scorsese', 'Richard Rush', 'Roman Polanski', 'Robert Redford'], 1981: ['Louis Malle', 'Hugh Hudson', 'Mark Rydell', 'Steven Spielberg', 'Warren Beatty'], 1982: ['Wolfgang Petersen', 'Steven Spielberg', 'Sydney Pollack', 'Sidney Lumet', 'Richard Attenborough'], 1983: ['Peter Yates', 'Ingmar Bergman', 'Mike Nichols', 'Bruce Beresford', 'James L. Brooks'], 1984: ['Woody Allen', 'Roland Joffe', 'David Lean', 'Robert Benton', 'Milos Forman'], 1985: ['Hector Babenco', 'John Huston', 'Akira Kurosawa', 'Peter Weir', 'Sydney Pollack'], 1986: ['David Lynch', 'Woody Allen', 'Roland Joffe', 'James Ivory', 'Oliver Stone'], 1987: ['Bernardo Bertolucci', 'Adrian Lyne', 'John Boorman', 'Norman Jewison', 'Lasse Hallstrom'], 1988: ['Barry Levinson', 'Charles Crichton', 'Martin Scorsese', 'Alan Parker', 'Mike Nichols'], 1989: ['Woody Allen', 'Peter Weir', 'Kenneth Branagh', 'Jim Sheridan', 'Oliver Stone'], 1990: ['Francis Ford Coppola', 'Martin Scorsese', 'Stephen Frears', 'Barbet Schroeder', 'Kevin Costner'], 1991: ['John Singleton', 'Barry Levinson', 'Oliver Stone', 'Ridley Scott', 'Jonathan Demme'], 1992: ['Clint Eastwood', 'Neil Jordan', 'James Ivory', 'Robert Altman', 'Martin Brest'], 1993: ['Jim Sheridan', 'Jane Campion', 'James Ivory', 'Robert Altman', 'Steven Spielberg'], 1994: ['Woody Allen', 'Quentin Tarantino', 'Robert Redford', 'Krzysztof Kieslowski', 'Robert Zemeckis'], 1995: ['Chris Noonan', 'Tim Robbins', 'Mike Figgis', 'Michael Radford', 'Mel Gibson'], 1996: ['Anthony Minghella', 'Joel Coen', 'Milos Forman', 'Mike Leigh', 'Scott Hicks'], 1997: ['Peter Cattaneo', 'Gus Van Sant', 'Curtis Hanson', 'Atom Egoyan', 'James Cameron'], 1998: ['Roberto Benigni', 'John Madden', 'Terrence Malick', 'Peter Weir', 'Steven Spielberg'], 1999: ['Spike Jonze', 'Lasse Hallstrom', 'Michael Mann', 'M. Night Shyamalan', 'Sam Mendes'], 2000: ['Stephen Daldry', 'Ang Lee', 'Steven Soderbergh', 'Ridley Scott', 'Steven Soderbergh'], 2001: ['Ridley Scott', 'Robert Altman', 'Peter Jackson', 'David Lynch', 'Ron Howard'], 2002: ['Rob Marshall', 'Martin Scorsese', 'Stephen Daldry', 'Pedro Almodovar', 'Roman Polanski'], 2003: ['Fernando Meirelles', 'Sofia Coppola', 'Peter Weir', 'Clint Eastwood', 'Peter Jackson'], 2004: ['Martin Scorsese', 'Taylor Hackford', 'Alexander Payne', 'Mike Leigh', 'Clint Eastwood'], 2005: ['Ang Lee', 'Bennett Miller', 'Paul Haggis', 'George Clooney', 'Steven Spielberg'], 2006: ['Alejandro Gonzaalez Inarritu', 'Clint Eastwood', 'Stephen Frears', 'Paul Greengrass', 'Martin Scorsese'], 2007: ['Julian Schnabel', 'Jason Reitman', 'Tony Gilroy', 'Paul Thomas Anderson', 'Joel Coen', 'Ethan Coen'], 2008: ['David Fincher', 'Ron Howard', 'Gus Van Sant', 'Stephen Daldry', 'Danny Boyle'], 2009: ['James Cameron', 'Quentin Tarantino', 'Lee Daniels', 'Jason Reitman', 'Kathryn Bigelow'], 2010: ['Darren Aronofsky', 'David O. Russell', 'David Fincher', 'Ethan Coen', 'Joel Coen', 'Tom Hooper']}\n",
        "winners = {1931: ['Norman Taurog'], 1932: ['Frank Borzage'], 1933: ['Frank Lloyd'], 1934: ['Frank Capra'], 1935: ['John Ford'], 1936: ['Frank Capra'], 1937: ['Leo McCarey'], 1938: ['Frank Capra'], 1939: ['Victor Fleming'], 1940: ['John Ford'], 1941: ['John Ford'], 1942: ['William Wyler'], 1943: ['Michael Curtiz'], 1944: ['Leo McCarey'], 1945: ['Billy Wilder'], 1946: ['William Wyler'], 1947: ['Elia Kazan'], 1948: ['John Huston'], 1949: ['Joseph L. Mankiewicz'], 1950: ['Joseph L. Mankiewicz'], 1951: ['George Stevens'], 1952: ['John Ford'], 1953: ['Fred Zinnemann'], 1954: ['Elia Kazan'], 1955: ['Delbert Mann'], 1956: ['George Stevens'], 1957: ['David Lean'], 1958: ['Vincente Minnelli'], 1959: ['William Wyler'], 1960: ['Billy Wilder'], 1961: ['Jerome Robbins', 'Robert Wise'], 1962: ['David Lean'], 1963: ['Tony Richardson'], 1964: ['George Cukor'], 1965: ['Robert Wise'], 1966: ['Fred Zinnemann'], 1967: ['Mike Nichols'], 1968: ['Carol Reed'], 1969: ['John Schlesinger'], 1970: ['Franklin J. Schaffner'], 1971: ['William Friedkin'], 1972: ['Bob Fosse'], 1973: ['George Roy Hill'], 1974: ['Francis Ford Coppola'], 1975: ['Milos Forman'], 1976: ['John G. Avildsen'], 1977: ['Woody Allen'], 1978: ['Michael Cimino'], 1979: ['Robert Benton'], 1980: ['Robert Redford'], 1981: ['Warren Beatty'], 1982: ['Richard Attenborough'], 1983: ['James L. Brooks'], 1984: ['Milos Forman'], 1985: ['Sydney Pollack'], 1986: ['Oliver Stone'], 1987: ['Bernardo Bertolucci'], 1988: ['Barry Levinson'], 1989: ['Oliver Stone'], 1990: ['Kevin Costner'], 1991: ['Jonathan Demme'], 1992: ['Clint Eastwood'], 1993: ['Steven Spielberg'], 1994: ['Robert Zemeckis'], 1995: ['Mel Gibson'], 1996: ['Anthony Minghella'], 1997: ['James Cameron'], 1998: ['Steven Spielberg'], 1999: ['Sam Mendes'], 2000: ['Steven Soderbergh'], 2001: ['Ron Howard'], 2002: ['Roman Polanski'], 2003: ['Peter Jackson'], 2004: ['Clint Eastwood'], 2005: ['Ang Lee'], 2006: ['Martin Scorsese'], 2007: ['Ethan Coen', 'Joel Coen'], 2008: ['Danny Boyle'], 2009: ['Kathryn Bigelow'], 2010: ['Tom Hooper']}\n",
        "\n",
        "### Question 1B: Create dictionary with the count of Oscar wins for each director\n",
        "win_count_dict = {}\n",
        "win_count_dict = {}\n",
        "for year, winnerlist in winners.items():\n",
        "    for winner in winnerlist:\n",
        "        win_count_dict[winner] = win_count_dict.get(winner, 0) + 1\n",
        "\n",
        "\n",
        "\n",
        "print(\"win_count_dict = {}\".format(win_count_dict))"
      ],
      "metadata": {
        "colab": {
          "base_uri": "https://localhost:8080/"
        },
        "id": "xyZL6NQo7QJi",
        "outputId": "53bd5898-8465-4c49-9c89-fa881635a542"
      },
      "execution_count": null,
      "outputs": [
        {
          "output_type": "stream",
          "name": "stdout",
          "text": [
            "win_count_dict = {'Norman Taurog': 1, 'Frank Borzage': 1, 'Frank Lloyd': 1, 'Frank Capra': 3, 'John Ford': 4, 'Leo McCarey': 2, 'Victor Fleming': 1, 'William Wyler': 3, 'Michael Curtiz': 1, 'Billy Wilder': 2, 'Elia Kazan': 2, 'John Huston': 1, 'Joseph L. Mankiewicz': 2, 'George Stevens': 2, 'Fred Zinnemann': 2, 'Delbert Mann': 1, 'David Lean': 2, 'Vincente Minnelli': 1, 'Jerome Robbins': 1, 'Robert Wise': 2, 'Tony Richardson': 1, 'George Cukor': 1, 'Mike Nichols': 1, 'Carol Reed': 1, 'John Schlesinger': 1, 'Franklin J. Schaffner': 1, 'William Friedkin': 1, 'Bob Fosse': 1, 'George Roy Hill': 1, 'Francis Ford Coppola': 1, 'Milos Forman': 2, 'John G. Avildsen': 1, 'Woody Allen': 1, 'Michael Cimino': 1, 'Robert Benton': 1, 'Robert Redford': 1, 'Warren Beatty': 1, 'Richard Attenborough': 1, 'James L. Brooks': 1, 'Sydney Pollack': 1, 'Oliver Stone': 2, 'Bernardo Bertolucci': 1, 'Barry Levinson': 1, 'Kevin Costner': 1, 'Jonathan Demme': 1, 'Clint Eastwood': 2, 'Steven Spielberg': 2, 'Robert Zemeckis': 1, 'Mel Gibson': 1, 'Anthony Minghella': 1, 'James Cameron': 1, 'Sam Mendes': 1, 'Steven Soderbergh': 1, 'Ron Howard': 1, 'Roman Polanski': 1, 'Peter Jackson': 1, 'Ang Lee': 1, 'Martin Scorsese': 1, 'Ethan Coen': 1, 'Joel Coen': 1, 'Danny Boyle': 1, 'Kathryn Bigelow': 1, 'Tom Hooper': 1}\n"
          ]
        }
      ]
    },
    {
      "cell_type": "markdown",
      "source": [
        "## **Question 2**\n",
        "Provide a list with the name(s) of the director(s) with the most Oscar wins.\n",
        "\n",
        "**Here's the logic for my solution:**\n",
        "1. To address this question, I will need to first create a dictionary with the number of wins by each winning director. For that I can use the code we wrote for Question 1b above.\n",
        "```\n",
        "#FIRST PART OF SOLUTION\n",
        "win_count_dict = {}\n",
        "for year, winnerlist in winners.items():\n",
        "    for winner in winnerlist:\n",
        "        win_count_dict[winner] = win_count_dict.get(winner, 0) + 1\n",
        "```\n",
        "\n",
        "2.This win_count_dict dictionary provides a dictionary with the win count for the directors. We will need this to then identify which key (here, director name) has the highest value (here, win count).\n",
        "3. To perform this task, we use a variable `highest_count` to keep track of the highest count of wins.\n",
        "4. We iterate through the dictionary to see if the value for a key (i.e., wins for a director) is more than the highest count.\n",
        "5. If it is, we replace that value as the `highest_count`.\n",
        "6. Plus we add that key (here, director name) to our list tracking the `most_win_director`.\n",
        "7. Every time we come upon a value higher than the current highest_count, we replace `highest_count` with the new higher value, empty the `most_win_director` and replace it with the new key (i.e., director's name)."
      ],
      "metadata": {
        "id": "cC7rClbB8QpT"
      }
    },
    {
      "cell_type": "code",
      "source": [
        "winners = {1931: ['Norman Taurog'], 1932: ['Frank Borzage'], 1933: ['Frank Lloyd'], 1934: ['Frank Capra'], 1935: ['John Ford'], 1936: ['Frank Capra'], 1937: ['Leo McCarey'], 1938: ['Frank Capra'], 1939: ['Victor Fleming'], 1940: ['John Ford'], 1941: ['John Ford'], 1942: ['William Wyler'], 1943: ['Michael Curtiz'], 1944: ['Leo McCarey'], 1945: ['Billy Wilder'], 1946: ['William Wyler'], 1947: ['Elia Kazan'], 1948: ['John Huston'], 1949: ['Joseph L. Mankiewicz'], 1950: ['Joseph L. Mankiewicz'], 1951: ['George Stevens'], 1952: ['John Ford'], 1953: ['Fred Zinnemann'], 1954: ['Elia Kazan'], 1955: ['Delbert Mann'], 1956: ['George Stevens'], 1957: ['David Lean'], 1958: ['Vincente Minnelli'], 1959: ['William Wyler'], 1960: ['Billy Wilder'], 1961: ['Jerome Robbins', 'Robert Wise'], 1962: ['David Lean'], 1963: ['Tony Richardson'], 1964: ['George Cukor'], 1965: ['Robert Wise'], 1966: ['Fred Zinnemann'], 1967: ['Mike Nichols'], 1968: ['Carol Reed'], 1969: ['John Schlesinger'], 1970: ['Franklin J. Schaffner'], 1971: ['William Friedkin'], 1972: ['Bob Fosse'], 1973: ['George Roy Hill'], 1974: ['Francis Ford Coppola'], 1975: ['Milos Forman'], 1976: ['John G. Avildsen'], 1977: ['Woody Allen'], 1978: ['Michael Cimino'], 1979: ['Robert Benton'], 1980: ['Robert Redford'], 1981: ['Warren Beatty'], 1982: ['Richard Attenborough'], 1983: ['James L. Brooks'], 1984: ['Milos Forman'], 1985: ['Sydney Pollack'], 1986: ['Oliver Stone'], 1987: ['Bernardo Bertolucci'], 1988: ['Barry Levinson'], 1989: ['Oliver Stone'], 1990: ['Kevin Costner'], 1991: ['Jonathan Demme'], 1992: ['Clint Eastwood'], 1993: ['Steven Spielberg'], 1994: ['Robert Zemeckis'], 1995: ['Mel Gibson'], 1996: ['Anthony Minghella'], 1997: ['James Cameron'], 1998: ['Steven Spielberg'], 1999: ['Sam Mendes'], 2000: ['Steven Soderbergh'], 2001: ['Ron Howard'], 2002: ['Roman Polanski'], 2003: ['Peter Jackson'], 2004: ['Clint Eastwood'], 2005: ['Ang Lee'], 2006: ['Martin Scorsese'], 2007: ['Ethan Coen', 'Joel Coen'], 2008: ['Danny Boyle'], 2009: ['Kathryn Bigelow'], 2010: ['Tom Hooper']}\n",
        "\n",
        "\n",
        "### For Question 2: Please provide a list with the name(s) of the director(s) with \n",
        "### the most Oscar wins. The list can hold the names of multiple directors,\n",
        "### since there can be more than 1 director tied with the most Oscar wins.\n",
        "\n",
        "most_win_director = []\n",
        "#FIRST PART OF SOLUTION\n",
        "win_count_dict = {}\n",
        "for year, winnerlist in winners.items():\n",
        "    for winner in winnerlist:\n",
        "        win_count_dict[winner] = win_count_dict.get(winner, 0) + 1\n",
        "\n",
        "#SECOND PART OF SOLUTION\n",
        "highest_count = 0\n",
        "most_win_director = []\n",
        "\n",
        "for key, value in win_count_dict.items():\n",
        "    if value > highest_count:\n",
        "        highest_count = value\n",
        "        most_win_director.clear()\n",
        "        most_win_director.append(key)\n",
        "    elif value == highest_count:\n",
        "        most_win_director.append(key)\n",
        "    else:\n",
        "        continue\n",
        "\n",
        "#ALTERNATIVE SECOND PART OF SOLUTION\n",
        "highest_count = max(win_count_dict.values())\n",
        "\n",
        "most_win_director = [key for key, value in win_count_dict.items() if value == highest_count]\n",
        "\n",
        "\n",
        "print(\"most_win_director = {}\".format(most_win_director))\n"
      ],
      "metadata": {
        "colab": {
          "base_uri": "https://localhost:8080/"
        },
        "id": "MVvaTsPV8M9f",
        "outputId": "f9607020-c90d-4a2c-9d62-a41d9e3b3a8a"
      },
      "execution_count": null,
      "outputs": [
        {
          "output_type": "stream",
          "name": "stdout",
          "text": [
            "most_win_director = ['John Ford']\n"
          ]
        }
      ]
    },
    {
      "cell_type": "code",
      "source": [],
      "metadata": {
        "id": "Rdakpaoy8hYY"
      },
      "execution_count": null,
      "outputs": []
    }
  ]
}