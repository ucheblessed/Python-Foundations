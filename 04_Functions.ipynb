{
  "nbformat": 4,
  "nbformat_minor": 0,
  "metadata": {
    "colab": {
      "provenance": [],
      "authorship_tag": "ABX9TyNRjLsFuVhVyLrm9zTb8uHx",
      "include_colab_link": true
    },
    "kernelspec": {
      "name": "python3",
      "display_name": "Python 3"
    },
    "language_info": {
      "name": "python"
    }
  },
  "cells": [
    {
      "cell_type": "markdown",
      "metadata": {
        "id": "view-in-github",
        "colab_type": "text"
      },
      "source": [
        "<a href=\"https://colab.research.google.com/github/ucheblessed/ucheblessed/blob/main/04_Functions.ipynb\" target=\"_parent\"><img src=\"https://colab.research.google.com/assets/colab-badge.svg\" alt=\"Open In Colab\"/></a>"
      ]
    },
    {
      "cell_type": "markdown",
      "source": [
        "# **Functions**\n",
        "Welcome to this lesson on Functions! Functions are useful blocks of code that allow you to encapsulate a task. Encapsulation allows us to carry out a whole series of steps with one simple command. You can think about functions as a way to take what you have already learned how to do and put it in an easy-to-use container that allows you to use it over and over again.\n",
        "\n",
        "In the diagram below, the container represents the function, the circle above it represents any input you may need to feed into the function, and the circle below represents any output you may get out of the function. In the example of the `bake_cake` function, you may want to provide the ingredients and prepare your baking pans as inputs, then `bake_cake` with those baking pans. You will get a cake as an output."
      ],
      "metadata": {
        "id": "tdNQ8xtR-KUU"
      }
    },
    {
      "cell_type": "markdown",
      "source": [
        "<div><div class=\"index--container--2OwOl\"><div class=\"index--atom--lmAIo layout--content--3Smmq\"><div><span></span><div role=\"button\" tabindex=\"0\" aria-label=\"Show Image Fullscreen\" class=\"image-atom--image-atom--1XDdu\"><div class=\"image-atom-content--CDPca\"><div class=\"image-and-annotations-container--1U01s\"><img class=\"image--26lOQ\" src=\"https://video.udacity-data.com/topher/2021/May/609d84cc_4-functions2x/4-functions2x.jpeg\" alt=\"A functions is like a container that includes a block of code that accomplishes a certain task\" width=\"500px\"></div><div class=\"caption--2IK-Y\"><div class=\"_15vzQlp3FJ8f94suLiPCPf ureact-markdown \"><p>Functions</p>\n",
        "</div></div></div></div></div><span></span></div><span></span></div></div>"
      ],
      "metadata": {
        "id": "CzjRDNps-dSb"
      }
    },
    {
      "cell_type": "markdown",
      "source": [
        "In this lesson, you will learn about:\n",
        "\n",
        "* Defining Functions\n",
        "* Variable Scope\n",
        "* Documentation\n",
        "* Lambda Expressions\n",
        "* Iterators and Generators"
      ],
      "metadata": {
        "id": "4zMT5h_x-kbK"
      }
    },
    {
      "cell_type": "markdown",
      "source": [
        "Before we can start using a function, we first need to define what the function does and what kind of input it may need. The code in the function will only get executed when we **call** or use this function. So functions and function calls provide another way to control the flow of a Python program.\n",
        "\n",
        "There are two videos on this page, one on defining functions and one on default arguments.\n",
        "\n",
        "## **Defining Functions**\n",
        "Example of a function definition:\n",
        "```\n",
        "def cylinder_volume(height, radius):\n",
        "    pi = 3.14159\n",
        "    return height * pi * radius ** 2\n",
        "```\n",
        "\n",
        "After defining the cylinder_volume function, we can **call** the function like this.\n",
        "```\n",
        "cylinder_volume(10, 3)\n",
        "```\n",
        "\n",
        "This is called a **function call*** statement.\n",
        "\n",
        "A function definition includes several important parts.\n",
        "\n",
        "## Function Header\n",
        "Let's start with the function header, which is the first line of a function definition.\n",
        "\n",
        "1. The function header always starts with the `def` keyword, which indicates that this is a **function** definition.\n",
        "2. Then comes the **function name** (here, `cylinder_volume`), which follows the same naming conventions as variables. You can revisit the naming conventions below.\n",
        "3. Immediately after the name are parentheses that may include **arguments** separated by commas (here, `height` and `radius`). Arguments, or **parameters**, are values that are passed in as **inputs** when the function is called, and are used in the function body. If a function doesn't take arguments, these parentheses are left empty.\n",
        "4. he header always end with a colon `:`."
      ],
      "metadata": {
        "id": "dnWLBfRS-xWz"
      }
    },
    {
      "cell_type": "markdown",
      "source": [
        "## Function Body\n",
        "The rest of the function is contained in the body, which is where the function does its work.\n",
        "\n",
        "1. The **body** of a function is the code indented after the header line. Here, it's the two lines that define `pi` and `return` the volume.\n",
        "2. Within this body, we can refer to the **argument variables** and define new variables, which can only be used within these indented lines.\n",
        "3. The body will often include a `return` statement, which is used to send back an **output value** from the function to the statement that called the function. A `return` statement consists of the `return` keyword followed by an expression that is evaluated to get the output value for the function. If there is no `return` statement, the function simply returns None."
      ],
      "metadata": {
        "id": "sLQ_P8vh_vUk"
      }
    },
    {
      "cell_type": "markdown",
      "source": [
        "## **Naming Conventions for Functions**\n",
        "Function names follow the same naming conventions as variables.\n",
        "\n",
        "1. Only use ordinary letters, numbers and underscores in your function names. They can’t have spaces, and need to start with a letter or underscore.\n",
        "2. **You can’t use reserved words or built-in identifiers** that have important purposes in Python, which you’ll learn about throughout this course. A list of Python reserved words is described [here](https://pentangle.net/python/handbook/node52.html).\n",
        "3. Try to use descriptive names that can help readers understand what the function does."
      ],
      "metadata": {
        "id": "a39hlPy9Af-F"
      }
    },
    {
      "cell_type": "markdown",
      "source": [
        "## Print vs. Return in Functions\n",
        "Here are two valid functions. One returns a value and one simply prints a value, without returning anything. Test run this code and experiment to understand the difference."
      ],
      "metadata": {
        "id": "QfRPWytMA--i"
      }
    },
    {
      "cell_type": "code",
      "source": [
        "# this prints something, but does not return anything\n",
        "def show_plus_ten(num):\n",
        "    print(num + 10)\n",
        "\n",
        "# this returns something\n",
        "def add_ten(num):\n",
        "    return(num + 10)\n",
        "\n",
        "print('Calling show_plus_ten...')\n",
        "return_value_1 = show_plus_ten(5)\n",
        "print('Done calling')\n",
        "print('This function returned: {}'.format(return_value_1))\n",
        "\n",
        "print('\\nCalling add_ten...')\n",
        "return_value_2 = add_ten(5)\n",
        "print('Done calling')\n",
        "print('This function returned: {}'.format(return_value_2))"
      ],
      "metadata": {
        "colab": {
          "base_uri": "https://localhost:8080/"
        },
        "id": "swl3bkLQ-ceX",
        "outputId": "8c143ea5-d223-45ee-b808-c58a4302ea69"
      },
      "execution_count": null,
      "outputs": [
        {
          "output_type": "stream",
          "name": "stdout",
          "text": [
            "Calling show_plus_ten...\n",
            "15\n",
            "Done calling\n",
            "This function returned: None\n",
            "\n",
            "Calling add_ten...\n",
            "Done calling\n",
            "This function returned: 15\n"
          ]
        }
      ]
    },
    {
      "cell_type": "markdown",
      "source": [
        "## **Default Arguments**\n",
        "We can add default arguments in a function to have default values for parameters that are unspecified in a function call.\n",
        "```\n",
        "def cylinder_volume(height, radius=5):\n",
        "    pi = 3.14159\n",
        "    return height * pi * radius ** 2\n",
        "```\n",
        "\n",
        "In the example above, `radius` is set to 5 if that parameter is omitted in a function call. If we call `cylinder_volume(10)`, the function will use 10 as the height and 5 as the radius. However, if we call `cylinder_volume(10, 7)` the 7 will simply overwrite the default value of 5.\n",
        "\n",
        "Also notice here we are passing values to our arguments by position. It is possible to pass values in two ways - **by position** and **by name**. Each of these function calls are evaluated the same way.\n",
        "```\n",
        "cylinder_volume(10, 7)  # pass in arguments by position\n",
        "cylinder_volume(height=10, radius=7)  # pass in arguments by name\n",
        "```\n"
      ],
      "metadata": {
        "id": "xW4AdRJHB1C8"
      }
    },
    {
      "cell_type": "markdown",
      "source": [
        "# **Lots of Practice**\n",
        "An excellent resource for putting your skills to use is to join communities like the one at [HackerRank](https://www.hackerrank.com/). Here you can work through tons of problems at your own pace! Once you master writing functions, you will be ready to build full applications using Python.\n",
        "\n",
        "## **Quiz: Population Density Function**\n",
        "Write a function named `population_density` that takes two arguments, `population` and land_area, and returns a population density calculated from those values. I've included two test cases that you can use to verify that your function works correctly. Once you've written your function, use the Test Run button to test your code."
      ],
      "metadata": {
        "id": "9sBnwDm-CX4e"
      }
    },
    {
      "cell_type": "code",
      "source": [
        "# write your function here\n",
        "\n",
        "\n",
        "\n",
        "\n",
        "# test cases for your function\n",
        "test1 = population_density(10, 1)\n",
        "expected_result1 = 10\n",
        "print(\"expected result: {}, actual result: {}\".format(expected_result1, test1))\n",
        "\n",
        "test2 = population_density(864816, 121.4)\n",
        "expected_result2 = 7123.6902801\n",
        "print(\"expected result: {}, actual result: {}\".format(expected_result2, test2))"
      ],
      "metadata": {
        "id": "L_nRQ6pOBEV9"
      },
      "execution_count": null,
      "outputs": []
    },
    {
      "cell_type": "markdown",
      "source": [
        "# **Quiz: `readable_timedelta`**\n",
        "Write a function named `readable_timedelta`. The function should take one argument, an integer `days`, and return a string that says how many weeks and days that is. For example, calling the function and printing the result like this:\n",
        "```\n",
        "print(readable_timedelta(10))\n",
        "```\n",
        "\n",
        "should output the following:\n",
        "```\n",
        "1 week(s) and 3 day(s).\n",
        "```"
      ],
      "metadata": {
        "id": "z3IsPMcgC20r"
      }
    },
    {
      "cell_type": "code",
      "source": [
        "# write your function here\n",
        "\n",
        "\n",
        "# test your function\n",
        "print(readable_timedelta(10))"
      ],
      "metadata": {
        "id": "z9E3hryKDX0x"
      },
      "execution_count": null,
      "outputs": []
    },
    {
      "cell_type": "markdown",
      "source": [
        "## **Quiz Solution: Population Density Function**"
      ],
      "metadata": {
        "id": "n3zMU7V-DYlF"
      }
    },
    {
      "cell_type": "code",
      "source": [
        "def population_density(population, land_area):\n",
        "    return population/land_area\n",
        "\n",
        "# test cases for your function\n",
        "test1 = population_density(10, 1)\n",
        "expected_result1 = 10\n",
        "print(\"expected result: {}, actual result: {}\".format(expected_result1, test1))\n",
        "\n",
        "test2 = population_density(864816, 121.4)\n",
        "expected_result2 = 7123.6902801\n",
        "print(\"expected result: {}, actual result: {}\".format(expected_result2, test2))"
      ],
      "metadata": {
        "colab": {
          "base_uri": "https://localhost:8080/"
        },
        "id": "M6w6vP3qDd0x",
        "outputId": "4b194997-3ad9-426f-e510-f066e7e2f8c2"
      },
      "execution_count": null,
      "outputs": [
        {
          "output_type": "stream",
          "name": "stdout",
          "text": [
            "expected result: 10, actual result: 10.0\n",
            "expected result: 7123.6902801, actual result: 7123.690280065897\n"
          ]
        }
      ]
    },
    {
      "cell_type": "markdown",
      "source": [
        "I used a one-line function body because my personal preference is to keep my functions brief, as long as it doesn't make the code confusing. You could also perform the calculation on its own line separate from the return statement."
      ],
      "metadata": {
        "id": "DQXsyQpKDoYm"
      }
    },
    {
      "cell_type": "markdown",
      "source": [
        "# **Quiz Solution: `readable_timedelta`**"
      ],
      "metadata": {
        "id": "1c1GERISDq-P"
      }
    },
    {
      "cell_type": "code",
      "source": [
        "def readable_timedelta(days):\n",
        "    # use integer division to get the number of weeks\n",
        "    weeks = days // 7\n",
        "    # use % to get the number of days that remain\n",
        "    remainder = days % 7\n",
        "    return \"{} week(s) and {} day(s).\".format(weeks, remainder)\n",
        "\n",
        "# test your function\n",
        "print(readable_timedelta(10))"
      ],
      "metadata": {
        "colab": {
          "base_uri": "https://localhost:8080/"
        },
        "id": "6v8G9zMvDfnI",
        "outputId": "335bc961-c674-442e-921a-47bfc8b035a1"
      },
      "execution_count": null,
      "outputs": [
        {
          "output_type": "stream",
          "name": "stdout",
          "text": [
            "1 week(s) and 3 day(s).\n"
          ]
        }
      ]
    },
    {
      "cell_type": "markdown",
      "source": [
        "# **Variable Scope**\n",
        "Variable scope refers to which parts of a program a variable can be referenced, or used, from.\n",
        "\n",
        "It's important to consider scope when using variables in functions. If a variable is created inside a function, it can only be used within that function. Accessing it outside that function is not possible.\n",
        "```\n",
        "# This will result in an error\n",
        "def some_function():\n",
        "    word = \"hello\"\n",
        "\n",
        "print(word)\n",
        "```\n",
        "\n",
        "In the example above and the example below, `word` is said to have scope that is only **local** to each function. This means you can use the same name for different variables that are used in different functions.\n",
        "```\n",
        "# This works fine\n",
        "def some_function():\n",
        "    word = \"hello\"\n",
        "\n",
        "def another_function():\n",
        "    word = \"goodbye\"\n",
        "```\n",
        "\n",
        "Variables defined outside functions, as in the example below, can still be accessed within a function. Here, `word` is said to have a **global scope.**\n",
        "```\n",
        "# This works fine\n",
        "word = \"hello\"\n",
        "\n",
        "def some_function():\n",
        "    print(word)\n",
        "\n",
        "some_function()\n",
        "```\n",
        "\n",
        "Notice that we can still access the value of the global variable `word` within this function. However, the value of a global variable can not be **modified** inside the function. If you want to modify that variable's value inside this function, it should be passed in as an argument. You'll see more on this in the next quiz.\n",
        "\n",
        "Scope is essential to understanding how information is passed throughout programs in Python and really any programming language.\n",
        "\n",
        "## **More on Variable Scope**\n",
        "When you program, you'll often find that similar ideas come up again and again. You'll use variables for things like counting, iterating and accumulating values to return. In order to write readable code, you'll find yourself wanting to use similar names for similar ideas. As soon as you put multiple piece of code together (for instance, multiple functions or function calls in a single script) you might find that you want to use the same name for two separate concepts.\n",
        "\n",
        "Fortunately, you don't need to come up with new names endlessly. Reusing names for objects is OK as long as you keep them in separate scope.\n",
        "\n",
        "**Good practice:** It is best to define variables in the smallest scope they will be needed in. While functions can refer to variables defined in a larger scope, this is very rarely a good idea since you may not know what variables you have defined if your program has a lot of variables."
      ],
      "metadata": {
        "id": "59dLE9lmFpSq"
      }
    },
    {
      "cell_type": "markdown",
      "source": [
        "### **QUIZ QUESTION**\n",
        "Read through this code snippet:\n",
        "```\n",
        "egg_count = 0\n",
        "\n",
        "def buy_eggs():\n",
        "    egg_count += 12 # purchase a dozen eggs\n",
        "\n",
        "buy_eggs()\n",
        "```\n",
        "What is the result of running this code?\n",
        "\n",
        "This causes an `UnboundLocalError`, since Python doesn't allow functions to modify variables that are outside the function's scope. A better way would be to pass the variable as an argument and reassign it outside the function.\n",
        "\n",
        "Within a function, we can print a global variable's value successfully without an error. This worked because we were simply accessing the value of the variable. If we try to change or reassign this global variable, however, as we do in this code, we get an error. Python doesn't allow functions to modify variables that aren't in the function's scope.\n",
        "\n",
        "A better way to write this would be:\n",
        "```\n",
        "egg_count = 0\n",
        "\n",
        "def buy_eggs(count):\n",
        "    return count + 12  # purchase a dozen eggs\n",
        "\n",
        "egg_count = buy_eggs(egg_count)\n",
        "```"
      ],
      "metadata": {
        "id": "mc7NNcrAILP4"
      }
    },
    {
      "cell_type": "code",
      "source": [
        "egg_count = 0\n",
        "\n",
        "def buy_eggs(count):\n",
        "    return count + 12  # purchase a dozen eggs\n",
        "\n",
        "egg_count = buy_eggs(egg_count)"
      ],
      "metadata": {
        "id": "XlpO3dFcD83r"
      },
      "execution_count": null,
      "outputs": []
    },
    {
      "cell_type": "markdown",
      "source": [
        "## **Check for Understanding**\n",
        "In the questions below, you will get some practice working with variable scope. It is important to understand variable scope, as this often can lead to confusion when writing code that solves complex problems.\n",
        "\n",
        "Try to answer each of these quiz questions, just by examining the code, without executing it. But there is an environment at the bottom of the page where you can test the code if you'd like."
      ],
      "metadata": {
        "id": "ijPiorrGh7ek"
      }
    },
    {
      "cell_type": "markdown",
      "source": [
        "### **QUESTION 1 OF 5**\n",
        "Use the code below to determine what will print to the console.\n",
        "```\n",
        "str1 = 'Functions are important programming concepts.'\n",
        "\n",
        "def print_fn():\n",
        "    str1 = 'Variable scope is an important concept.'\n",
        "    print(str1)\n",
        "\n",
        "print_fn()\n",
        "```\n"
      ],
      "metadata": {
        "id": "uMblgQm4iQPW"
      }
    },
    {
      "cell_type": "code",
      "source": [
        "str1 = 'Functions are important programming concepts.'\n",
        "\n",
        "def print_fn():\n",
        "    str1 = 'Variable scope is an important concept.'\n",
        "    print(str1)\n",
        "\n",
        "print_fn()"
      ],
      "metadata": {
        "colab": {
          "base_uri": "https://localhost:8080/"
        },
        "id": "2J7MQaV_Hi0Y",
        "outputId": "4a53f902-06e6-4a8c-a65a-d5151e76e11c"
      },
      "execution_count": null,
      "outputs": [
        {
          "output_type": "stream",
          "name": "stdout",
          "text": [
            "Variable scope is an important concept.\n"
          ]
        }
      ]
    },
    {
      "cell_type": "markdown",
      "source": [
        "### **QUESTION 2 OF 5**\n",
        "Now let's say we tweak the code a bit and comment out `str1 = 'Variable scope is an important concept.'`\n",
        "```\n",
        "str1 = 'Functions are important programming concepts.'\n",
        "\n",
        "def print_fn():\n",
        "    #str1 = 'Variable scope is an important concept.'\n",
        "    print(str1)\n",
        "\n",
        "print_fn()\n",
        "```"
      ],
      "metadata": {
        "id": "935m6qP3ioo3"
      }
    },
    {
      "cell_type": "code",
      "source": [
        "str1 = 'Functions are important programming concepts.'\n",
        "\n",
        "def print_fn():\n",
        "    #str1 = 'Variable scope is an important concept.'\n",
        "    print(str1)\n",
        "\n",
        "print_fn()"
      ],
      "metadata": {
        "colab": {
          "base_uri": "https://localhost:8080/"
        },
        "id": "Dis4AA3qigAD",
        "outputId": "8ba0c13b-0ed7-4c10-c954-df9761f1e4a9"
      },
      "execution_count": null,
      "outputs": [
        {
          "output_type": "stream",
          "name": "stdout",
          "text": [
            "Functions are important programming concepts.\n"
          ]
        }
      ]
    },
    {
      "cell_type": "markdown",
      "source": [
        "When we comment out `str1 = 'Variable scope is an important concept,'` the `str1` variable being referenced inside the function becomes the one with the global scope from line 1. So the value of that variable with global scope is printed out inside the function."
      ],
      "metadata": {
        "id": "zbOGadcEi6cy"
      }
    },
    {
      "cell_type": "markdown",
      "source": [
        "### **QUESTION 3 OF 5**\n",
        "We made another tweak to the code.\n",
        "```\n",
        "def print_fn():\n",
        "    str1 = 'Variable scope is an important concept.'\n",
        "    print(str1)\n",
        "\n",
        "print_fn(str1)\n",
        "```\n",
        "\n",
        "What do you think will happen when we run this code?"
      ],
      "metadata": {
        "id": "kqHDw2vHjD2L"
      }
    },
    {
      "cell_type": "markdown",
      "source": [
        " It gives a `NameError: 'name 'str1' is not defined`\n",
        "\n",
        " 'str1' is used in the function call before it has been given a value, so it is still undefined."
      ],
      "metadata": {
        "id": "uMfzs3VvjQoc"
      }
    },
    {
      "cell_type": "markdown",
      "source": [
        "### **QUESTION 4 OF 5**\n",
        "We made a final tweak to the code.\n",
        "```\n",
        "str1 = 'Functions are important programming concepts.'\n",
        "\n",
        "def print_fn():\n",
        "    print(str1)\n",
        "\n",
        "print_fn(str1)\n",
        "```\n",
        "\n",
        "Now what do you think will happen?\n",
        "\n",
        "It gives a `TypeError: 'print_fn() takes 0 positional arguments but 1 was given'`\n",
        "\n",
        "Since the function definition does not include any arguments, but the function call `print_fn(str1)` does, it will create this error."
      ],
      "metadata": {
        "id": "_w70FintjWVj"
      }
    },
    {
      "cell_type": "markdown",
      "source": [
        "# **Documentation**\n",
        "Documentation is used to make your code easier to understand and use. Functions are especially readable because they often use documentation strings, or docstrings. Docstrings are a type of comment used to explain the purpose of a function, and how it should be used. Here's a function for population density with a docstring.\n",
        "```\n",
        "def population_density(population, land_area):\n",
        "    \"\"\"Calculate the population density of an area. \"\"\"\n",
        "    return population / land_area\n",
        "```\n",
        "\n",
        "Docstrings are surrounded by triple quotes. The first line of the docstring is a brief explanation of the function's purpose. If you feel that this is sufficient documentation you can end the docstring at this point; single line docstrings are perfectly acceptable, as in the example above.\n",
        "```\n",
        "def population_density(population, land_area):\n",
        "    \"\"\"Calculate the population density of an area.\n",
        "\n",
        "    INPUT:\n",
        "    population: int. The population of that area\n",
        "    land_area: int or float. This function is unit-agnostic, if you pass in values in terms\n",
        "    of square km or square miles the function will return a density in those units.\n",
        "\n",
        "    OUTPUT: \n",
        "    population_density: population / land_area. The population density of a particular area.\n",
        "    \"\"\"\n",
        "    return population / land_area\n",
        "```\n",
        "\n",
        "If you think that a longer description would be appropriate for the function, you can add more information after the one-line summary. In the example above, you can see that we wrote an explanation of the function's arguments, stating the purpose and types of each one. It's also common to provide some description of the function's output.\n",
        "\n",
        "Every piece of the docstring is optional, however, docstrings are a part of good coding practice.\n",
        "\n",
        "If you're interested, you can learn more by reading [this piece about docstring conventions](https://www.python.org/dev/peps/pep-0257).\n"
      ],
      "metadata": {
        "id": "erg7SWNp2_-o"
      }
    },
    {
      "cell_type": "markdown",
      "source": [
        "# **Quiz: Write a Docstring**\n",
        "Write a docstring for the `readable_timedelta` function you defined earlier! Remember the way you write your docstrings is pretty flexible! Check out this [Stack Overflow page](https://stackoverflow.com/questions/3898572/what-is-the-standard-python-docstring-format) for some inspiration!"
      ],
      "metadata": {
        "id": "ynEt3AvS3Y5a"
      }
    },
    {
      "cell_type": "code",
      "source": [
        "def readable_timedelta(days):\n",
        "    # insert your docstring here\n",
        "\n",
        "    weeks = days // 7\n",
        "    remainder = days % 7\n",
        "    return \"{} week(s) and {} day(s)\".format(weeks, remainder)"
      ],
      "metadata": {
        "id": "YH6vl_xL3V3V"
      },
      "execution_count": null,
      "outputs": []
    },
    {
      "cell_type": "markdown",
      "source": [
        "# **Quiz Solution: `readable_timedelta`**\n",
        "Here are some ways you could've written your docstring!"
      ],
      "metadata": {
        "id": "29KgnEHG4jlg"
      }
    },
    {
      "cell_type": "code",
      "source": [
        "def readable_timedelta(days):\n",
        "    \"\"\"Return a string of the number of weeks and days included in days.\"\"\"\n",
        "    weeks = days // 7\n",
        "    remainder = days % 7\n",
        "    return \"{} week(s) and {} day(s)\".format(weeks, remainder)\n",
        "\n",
        "    \n",
        "def readable_timedelta(days):\n",
        "    \"\"\"Return a string of the number of weeks and days included in days.\n",
        "\n",
        "    Args:\n",
        "        days (int): number of days to convert\n",
        "    \"\"\"\n",
        "    weeks = days // 7\n",
        "    remainder = days % 7\n",
        "    return \"{} week(s) and {} day(s)\".format(weeks, remainder)\n",
        "\n",
        "\n",
        "def readable_timedelta(days):\n",
        "    \"\"\"\n",
        "    Return a string of the number of weeks and days included in days.\n",
        "\n",
        "    Parameters:\n",
        "    days -- number of days to convert (int)\n",
        "\n",
        "    Returns:\n",
        "    string of the number of weeks and days included in days\n",
        "    \"\"\"\n",
        "    weeks = days // 7\n",
        "    remainder = days % 7\n",
        "    return \"{} week(s) and {} day(s)\".format(weeks, remainder)"
      ],
      "metadata": {
        "id": "QoDYXTBJ4otl"
      },
      "execution_count": null,
      "outputs": []
    },
    {
      "cell_type": "markdown",
      "source": [
        "# **Lambda Expressions**\n",
        "You can use lambda expressions to create anonymous functions. That is, functions that don’t have a name. They are helpful for creating quick functions that aren’t needed later in your code. This can be especially useful for higher order functions, or functions that take in other functions as arguments.\n",
        "\n",
        "With a lambda expression, this function:\n",
        "```\n",
        "def multiply(x, y):\n",
        "    return x * y\n",
        "```\n",
        "\n",
        "can be reduced to:\n",
        "```\n",
        "multiply = lambda x, y: x * y\n",
        "```\n",
        "\n",
        "Both of these functions are used in the same way. In either case, we can call `multiply` like this:\n",
        "```\n",
        "multiply(4, 7)\n",
        "```\n",
        "This returns 28."
      ],
      "metadata": {
        "id": "HsdPdUe85ALa"
      }
    },
    {
      "cell_type": "markdown",
      "source": [
        "## **Components of a Lambda Function**\n",
        "1. The `lambda` keyword is used to indicate that this is a `lambda` expression.\n",
        "2. Following `lambda` are one or more arguments for the anonymous function separated by commas, followed by a colon `:`. Similar to functions, the way the arguments are named in a `lambda` expression is arbitrary.\n",
        "3. Last is an expression that is evaluated and returned in this function. This is a lot like an expression you might see as a return statement in a function.\n",
        "\n",
        "With this structure, `lambda` expressions aren’t ideal for complex functions, but can be very useful for short, simple functions."
      ],
      "metadata": {
        "id": "F9aR-OB55We9"
      }
    },
    {
      "cell_type": "markdown",
      "source": [
        "# **Quiz: Lambda with Map**\n",
        "`map()` is a higher-order built-in function that takes a function and iterable as inputs, and returns an iterator that applies the function to each element of the iterable. The code below uses `map()` to find the mean of each list in `numbers` to create the list `averages`. Give it a test run to see what happens.\n",
        "\n",
        "Rewrite this code to be more concise by replacing the mean function with a lambda expression defined within the call to `map()`."
      ],
      "metadata": {
        "id": "PtwTlNJ05kyd"
      }
    },
    {
      "cell_type": "code",
      "source": [
        "numbers = [\n",
        "              [34, 63, 88, 71, 29],\n",
        "              [90, 78, 51, 27, 45],\n",
        "              [63, 37, 85, 46, 22],\n",
        "              [51, 22, 34, 11, 18]\n",
        "           ]\n",
        "\n",
        "def mean(num_list):\n",
        "    return sum(num_list) / len(num_list)\n",
        "\n",
        "averages = list(map(mean, numbers))\n",
        "print(averages)"
      ],
      "metadata": {
        "id": "a-U3agPh4sMT"
      },
      "execution_count": null,
      "outputs": []
    },
    {
      "cell_type": "markdown",
      "source": [
        "# **Quiz: Lambda with Filter**\n",
        "`filter()` is a higher-order built-in function that takes a function and iterable as inputs and returns an iterator with the elements from the iterable for which the function returns True. The code below uses `filter()` to get the names in `cities` that are fewer than 10 characters long to create the list short_cities``. Give it a test run to see what happens.\n",
        "\n",
        "Rewrite this code to be more concise by replacing the `is_short` function with a lambda expression defined within the call to `filter()`."
      ],
      "metadata": {
        "id": "psZj4aTb5yxf"
      }
    },
    {
      "cell_type": "code",
      "source": [
        "cities = [\"New York City\", \"Los Angeles\", \"Chicago\", \"Mountain View\", \"Denver\", \"Boston\"]\n",
        "\n",
        "def is_short(name):\n",
        "    return len(name) < 10\n",
        "\n",
        "short_cities = list(filter(is_short, cities))\n",
        "print(short_cities)"
      ],
      "metadata": {
        "id": "vFTKKM_a585z"
      },
      "execution_count": null,
      "outputs": []
    },
    {
      "cell_type": "markdown",
      "source": [
        "# Quiz Solution: Lambda with Map"
      ],
      "metadata": {
        "id": "rQUZAhin6FMo"
      }
    },
    {
      "cell_type": "code",
      "source": [
        "numbers = [\n",
        "              [34, 63, 88, 71, 29],\n",
        "              [90, 78, 51, 27, 45],\n",
        "              [63, 37, 85, 46, 22],\n",
        "              [51, 22, 34, 11, 18]\n",
        "           ]\n",
        "\n",
        "averages = list(map(lambda x: sum(x) / len(x), numbers))\n",
        "print(averages)"
      ],
      "metadata": {
        "colab": {
          "base_uri": "https://localhost:8080/"
        },
        "id": "NNlx783V6JOG",
        "outputId": "0760826e-9597-493c-d28d-21ff4921cca5"
      },
      "execution_count": null,
      "outputs": [
        {
          "output_type": "stream",
          "name": "stdout",
          "text": [
            "[57.0, 58.2, 50.6, 27.2]\n"
          ]
        }
      ]
    },
    {
      "cell_type": "markdown",
      "source": [
        "# **Quiz Solution: Lambda with Filter**"
      ],
      "metadata": {
        "id": "DZh92iNT6Mch"
      }
    },
    {
      "cell_type": "code",
      "source": [
        "cities = [\"New York City\", \"Los Angeles\", \"Chicago\", \"Mountain View\", \"Denver\", \"Boston\"]\n",
        "\n",
        "short_cities = list(filter(lambda x: len(x) < 10, cities))\n",
        "print(short_cities)"
      ],
      "metadata": {
        "colab": {
          "base_uri": "https://localhost:8080/"
        },
        "id": "R-QNkDo16J5d",
        "outputId": "69e91037-77c1-47a9-8bc8-daca946f2642"
      },
      "execution_count": null,
      "outputs": [
        {
          "output_type": "stream",
          "name": "stdout",
          "text": [
            "['Chicago', 'Denver', 'Boston']\n"
          ]
        }
      ]
    },
    {
      "cell_type": "markdown",
      "source": [
        "# **Additional Resource**\n",
        "* If you want to learn more about writing functions, check out [this talk from PyCon](https://youtu.be/rrBJVMyD-Gs) by Jack Diederich. Diederich covers best practices for writing functions in Python that also apply to all code in Python."
      ],
      "metadata": {
        "id": "WZy9cNpw6R5Z"
      }
    },
    {
      "cell_type": "code",
      "source": [],
      "metadata": {
        "id": "A7W2SXZF6PDs"
      },
      "execution_count": null,
      "outputs": []
    }
  ]
}