{
  "nbformat": 4,
  "nbformat_minor": 0,
  "metadata": {
    "colab": {
      "provenance": [],
      "authorship_tag": "ABX9TyOX+1jXLgYQoJrY4kpKrx/+",
      "include_colab_link": true
    },
    "kernelspec": {
      "name": "python3",
      "display_name": "Python 3"
    },
    "language_info": {
      "name": "python"
    }
  },
  "cells": [
    {
      "cell_type": "markdown",
      "metadata": {
        "id": "view-in-github",
        "colab_type": "text"
      },
      "source": [
        "<a href=\"https://colab.research.google.com/github/ucheblessed/ucheblessed/blob/main/02_Data_Structures_in_Python.ipynb\" target=\"_parent\"><img src=\"https://colab.research.google.com/assets/colab-badge.svg\" alt=\"Open In Colab\"/></a>"
      ]
    },
    {
      "cell_type": "markdown",
      "source": [
        "# **Data Structures**\n",
        "<p>Welcome to this lesson on data structures! In the previous lesson, you learned about many of the basic building blocks, including data types, for programming in Python. In this lesson, you will learn to make use of new data structures, which group and order data in different ways, to help you solve problems.</p>\n",
        "\n",
        "<img class=\"image--26lOQ\" src=\"https://video.udacity-data.com/topher/2021/May/609ecc16_intro-to-python-overarching-diagram-2/intro-to-python-overarching-diagram-2.jpg\" alt=\"The second main topic, data structures, is called out in the overarching diagram of the course.\" width=\"960px\">\n",
        "\n",
        "### Specifically, you'll learn about:\n",
        "\n",
        "* Types of Data Structures: Lists, Tuples, Sets, Dictionaries, Compound **Data Structures\n",
        "* Operators: Membership, Identity\n",
        "* Built-In Functions and Methods\n",
        "\n",
        "## **What Are Data Structures?**\n",
        "**Data structures** are containers or collections of data that organize and group data types together in different ways. You can think of data structures as file folders that have organized files of data inside them.\n",
        "\n",
        "<img class=\"image--26lOQ\" src=\"https://video.udacity-data.com/topher/2021/May/60a2d23c_noun-folder-3674139-1/noun-folder-3674139-1.png\" alt=\"File folder\" width=\"128px\">\n",
        "\n",
        "## Why Do We Need Data Structures?\n",
        "<p>Let's talk about why we need a data structure and when to use it. We will borrow an example from the world of Wall Street for this discussion.  </p>\n",
        "<p>Companies listed on the NASDAQ exchange have ticker symbols or abbreviations for each company name. For example, the ticker symbol for Alphabet, Inc. is GOOGL.</p>\n",
        "<p>Imagine now that you own stocks for one company, say Microsoft, and want to be able to print out the ticker symbol of your stock. Since it is one value,  you can store it in the variable <code>microsoft</code>, and assign it the value of MSFT. Like this:</p>\n",
        "<p><code>microsoft = MSFT</code> </p>\n",
        "<p>Well, that's convenient! So, now when you want to print the ticker symbol for the company you hold stocks for, you use the print command.</p>\n",
        "<pre><code>print(microsoft)\n",
        "<span class=\"hljs-prompt\">&gt;&gt;</span>&gt; <span class=\"hljs-constant\">MSFT</span>\n",
        "</code></pre>\n",
        "\n",
        "<p>Let's now consider that you are an investment fund manager, and you want to print out the stocks (or holdings) you own in an index fund (e.g., <a href=\"https://www.marketwatch.com/investing/fund/vinix/holdings\" target=\"_blank\">Vanguard Institutional Index Fund</a>). An index fund includes stocks (also called holdings) for a large number of companies. Turns out Vanguard Institutional Index Fund has <a href=\"https://investor.vanguard.com/mutual-funds/profile/VINIX\" target=\"_blank\">506 holdings</a>!</p>\n",
        "<p>Printing the tickets for all 506 holdings using individual strings would require 506 strings. <em>Not ideal!</em> Because we'd need to remember the name of each string to print it.</p>\n",
        "<p>You also have to think about how to group the 506 strings under the same index fund. <em>Not convenient at all!</em></p>\n",
        "<p><strong>This is where the beauty of data structures comes into play! You can use a list. </strong></p>\n",
        "<p>Let's learn more about what a list is on the next page.</p>\n"
      ],
      "metadata": {
        "id": "0cH3ebk6Zciz"
      }
    },
    {
      "cell_type": "markdown",
      "source": [
        "# **List and Membership Operators**\n",
        "There are three sections as a part of this module. Be sure to read them out along with the additional helpful reminders!\n",
        "\n",
        "## **Lists!**\n",
        "A list is one of the most common and basic data structures in Python.\n",
        "\n",
        "You saw here that you can create a list with square brackets. Lists can contain any mix and match of the data types you have seen so far.\n",
        "\n",
        "`list_of_random_things = [1, 3.4, 'a string', True]`\n",
        "\n",
        "This is a list of 4 elements. All ordered containers (like lists) are indexed in Python using a starting index of 0. Therefore, to pull the first value from the above list, we can write:\n",
        "\n",
        "```\n",
        ">>> list_of_random_things[0]\n",
        "1\n",
        "```\n",
        "\n",
        "It might seem like you can pull the last element with the following code, but this actually won't work:\n",
        "\n",
        "```\n",
        ">>> list_of_random_things[len(list_of_random_things)] \n",
        "---------------------------------------------------------------------------\n",
        "IndexError                                Traceback (most recent call last)\n",
        "<ipython-input-34-f88b03e5c60e> in <module>()\n",
        "----> 1 lst[len(lst)]\n",
        "\n",
        "IndexError: list index out of range\n",
        "```\n",
        "\n",
        "However, you can retrieve the last element by reducing the index by 1. Therefore, you can do the following:\n",
        "\n",
        "```\n",
        ">>> list_of_random_things[len(list_of_random_things) - 1] \n",
        "True\n",
        "```\n",
        "\n",
        "Alternatively, you can index from the end of a list by using negative values, where -1 is the last element, -2 is the second to last element and so on.\n",
        "\n",
        "```\n",
        ">>> list_of_random_things[-1] \n",
        "True\n",
        ">>> list_of_random_things[-2] \n",
        "a string\n",
        "```\n",
        "\n",
        "## **Slice and Dice with Lists**\n",
        "\n",
        "You saw that we can pull more than one value from a list at a time by using slicing. When using **slicing**, it is important to remember that the `lower` index is `inclusive` and the `upper` index is `exclusive`.\n",
        "\n",
        "Therefore, this:\n",
        "\n",
        "```\n",
        ">>> list_of_random_things = [1, 3.4, 'a string', True]\n",
        ">>> list_of_random_things[1:2]\n",
        "[3.4]\n",
        "```\n",
        "\n",
        "will only return **3.4** in a list. Notice this is still different than just indexing a single element, because you get a list back with this indexing. The colon tells us to go from the starting value on the left of the colon up to, but not including, the element on the right.\n",
        "\n",
        "If you know that you want to start at the beginning, of the list you can also leave out this value.\n",
        "\n",
        "```\n",
        ">>> list_of_random_things[:2]\n",
        "[1, 3.4]\n",
        "```\n",
        "\n",
        "or to return all of the elements to the end of the list, we can leave off a final element.\n",
        "\n",
        "```\n",
        ">>> list_of_random_things[1:]\n",
        "[3.4, 'a string', True]\n",
        "```\n",
        "\n",
        "This type of indexing works exactly the same on strings, where the returned value will be a string.\n",
        "\n",
        "## **Are You `in` or `not in`?**\n",
        "We can also use `in` and `not in` to return a **bool** of whether an element exists within our list, or if one string is a substring of another.\n",
        "\n",
        "```\n",
        ">>> 'this' in 'this is a string'\n",
        "True\n",
        ">>> 'in' in 'this is a string'\n",
        "True\n",
        ">>> 'isa' in 'this is a string'\n",
        "False\n",
        ">>> 5 not in [1, 2, 3, 4, 6]\n",
        "True\n",
        ">>> 5 in [1, 2, 3, 4, 6]\n",
        "False\n",
        "```\n",
        "\n",
        "## **Membership Operators**\n",
        "\n",
        "<div class=\"index-module--table-responsive--1zG6k\"><table class=\"index-module--table--8j68C index-module--table-striped--3HHC-\">\n",
        "<thead>\n",
        "<tr>\n",
        "<th>Keyword</th>\n",
        "<th>Operator</th>\n",
        "</tr>\n",
        "</thead>\n",
        "<tbody>\n",
        "<tr>\n",
        "<td><code>in</code></td>\n",
        "<td>evaluates if an element exists within our list</td>\n",
        "</tr>\n",
        "<tr>\n",
        "<td><code>not in</code></td>\n",
        "<td>evaluates if an element does not exist within our list</td>\n",
        "</tr>\n",
        "</tbody>\n",
        "</table>\n",
        "</div>\n"
      ],
      "metadata": {
        "id": "v6A3MrcicGzR"
      }
    },
    {
      "cell_type": "markdown",
      "source": [
        "## **Using Lists in the Index Fund Example**\n",
        "Let's return to our index fund example we discussed earlier. Since index funds have ticker symbols, for example, VINIX for the [Vanguard Institutional Index Fund](https://www.marketwatch.com/investing/fund/vinix/holdings), you can use that as the name for the list. Then we can add the ticker symbols for all the holdings into that list. Let's populate the list with the top holdings listed for [Vanguard Institutional Index Fund](https://www.marketwatch.com/investing/fund/vinix/holdings).\n",
        "\n",
        "```\n",
        "VINIX = ['C', 'MA', 'BA', 'PG', 'CSCO', 'VZ', 'PFE', 'HD', 'INTC', 'T', 'V', 'UNH', 'WFC', 'CVX', 'BAC', 'JNJ', 'GOOGL', 'GOOG', 'BRK.B', 'XOM', 'JPM', 'FB', 'AMZN', 'MSFT', 'AAPL']\n",
        "```\n",
        "\n",
        "Now, printing the tickers becomes slightly easier. And you don't have to remember the names of the strings!\n",
        "\n",
        "```\n",
        "print(VINIX[0])\n",
        ">>> C\n",
        "print(VINIX[1])\n",
        ">>> MA\n",
        "```\n",
        "\n",
        "*Later you will learn about more efficient ways to print the elements in a list.*\n",
        "\n",
        "You can even use the list to see if a particular stock **is in** the index fund `VINIX` or not.\n",
        "\n",
        "Like this:\n",
        "\n",
        "```\n",
        "'GE' in VINIX\n",
        ">>> False\n",
        "\n",
        "'GOOGL' in VINIX\n",
        ">>> True\n",
        "```\n",
        "\n",
        "*We'll revisit this example of Wall Street later in the lesson to show how data structures can be even more helpful!*"
      ],
      "metadata": {
        "id": "vUVeeIHldrmL"
      }
    },
    {
      "cell_type": "markdown",
      "source": [
        "# **Mutability And Order**\n",
        "**Mutability** refers to whether or not we can change an object once it has been created. If an object can be changed, it is called **mutable**. However, if an object cannot be changed after it has been created, then the object is considered **immutable**.\n",
        "\n",
        "Examples - Lists are mutable, and strings are immutable.\n",
        "\n",
        "```\n",
        ">>> my_lst = [1, 2, 3, 4, 5]\n",
        ">>> my_lst[0] = 'one'\n",
        ">>> print(my_lst)\n",
        "['one', 2, 3, 4, 5]\n",
        "```\n",
        "\n",
        "With the list above, you are able to replace '1 'with 'one'. This is because lists are **mutable**.\n",
        "\n",
        "However, trying to change the string below does not work:\n",
        "\n",
        "\n",
        "```\n",
        ">>> greeting = \"Hello there\"\n",
        ">>> greeting[0] = 'M'\n",
        "```\n",
        "\n",
        "Running these two lines of code will cause an error: \"'str' object does not support item assignment.\"\n",
        "\n",
        "This is because strings are **immutable**. This means you can't change a string once it's been created - you will need to instead create a completely new string.\n",
        "\n",
        "What we mean by this is, using the same example as above, it is perfectly fine to do the following to change the value of the entire string `greeting`:\n",
        "\n",
        "```\n",
        ">>> greeting = \"Hello there\"\n",
        ">>> greeting = \"Mello there\"\n",
        "```\n",
        "\n",
        "That second line in Python actually creates a new place in memory where the string `greeting` is stored, effectively creating a new string, a new object, even though it has the same name.\n",
        "\n",
        "There are two things to keep in mind for each of the data types you are using:\n",
        "\n",
        "1. Are they mutable?\n",
        "2. Are they ordered?\n",
        "\n",
        "**Order** is about whether the position of an element in the object can be used to access the element.\n",
        "\n",
        "**Both strings and lists are ordered.** We can use the order to access parts of a list and string.\n",
        "\n",
        "However, you will see some data types in the next sections that will be unordered. For each of the upcoming data structures you see, it is useful to understand how you index, are they mutable, and are they ordered. Knowing this about the data structure is really useful!\n",
        "\n",
        "Additionally, you will see how these each have different methods, so why you would use one data structure vs. another is largely dependent on these properties, and what you can easily do with it!"
      ],
      "metadata": {
        "id": "bDfc2GZBlUwZ"
      }
    },
    {
      "cell_type": "markdown",
      "source": [
        "# **Quiz: List Indexing**\n",
        "\n",
        "### **QUESTION 1 OF 3**\n",
        "\n",
        "Use list indexing to determine how many days are in a particular month based on the integer variable `month`, and store that value in the integer variable `num_days`. For example, if `month` is 8, `num_days` should be set to 31, since the eighth month, August, has 31 days.\n",
        "\n",
        "Remember to account for zero-based indexing!"
      ],
      "metadata": {
        "id": "X_7xZphB5SNz"
      }
    },
    {
      "cell_type": "code",
      "source": [
        "month = 8\n",
        "days_in_month = [31,28,31,30,31,30,31,31,30,31,30,31]\n",
        "\n",
        "# use list indexing to determine the number of days in month\n",
        "num_days = days_in_month[month - 1]\n",
        "\n",
        "print(\"The number of days in the 8th month is '{}' days\".format(num_days))"
      ],
      "metadata": {
        "colab": {
          "base_uri": "https://localhost:8080/"
        },
        "id": "rCW7C6lPdpNc",
        "outputId": "eba2eac7-d2c1-41f6-8608-fc3e9f1420ae"
      },
      "execution_count": null,
      "outputs": [
        {
          "output_type": "stream",
          "name": "stdout",
          "text": [
            "The number of days in the 8th month is '31' days\n"
          ]
        }
      ]
    },
    {
      "cell_type": "markdown",
      "source": [
        "## **Quiz: Slicing Lists**\n",
        "Select the three most recent dates from this list using list slicing notation. Hint: negative indexes work in slices!\n",
        "### **QUESTION 2 OF 3**"
      ],
      "metadata": {
        "id": "nvkqsJmF9VuG"
      }
    },
    {
      "cell_type": "code",
      "source": [
        "eclipse_dates = ['June 21, 2001', 'December 4, 2002', 'November 23, 2003',\n",
        "                 'March 29, 2006', 'August 1, 2008', 'July 22, 2009',\n",
        "                 'July 11, 2010', 'November 13, 2012', 'March 20, 2015',\n",
        "                 'March 9, 2016']\n",
        "                 \n",
        "                 \n",
        "# TODO: Modify this line so it prints the last three elements of the list\n",
        "print(eclipse_dates[-3:])"
      ],
      "metadata": {
        "colab": {
          "base_uri": "https://localhost:8080/"
        },
        "id": "TLWWfWFm675L",
        "outputId": "9becd25e-da23-46ed-bf54-64b226348830"
      },
      "execution_count": null,
      "outputs": [
        {
          "output_type": "stream",
          "name": "stdout",
          "text": [
            "['November 13, 2012', 'March 20, 2015', 'March 9, 2016']\n"
          ]
        }
      ]
    },
    {
      "cell_type": "markdown",
      "source": [
        "### **QUESTION 3 OF 3**\n",
        "Suppose we have the following two expressions, sentence1 and sentence2:\n",
        "\n",
        "```\n",
        "sentence1 = \"I wish to register a complaint.\"\n",
        "sentence2 = [\"I\", \"wish\", \"to\", \"register\", \"a\", \"complaint\", \".\"]\n",
        "```\n",
        "\n",
        "Find the Python code below with the value of the modified sentence1 or sentence2. If the code results in an error.\n",
        "\n",
        "A. `sentence2[0:2] = [\"We\", \"want\"]`\n",
        "\n",
        "B. `sentence2[0]= \"Our Majesty\"`\n",
        "\n",
        "C. `sentence1[30]=\"!\"`\n",
        "\n",
        "D. `sentence2[0:2] = [\"We\", \"want\"]`\n",
        "\n"
      ],
      "metadata": {
        "id": "Pj-NthVH9NN2"
      }
    },
    {
      "cell_type": "code",
      "source": [
        "# Write Your Answer Option Below.\n",
        "#"
      ],
      "metadata": {
        "id": "zvjvdVUR-PmL"
      },
      "execution_count": null,
      "outputs": []
    },
    {
      "cell_type": "markdown",
      "source": [
        "* `sentence1` is a string, and is therefore an immutable object. That means that while you can refer to individual characters in `sentence1` (e.g., you can write things like `sentence1[5]`) you cannot assign value to them (you cannot write things like `sentence1[5] = 'a'`). Therefore the third expression will result in an error.\n",
        "\n",
        "* `sentence2` is a list, and lists are mutable, meaning that you can change the value of individual items in `sentence2`:\n",
        "\n",
        "* In the first expression we changed the value of the last item in `sentence2` from `\".\"` to `\"!\"`.\n",
        "* In the second expression we changed the value of the first item in `sentence2` from `\"I` to `\"Our Majesty\"`.\n",
        "* In the last expression we used slicing to simultaneously change the value of both the first and the second item in `sentence2` from `\"I\"` and `\"wish\"` to `\"We\"` and `\"want\"`."
      ],
      "metadata": {
        "id": "bkpVPA4v8m1S"
      }
    },
    {
      "cell_type": "markdown",
      "source": [
        "# **Useful Functions for Lists I**\n",
        "1. `len()` returns how many elements are in a list.\n",
        "2. `max()` returns the greatest element of the list. How the greatest element is determined depends on what type of objects are in the list. The maximum element in a list of numbers is the largest number. The maximum element in a list of strings is the element that would occur last if the list were sorted alphabetically. This works because the the `max()` function is defined in terms of the greater than comparison operator. The `max()` function is undefined for lists that contain elements from different, incomparable types.\n",
        "3. `min()` returns the smallest element in a list. min is the opposite of max, which returns the largest element in a list.\n",
        "4. `sorted()` returns a copy of a list in order from smallest to largest, leaving the list unchanged. Note again that for string objects, sorted smallest to largest means sorting in alphabetical order."
      ],
      "metadata": {
        "id": "UU1yC5eoE7Y3"
      }
    },
    {
      "cell_type": "markdown",
      "source": [
        "# **Useful Functions for Lists II**\n",
        "## **`join` method**\n",
        "\n",
        "Join is a string method that takes a list of strings as an argument, and returns a string consisting of the list elements joined by a separator string.\n",
        "\n",
        "```\n",
        "new_str = \"\\n\".join([\"fore\", \"aft\", \"starboard\", \"port\"])\n",
        "print(new_str)\n",
        "```\n",
        "\n",
        "Output:\n",
        "```\n",
        "fore\n",
        "aft\n",
        "starboard\n",
        "port\n",
        "```\n",
        "\n",
        "In this example we use the string `\"\\n\"` as the separator so that there is a newline between each element. We can also use other strings as separators with .join. Here we use a hyphen.\n",
        "```\n",
        "name = \"-\".join([\"García\", \"O'Kelly\", \"Davis\"])\n",
        "print(name)\n",
        "```\n",
        "\n",
        "Output:\n",
        "```\n",
        "García-O'Kelly-Davis\n",
        "```\n",
        "It is important to remember to separate each of the items in the list you are joining with a comma (,). Forgetting to do so will not trigger an error, but will also give you unexpected results.\n",
        "\n",
        "## **`append` method**\n",
        "A helpful method called `append` adds an element to the end of a list.\n",
        "```\n",
        "letters = ['a', 'b', 'c', 'd']\n",
        "letters.append('z')\n",
        "print(letters)\n",
        "```\n",
        "\n",
        "Output:\n",
        "```\n",
        "['a', 'b', 'c', 'd', 'z']\n",
        "```"
      ],
      "metadata": {
        "id": "z2K6jJP3I9DM"
      }
    },
    {
      "cell_type": "markdown",
      "source": [
        "## **Quiz: `len`, `max`, `min`, and Lists**\n",
        "There is a Python environment for you to run test code at the bottom of this page related to any of the quizzes on this page!-"
      ],
      "metadata": {
        "id": "6md3Fc2xKgpM"
      }
    },
    {
      "cell_type": "markdown",
      "source": [
        "### QUESTION 1 OF 4\n",
        "What would the output of the following code be? (Treat the commas in the multiple choice answers as newlines.)\n",
        "```\n",
        "a = [1, 5, 8]\n",
        "b = [2, 6, 9, 10]\n",
        "c = [100, 200]\n",
        "\n",
        "print(max([len(a), len(b), len(c)]))\n",
        "print(min([len(a), len(b), len(c)]))\n",
        "```\n"
      ],
      "metadata": {
        "id": "lYHSgdkfKsN7"
      }
    },
    {
      "cell_type": "code",
      "source": [
        "# Type your code here!\n",
        "a = [1, 5, 8]\n",
        "b = [2, 6, 9, 10]\n",
        "c = [100, 200]\n",
        "\n",
        "print(max([len(a), len(b), len(c)]))\n",
        "print(min([len(a), len(b), len(c)]))"
      ],
      "metadata": {
        "colab": {
          "base_uri": "https://localhost:8080/"
        },
        "id": "GvNOeZXV8anV",
        "outputId": "69b8a1cf-b507-4bd6-aaef-13afc3eb8c51"
      },
      "execution_count": null,
      "outputs": [
        {
          "output_type": "stream",
          "name": "stdout",
          "text": [
            "4\n",
            "2\n"
          ]
        }
      ]
    },
    {
      "cell_type": "markdown",
      "source": [
        "## **Quiz: sorted, join, and Lists**\n",
        "### QUESTION 2 OF 4\n",
        "What would the output of the following code be? (Treat the commas in the multiple choice answers as newlines.)\n",
        "\n",
        "```\n",
        "names = [\"Carol\", \"Albert\", \"Ben\", \"Donna\"]\n",
        "print(\" & \".join(sorted(names)))\n",
        "```\n"
      ],
      "metadata": {
        "id": "yXRBVXXhK9am"
      }
    },
    {
      "cell_type": "code",
      "source": [
        "# Type your code here!\n",
        "names = [\"Carol\", \"Albert\", \"Ben\", \"Donna\"]\n",
        "print(\" & \".join(sorted(names)))"
      ],
      "metadata": {
        "colab": {
          "base_uri": "https://localhost:8080/"
        },
        "id": "SORvV29MKybw",
        "outputId": "e149dfeb-e47d-420a-c480-bce1090a7a9b"
      },
      "execution_count": null,
      "outputs": [
        {
          "output_type": "stream",
          "name": "stdout",
          "text": [
            "Albert & Ben & Carol & Donna\n"
          ]
        }
      ]
    },
    {
      "cell_type": "markdown",
      "source": [
        "## **Quiz: `append` and Lists**\n",
        "### QUESTION 3 OF 4\n",
        "What would the output of the following code be? (Treat the commas in the multiple choice answers as newlines.)\n",
        "```\n",
        "names = [\"Carol\", \"Albert\", \"Ben\", \"Donna\"]\n",
        "names.append(\"Eugenia\")\n",
        "print(sorted(names))\n",
        "```\n"
      ],
      "metadata": {
        "id": "WqY3nR5aLyVz"
      }
    },
    {
      "cell_type": "code",
      "source": [
        "names = [\"Carol\", \"Albert\", \"Ben\", \"Donna\"]\n",
        "names.append(\"Eugenia\")\n",
        "print(sorted(names))"
      ],
      "metadata": {
        "colab": {
          "base_uri": "https://localhost:8080/"
        },
        "id": "gZl3O-GrLkc9",
        "outputId": "60d8756f-aa40-43db-d68d-30847dd0b803"
      },
      "execution_count": null,
      "outputs": [
        {
          "output_type": "stream",
          "name": "stdout",
          "text": [
            "['Albert', 'Ben', 'Carol', 'Donna', 'Eugenia']\n"
          ]
        }
      ]
    },
    {
      "cell_type": "markdown",
      "source": [
        "# **Tuples**\n",
        "A tuple is another useful container. It's a data type for immutable ordered sequences of elements. They are often used to store related pieces of information. Consider this example involving latitude and longitude:\n",
        "```\n",
        "location = (13.4125, 103.866667)\n",
        "print(\"Latitude:\", location[0])\n",
        "print(\"Longitude:\", location[1])\n",
        "```\n",
        "\n",
        "Tuples are similar to lists in that they store an ordered collection of objects which can be accessed by their indices. Unlike lists, however, tuples are immutable - you can't add and remove items from tuples, or sort them in place.\n",
        "\n",
        "Tuples can also be used to assign multiple variables in a compact way.\n",
        "```\n",
        "dimensions = 52, 40, 100\n",
        "length, width, height = dimensions\n",
        "print(\"The dimensions are {} x {} x {}\".format(length, width, height))\n",
        "```\n",
        "\n",
        "The parentheses are optional when defining tuples, and programmers frequently omit them if parentheses don't clarify the code.\n",
        "\n",
        "In the second line, three variables are assigned from the content of the tuple dimensions. This is called **tuple unpacking**. You can use tuple unpacking to assign the information from a tuple into multiple variables without having to access them one by one and make multiple assignment statements.\n",
        "\n",
        "If we won't need to use `dimensions` directly, we could shorten those two lines of code into a single line that assigns three variables in one go!\n",
        "```\n",
        "length, width, height = 52, 40, 100\n",
        "print(\"The dimensions are {} x {} x {}\".format(length, width, height))\n",
        "```\n",
        "\n"
      ],
      "metadata": {
        "id": "aR7FPd4jRoe-"
      }
    },
    {
      "cell_type": "code",
      "source": [
        "location = (13.4125, 103.866667)\n",
        "print(\"Latitude:\", location[0])\n",
        "print(\"Longitude:\", location[1])"
      ],
      "metadata": {
        "id": "jJmnx3_VL_Yv",
        "colab": {
          "base_uri": "https://localhost:8080/"
        },
        "outputId": "814b33ca-ddbf-4c69-dc1c-7cae0e09d4fb"
      },
      "execution_count": null,
      "outputs": [
        {
          "output_type": "stream",
          "name": "stdout",
          "text": [
            "Latitude: 13.4125\n",
            "Longitude: 103.866667\n"
          ]
        }
      ]
    },
    {
      "cell_type": "markdown",
      "source": [
        "What would the output of the following code be? (Treat the commas in the multiple choice answers as newlines.)\n",
        "```\n",
        "tuple_a = 1, 2\n",
        "tuple_b = (1, 2)\n",
        "\n",
        "print(tuple_a == tuple_b)\n",
        "print(tuple_a[1])\n",
        "```\n",
        "\n"
      ],
      "metadata": {
        "id": "tPJC4w2dnP78"
      }
    },
    {
      "cell_type": "code",
      "source": [
        "tuple_a = 1, 2\n",
        "tuple_b = (1, 2)\n",
        "\n",
        "print(tuple_a == tuple_b)\n",
        "print(tuple_a[1])"
      ],
      "metadata": {
        "colab": {
          "base_uri": "https://localhost:8080/"
        },
        "id": "ixa-70_4SXFc",
        "outputId": "973af6bf-e4e6-419f-970e-3856d4300c8f"
      },
      "execution_count": null,
      "outputs": [
        {
          "output_type": "stream",
          "name": "stdout",
          "text": [
            "True\n",
            "2\n"
          ]
        }
      ]
    },
    {
      "cell_type": "markdown",
      "source": [
        "# **Sets**\n",
        "A set is a data type for mutable unordered collections of unique elements. One application of a set is to quickly remove duplicates from a list.\n",
        "```\n",
        "numbers = [1, 2, 6, 3, 1, 1, 6]\n",
        "unique_nums = set(numbers)\n",
        "print(unique_nums)\n",
        "```\n",
        "\n",
        "This would output:\n",
        "\n",
        "`{1, 2, 3, 6}`\n",
        "\n",
        "Sets support the `in` operator the same as lists do. You can add elements to sets using the add method, and remove elements using the pop method, similar to lists. Although, when you `pop` an element from a set, a random element is removed. Remember that sets, unlike lists, are unordered so there is no \"last element\"."
      ],
      "metadata": {
        "id": "3OajH7K4oHJB"
      }
    },
    {
      "cell_type": "markdown",
      "source": [
        "```\n",
        "fruit = {\"apple\", \"banana\", \"orange\", \"grapefruit\"}  # define a set\n",
        "\n",
        "print(\"watermelon\" in fruit)  # check for element\n",
        "\n",
        "fruit.add(\"watermelon\")  # add an element\n",
        "print(fruit)\n",
        "\n",
        "print(fruit.pop())  # remove a random element\n",
        "print(fruit)\n",
        "```\n",
        "\n",
        "This outputs:\n",
        "```\n",
        "False\n",
        "{'grapefruit', 'orange', 'watermelon', 'banana', 'apple'}\n",
        "grapefruit\n",
        "{'orange', 'watermelon', 'banana', 'apple'}\n",
        "```\n",
        "\n",
        "Other operations you can perform with sets include those of mathematical sets. Methods like union, intersection, and difference are easy to perform with sets, and are much faster than such operators with other containers."
      ],
      "metadata": {
        "id": "OXg61X4GoYJJ"
      }
    },
    {
      "cell_type": "code",
      "source": [
        "fruit = {\"apple\", \"banana\", \"orange\", \"grapefruit\"}  # define a set\n",
        "\n",
        "print(\"watermelon\" in fruit)  # check for element\n",
        "\n",
        "fruit.add(\"watermelon\")  # add an element\n",
        "print(fruit)\n",
        "\n",
        "print(fruit.pop())  # remove a random element\n",
        "print(fruit)"
      ],
      "metadata": {
        "colab": {
          "base_uri": "https://localhost:8080/"
        },
        "id": "cnNNrhGPnVCY",
        "outputId": "d2cb7c85-1d69-4ff7-e1e9-7aa961e2100e"
      },
      "execution_count": null,
      "outputs": [
        {
          "output_type": "stream",
          "name": "stdout",
          "text": [
            "False\n",
            "{'orange', 'apple', 'grapefruit', 'watermelon', 'banana'}\n",
            "orange\n",
            "{'apple', 'grapefruit', 'watermelon', 'banana'}\n"
          ]
        }
      ]
    },
    {
      "cell_type": "code",
      "source": [
        "numbers = [1, 2, 6, 3, 1, 1, 6]\n",
        "unique_nums = set(numbers)\n",
        "print(unique_nums)"
      ],
      "metadata": {
        "colab": {
          "base_uri": "https://localhost:8080/"
        },
        "id": "UMmGsIfhpKV7",
        "outputId": "ff6a515e-3020-4c04-82c2-da75cee2a123"
      },
      "execution_count": null,
      "outputs": [
        {
          "output_type": "stream",
          "name": "stdout",
          "text": [
            "{1, 2, 3, 6}\n"
          ]
        }
      ]
    },
    {
      "cell_type": "markdown",
      "source": [
        "## **Quiz: list to set**\n",
        "### QUESTION 1 OF 3\n",
        "What would the output of the following code be?\n",
        "```\n",
        "a = [1, 2, 2, 3, 3, 3, 4, 4, 4, 4]\n",
        "b = set(a)\n",
        "print(len(a) - len(b))\n",
        "```"
      ],
      "metadata": {
        "id": "J_M_jeZYpWFg"
      }
    },
    {
      "cell_type": "code",
      "source": [
        "a = [1, 2, 2, 3, 3, 3, 4, 4, 4, 4]\n",
        "b = set(a)\n",
        "print(b)\n",
        "print(len(a))\n",
        "print(len(a) - len(b))"
      ],
      "metadata": {
        "colab": {
          "base_uri": "https://localhost:8080/"
        },
        "id": "S4SBa-GypR-a",
        "outputId": "1e34c811-57cc-4ce9-acd7-82edc22f5762"
      },
      "execution_count": null,
      "outputs": [
        {
          "output_type": "stream",
          "name": "stdout",
          "text": [
            "{1, 2, 3, 4}\n",
            "10\n",
            "6\n"
          ]
        }
      ]
    },
    {
      "cell_type": "markdown",
      "source": [
        "## **Quiz: add and pop**\n",
        "### QUESTION 2 OF 3\n",
        "Consider the following code:\n",
        "```\n",
        "a = [1, 2, 2, 3, 3, 3, 4, 4, 4, 4]\n",
        "b = set(a)\n",
        "b.add(5)\n",
        "b.pop()\n",
        "```\n",
        "\n",
        "After executing this code, will the number 5 be a part of the set b?"
      ],
      "metadata": {
        "id": "oKF3maTDpxCj"
      }
    },
    {
      "cell_type": "code",
      "source": [
        "a = [1, 2, 2, 3, 3, 3, 4, 4, 4, 4]\n",
        "b = set(a)\n",
        "b.add(5)\n",
        "b.pop()\n",
        "print(b)"
      ],
      "metadata": {
        "colab": {
          "base_uri": "https://localhost:8080/"
        },
        "id": "nOlg19zWpdTr",
        "outputId": "31b7d1e7-70b8-41f0-91f8-10efcda94593"
      },
      "execution_count": null,
      "outputs": [
        {
          "output_type": "stream",
          "name": "stdout",
          "text": [
            "{2, 3, 4, 5}\n"
          ]
        }
      ]
    },
    {
      "cell_type": "markdown",
      "source": [
        "Answer is neither YES nor NO\n",
        "When you pop an element from a set a random element is removed (remember that sets, unlike lists, are unordered so there is no \"last element\"). The number 5 may or may not be removed."
      ],
      "metadata": {
        "id": "nl6zqHuDqJd1"
      }
    },
    {
      "cell_type": "markdown",
      "source": [
        "# **Dictionaries And Identity Operators**\n",
        "### Dictionaries\n",
        "A dictionary is a mutable data type that stores mappings of unique keys to values. Here's a dictionary that stores elements and their atomic numbers.\n",
        "```\n",
        "elements = {\"hydrogen\": 1, \"helium\": 2, \"carbon\": 6}\n",
        "```\n",
        "\n",
        "In general, dictionaries look like key-value pairs, separated by commas:\n",
        "\n",
        "`{key1:value1, key2:value2, key3:value3, key4:value4, ...}`\n",
        "\n",
        "Dictionaries are mutable, but their keys need to be any immutable type, like strings, integers, or tuples. It's not even necessary for every key in a dictionary to have the same type! For example, the following dictionary is perfectly valid:\n",
        "\n",
        "`random_dict = {\"abc\": 1, 5: \"hello\"}`\n",
        "\n",
        "This dictionary has two keys: \"abc\" and 5. The first key has a string type, and the second key has an integer type. And the dictionary has two values: 1 and \"hello\".\n",
        "\n",
        "We can look up values in the dictionary using square brackets `\"[]\" `around the key, like :\n",
        "\n",
        "`dict_name[key]`.\n",
        "\n",
        "For example, in our random dictionary above, the value for `random_dict[\"abc\"]` is `1`, and the value for `random_dict[5]` is `\"hello\"`.\n",
        "\n",
        "In our elements dictionary above, we could print out the atomic number mapped to helium like this:\n",
        "\n",
        "`print(elements[\"helium\"])`\n",
        "\n",
        "This would print out 2.\n",
        "\n",
        "We can also insert a new element into a dictionary as in this example:\n",
        "\n",
        "`elements[\"lithium\"] = 3`\n",
        "\n",
        "If we then executed `print(elements)`, the output would be:\n",
        "\n",
        "`{'hydrogen': 1, 'carbon': 6, 'helium': 2, 'lithium': 3}`\n",
        "\n",
        "This illustrates how dictionaries are mutable.\n",
        "\n",
        "What if we try to look up a key that is not in our dictionary, using the square brackets, like `elements['dilithium']`? This will give you a `\"KeyError\"`.\n",
        "\n",
        "We can check whether a key is in a dictionary the same way we check whether an element is in a list or set, using the `in` keyword. Dictionaries have a related method that's also useful, `get`. `get` looks up values in a dictionary, but unlike square brackets, `get` returns None (or a default value of your choice) if the key isn't found.\n",
        "```\n",
        "print(\"carbon\" in elements)\n",
        "print(elements.get(\"dilithium\"))\n",
        "```\n",
        "\n",
        "This would output:\n",
        "```\n",
        "True\n",
        "None\n",
        "```\n",
        "\n",
        "`\"carbon\"` is in the dictionary, so `True` is printed. `\"dilithium\"` isn’t in our dictionary so `None` is returned by `get` and then printed. So if you expect lookups to sometimes fail, `get` might be a better tool than normal square bracket lookups, because errors can crash your program.\n",
        "\n",
        "### **Identity Operators**\n",
        "<div class=\"index-module--table-responsive--1zG6k\"><table class=\"index-module--table--8j68C index-module--table-striped--3HHC-\">\n",
        "<thead>\n",
        "<tr>\n",
        "<th>Keyword</th>\n",
        "<th>Operator</th>\n",
        "</tr>\n",
        "</thead>\n",
        "<tbody>\n",
        "<tr>\n",
        "<td><code>is</code></td>\n",
        "<td>evaluates if both sides have the same identity</td>\n",
        "</tr>\n",
        "<tr>\n",
        "<td><code>is not</code></td>\n",
        "<td>evaluates if both sides have different identities</td>\n",
        "</tr>\n",
        "</tbody>\n",
        "</table>\n",
        "</div>\n",
        "\n",
        "You can check if a key returned None with the `is` operator. You can check for the opposite using `is not`.\n",
        "```\n",
        "n = elements.get(\"dilithium\")\n",
        "print(n is None)\n",
        "print(n is not None)\n",
        "```\n",
        "\n",
        "This would output:\n",
        "```\n",
        "True\n",
        "False\n",
        "```"
      ],
      "metadata": {
        "id": "9gvhEO4rrHw6"
      }
    },
    {
      "cell_type": "code",
      "source": [
        "elements = {\"hydrogen\": 1, \"helium\": 2, \"carbon\": 6, \"lithuim\": 4}"
      ],
      "metadata": {
        "id": "aswjFCMvp3nW"
      },
      "execution_count": null,
      "outputs": []
    },
    {
      "cell_type": "code",
      "source": [
        "if elements.get(\"lithuim\"):\n",
        "  print(\"Lithium exists\")\n",
        "else:\n",
        "  print(\"Not available\")"
      ],
      "metadata": {
        "colab": {
          "base_uri": "https://localhost:8080/"
        },
        "id": "2xd7RyqEy3zw",
        "outputId": "7eebbfe7-e755-4f7a-b1bc-819421ec85ce"
      },
      "execution_count": null,
      "outputs": [
        {
          "output_type": "stream",
          "name": "stdout",
          "text": [
            "Lithium exists\n"
          ]
        }
      ]
    },
    {
      "cell_type": "code",
      "source": [
        "n = elements.get(\"dilithium\")\n",
        "print(n is None)\n",
        "print(n is not None)"
      ],
      "metadata": {
        "colab": {
          "base_uri": "https://localhost:8080/"
        },
        "id": "AQHf2R0kzJI5",
        "outputId": "411879f9-633f-4774-9904-169a01aa5f79"
      },
      "execution_count": null,
      "outputs": [
        {
          "output_type": "stream",
          "name": "stdout",
          "text": [
            "True\n",
            "False\n"
          ]
        }
      ]
    },
    {
      "cell_type": "markdown",
      "source": [
        "# **Quiz: Define a Dictionary**\n",
        "Define a dictionary named population that contains this data:\n",
        "\n",
        "<div class=\"_3iP2TrDXtmCaMBMDFgM-Os\"><table class=\"_31OI8Tmq3yywD_20_EuBtM _1pZkqGvd1RdMO5JXUl_2oA\">\n",
        "<thead>\n",
        "<tr>\n",
        "<th><strong>Keys</strong></th>\n",
        "<th><strong>Values</strong></th>\n",
        "</tr>\n",
        "</thead>\n",
        "<tbody>\n",
        "<tr>\n",
        "<td>Shanghai</td>\n",
        "<td>17.8</td>\n",
        "</tr>\n",
        "<tr>\n",
        "<td>Istanbul</td>\n",
        "<td>13.3</td>\n",
        "</tr>\n",
        "<tr>\n",
        "<td>Karachi</td>\n",
        "<td>13.0</td>\n",
        "</tr>\n",
        "<tr>\n",
        "<td>Mumbai</td>\n",
        "<td>12.5</td>\n",
        "</tr>\n",
        "</tbody>\n",
        "</table>\n",
        "</div>\n",
        "<br>\n",
        "<br>"
      ],
      "metadata": {
        "id": "fBnENMZEzwgz"
      }
    },
    {
      "cell_type": "code",
      "source": [
        "# Define a Dictionary, population,\n",
        "# that provides information\n",
        "# on the world's largest cities.\n",
        "# The key is the name of a city\n",
        "# (a string), and the associated\n",
        "# value is its population in\n",
        "# millions of people.\n",
        "\n",
        "#   Key     |   Value\n",
        "# Shanghai  |   17.8\n",
        "# Istanbul  |   13.3\n",
        "# Karachi   |   13.0\n",
        "# Mumbai    |   12.5\n",
        "\n",
        "population = {\"Shanghai\": 17.8, \"Istanbul\": 13.3, \"Karachi\": 13.0, \"Mumbai\": 12.5}\n",
        "print(population)"
      ],
      "metadata": {
        "colab": {
          "base_uri": "https://localhost:8080/"
        },
        "id": "8oLJJgITzp1b",
        "outputId": "fceb5403-c0f5-4ca3-a1db-ecfce6b9bc29"
      },
      "execution_count": null,
      "outputs": [
        {
          "output_type": "stream",
          "name": "stdout",
          "text": [
            "{'Shanghai': 17.8, 'Istanbul': 13.3, 'Karachi': 13.0, 'Mumbai': 12.5}\n"
          ]
        }
      ]
    },
    {
      "cell_type": "markdown",
      "source": [
        "## **`get` with a Default Value**\n",
        "Dictionaries have a related method that's also useful, `get()`. `get()` looks up values in a dictionary, but unlike looking up values with square brackets, `get()` returns `None` (or a default value of your choice) if the key isn't found. If you expect lookups to sometimes fail, `get()` might be a better tool than normal square bracket lookups.\n",
        "```\n",
        ">>> elements.get('dilithium')\n",
        "None\n",
        ">>> elements['dilithium']\n",
        "KeyError: 'dilithium'\n",
        ">>> elements.get('kryptonite', 'There\\'s no such element!')\n",
        "\"There's no such element!\"\n",
        "```\n",
        "\n",
        "In the last example we specified a default value (the string 'There's no such element!') to be returned instead of `None` when the key is not found.\n",
        "\n",
        "## **Checking for Equality vs. Identity: `==` vs. `is`**\n",
        "\n",
        "### QUESTION\n",
        "What will the output of the following code be? (Treat the commas in the multiple choice answers as newlines.)\n",
        "```\n",
        "a = [1, 2, 3]\n",
        "b = a\n",
        "c = [1, 2, 3]\n",
        "\n",
        "print(a == b)\n",
        "print(a is b)\n",
        "print(a == c)\n",
        "print(a is c)\n",
        "```\n",
        "\n"
      ],
      "metadata": {
        "id": "-ywmarSI1zGl"
      }
    },
    {
      "cell_type": "code",
      "source": [
        "a = [1, 2, 3]\n",
        "b = a\n",
        "c = [1, 2, 3]\n",
        "\n",
        "print(a == b)\n",
        "print(a is b)\n",
        "print(a == c)\n",
        "print(a is c)"
      ],
      "metadata": {
        "colab": {
          "base_uri": "https://localhost:8080/"
        },
        "id": "G7F6lLy90ZJI",
        "outputId": "d3a86be9-1320-44de-cd24-9f2f531901b2"
      },
      "execution_count": null,
      "outputs": [
        {
          "output_type": "stream",
          "name": "stdout",
          "text": [
            "True\n",
            "True\n",
            "True\n",
            "False\n"
          ]
        }
      ]
    },
    {
      "cell_type": "markdown",
      "source": [
        "List `a` and list `b` are equal and identical. List `c` is equal to `a` (and `b` for that matter) since they have the same contents. But `a` and `c` (and `b` for that matter, again) point to two different objects, i.e., they aren't identical objects. That is the difference between checking for equality vs. identity."
      ],
      "metadata": {
        "id": "OAdWegr22p3U"
      }
    },
    {
      "cell_type": "markdown",
      "source": [
        "# **When to use Dictionaries?**\n",
        "Let's revisit our Wall Street example from before. Previously we created a list for the index fund, [Vanguard Institutional Index Fund](https://www.marketwatch.com/investing/fund/vinix/holdings), because we wanted to print the names of the holdings (or stocks) in the index fund.\n",
        "\n",
        "Now, let's say as the investment fund manager for VINIX, you also want to print a few more details for each holding. For e.g., what is your rate of return on each of the holdings?\n",
        "\n",
        "A dictionary will work well here as there is a key: value association. In other words, there is a linkage between each holding and the information (e.g., rate of return), and it can be organized under one index fund, VINIX.\n",
        "```\n",
        "VINIX =  {'C': 0.74, 'MA': 0.78, 'BA': 0.79, 'PG': 0.85, 'CSCO': 0.88, 'VZ': 0.9, 'PFE': 0.92, 'HD': 0.97, 'INTC': 1.0, 'T': 1.01, 'V': 1.02, 'UNH': 1.02, 'WFC': 1.05, 'CVX': 1.05, 'BAC': 1.15, 'JNJ': 1.41, 'GOOGL': 1.46, 'GOOG': 1.47, 'BRK.B': 1.5, 'XOM': 1.52, 'JPM': 1.53, 'FB': 2.02, 'AMZN': 2.96, 'MSFT': 3.28, 'AAPL': 3.94}\n",
        "```\n",
        "\n",
        "You can add even other details, such as rate of return YTD. For that we can add the details into the value associated with the key, i.e., the ticker symbol for the holding.\n",
        "```\n",
        "VINIX = {'C': [0.74, -6.51],  'MA': [0.78, 34.77],  'BA': [0.79, 17.01],  'PG': [0.85, -8.81],  'CSCO': [0.88, 18.56],  'VZ': [0.9, 2.16],  'PFE': [0.92, 13.96],  'HD': [0.97, 3.2],  'INTC': [1.0, 2.61],  'T': [1.01, -15.19],  'V': [1.02, 24.0],  'UNH': [1.02, 19.32],  'WFC': [1.05, -3.59],  'CVX': [1.05, -5.77],  'BAC': [1.15, 4.27],  'JNJ': [1.41, -5.58],  'GOOGL': [1.46, 17.84],  'GOOG': [1.47, 17.03],  'BRK.B': [1.5, 4.54],  'XOM': [1.52, -6.87],  'JPM': [1.53, 7.66],  'FB': [2.02, 0.91], 'AMZN': [2.96, 62.75], 'MSFT': [3.28, 26.61], 'AAPL': [3.94, 26.01]}\n",
        "```\n",
        "\n",
        "As you can see, data structures are very useful in collecting, storing and working with more information than simple strings or integers.\n",
        "\n",
        "You will soon learn how to use dictionary methods to perform tasks, such as pull values from keys, sort values by keys, add values to the dictionary, and many other tasks that make data structures critical for data science."
      ],
      "metadata": {
        "id": "4a9i9Wlz4OXj"
      }
    },
    {
      "cell_type": "markdown",
      "source": [
        "# **Check for Understanding**\n",
        "\n",
        "A **tuple** is an immutable, ordered data structure that can be indexed and sliced like a list. Tuples are defined by listing a sequence of elements separated by commas, optionally contained within parentheses: `()`.\n",
        "\n",
        "A **set** is a mutable data structure - you can modify the elements in a set with methods like `add` and `pop`. A set is an unordered data structure, so you can't index and slice elements like a list; there is no sequence of positions to index with!\n",
        "\n",
        "One of the key properties of a set is that it only contains **unique** elements. So even if you create a new set with a list of elements that contains duplicates, Python will remove the duplicates when creating the set automatically.\n",
        "\n",
        "A set is defined with curly braces, `{}`, but it isn't the only data structure that does; dictionaries do as well! However, the difference is that a set is defined as a sequence of elements separated by commas:\n",
        "`set_example = {element1, element2, element3}`\n",
        "while a dictionary is defined as a sequence of key, value pairs marked with colons, separated by commas:\n",
        "`dict_example = {key1: value1, key2: value2, key3: value3}`.\n",
        "\n",
        "**Note:** if you define a variable with an empty set of curly braces like this: `a = {}`, Python will assign an empty dictionary to that variable. You can always use `set()` and `dict()` to define empty sets and dictionaries as well.\n",
        "\n",
        "A dictionary is a mutable, unordered data structure that contains mappings of keys to values. Because these keys are used to index values, they must be unique and immutable. For example, a string or tuple can be used as the key of a dictionary, but if you try to use a list as a key of a dictionary, you will get an error."
      ],
      "metadata": {
        "id": "2oaC92svgckJ"
      }
    },
    {
      "cell_type": "markdown",
      "source": [
        "## **Identify the Problem**\n",
        "Run the code below - it should break. Take a look at the error message and try to figure out what the issue is. Then, answer the quiz question below the editor.\n",
        "```\n",
        "# invalid dictionary - this should break\n",
        "room_numbers = {\n",
        "    ['Freddie', 'Jen']: 403,\n",
        "    ['Ned', 'Keith']: 391,\n",
        "    ['Kristin', 'Jazzmyne']: 411,\n",
        "    ['Eugene', 'Zach']: 395\n",
        "}\n",
        "```\n",
        "\n",
        "It should return the error:\n",
        "```\n",
        "Traceback (most recent call last):\n",
        "  File \"vm_main3.py\", line 47, in <module>\n",
        "    import main\n",
        "  File \"/tmp/vmuser_dntlxdbxvx/main.py\", line 2, in <module>\n",
        "    import studentMain\n",
        "  File \"/tmp/vmuser_dntlxdbxvx/studentMain.py\", line 1, in <module>\n",
        "    import dictionary_keys\n",
        "  File \"/tmp/vmuser_dntlxdbxvx/dictionary_keys.py\", line 3, in <module>\n",
        "    ['Freddie', 'Jen']: 403,\n",
        "TypeError: unhashable type: 'list'\n",
        "```\n",
        "\n",
        "The lists used in the code above are mutable, and thus cannot be hashed and used as dictionary keys.\n",
        "Can you try modifying the data type of the keys in the dictionary above to make the code run without errors? Hint: What other data structure can you use to store a sequence of values, but is immutable?"
      ],
      "metadata": {
        "id": "Hl_yTLVPhW73"
      }
    },
    {
      "cell_type": "markdown",
      "source": [
        "# **Compound Data Structures**\n",
        "We can include containers in other containers to create compound data structures. For example, this dictionary maps keys to values that are also dictionaries!\n",
        "```\n",
        "elements = {\"hydrogen\": {\"number\": 1,\n",
        "                         \"weight\": 1.00794,\n",
        "                         \"symbol\": \"H\"},\n",
        "              \"helium\": {\"number\": 2,\n",
        "                         \"weight\": 4.002602,\n",
        "                         \"symbol\": \"He\"}}\n",
        "```\n",
        "\n",
        "We can access elements in this nested dictionary like this.\n",
        "```\n",
        "helium = elements[\"helium\"]  # get the helium dictionary\n",
        "hydrogen_weight = elements[\"hydrogen\"][\"weight\"]  # get hydrogen's weight\n",
        "```\n",
        "\n",
        "You can also add a new key to the element dictionary.\n",
        "```\n",
        "oxygen = {\"number\":8,\"weight\":15.999,\"symbol\":\"O\"}  # create a new oxygen dictionary \n",
        "elements[\"oxygen\"] = oxygen  # assign 'oxygen' as a key to the elements dictionary\n",
        "print('elements = ', elements)\n",
        "```\n",
        "\n",
        "Output is:\n",
        "```\n",
        "elements =  {\"hydrogen\": {\"number\": 1,\n",
        "                          \"weight\": 1.00794,\n",
        "                          \"symbol\": 'H'},\n",
        "               \"helium\": {\"number\": 2,\n",
        "                          \"weight\": 4.002602,\n",
        "                          \"symbol\": \"He\"}, \n",
        "               \"oxygen\": {\"number\": 8, \n",
        "                          \"weight\": 15.999, \n",
        "                          \"symbol\": \"O\"}}\n",
        "```\n",
        "\n"
      ],
      "metadata": {
        "id": "CmKstoAxiDR8"
      }
    },
    {
      "cell_type": "markdown",
      "source": [
        "# Quiz: Adding Values to Nested Dictionaries\n",
        "Try your hand at working with nested dictionaries. Add another entry, `'is_noble_gas,'` to each dictionary in the `elements` dictionary. After inserting the new entries you should be able to perform these lookups:\n",
        "\n",
        "```\n",
        ">>> print(elements['hydrogen']['is_noble_gas'])\n",
        "False\n",
        ">>> print(elements['helium']['is_noble_gas'])\n",
        "True\n",
        "```\n"
      ],
      "metadata": {
        "id": "YTj_2_f0kwFf"
      }
    },
    {
      "cell_type": "code",
      "source": [
        "elements = {'hydrogen': {'number': 1, 'weight': 1.00794, 'symbol': 'H'},\n",
        "            'helium': {'number': 2, 'weight': 4.002602, 'symbol': 'He'}}\n",
        "\n",
        "# todo: Add an 'is_noble_gas' entry to the hydrogen and helium dictionaries\n",
        "# hint: helium is a noble gas, hydrogen isn't\n"
      ],
      "metadata": {
        "id": "hU3lb1VF7Pak"
      },
      "execution_count": null,
      "outputs": []
    },
    {
      "cell_type": "code",
      "source": [
        "elements = {'hydrogen': {'number': 1, 'weight': 1.00794, 'symbol': 'H'},\n",
        "            'helium': {'number': 2, 'weight': 4.002602, 'symbol': 'He'}}\n",
        "\n",
        "elements['hydrogen']['is_noble_gas'] = False\n",
        "elements['helium']['is_noble_gas'] = True"
      ],
      "metadata": {
        "id": "V4AYGSnPlZhU"
      },
      "execution_count": null,
      "outputs": []
    },
    {
      "cell_type": "markdown",
      "source": [
        "Notice the last two lines are the solution necessary to add the `is_noble_gas` key to each of the dictionaries, so the final result would be correct after running these two lines."
      ],
      "metadata": {
        "id": "47nMm_zcltAG"
      }
    },
    {
      "cell_type": "markdown",
      "source": [
        "# **Practice Questions**\n",
        "The following questions are based on the same text you saw in the last lesson, the first verse of the poem If by Rudyard Kipling. We've converted all letters to lowercase, removed punctuation marks from the text, and stored this modified text in the string variable verse.\n",
        "\n",
        "## **Quiz: Count Unique Words**\n",
        "Your task for this quiz is to find the number of unique words in the text. In the code editor below, complete these three steps to get your answer.\n",
        "\n",
        "1. Split `verse` into a list of words. **Hint**: You can use a string method you learned in the previous lesson.\n",
        "2. Convert the list into a data structure that would keep only the unique elements from the list.\n",
        "3. Print the length of the container.\n",
        "\n",
        "```\n",
        "verse = \"if you can keep your head when all about you are losing theirs and blaming it on you   if you can trust yourself when all men doubt you     but make allowance for their doubting too   if you can wait and not be tired by waiting      or being lied about  don’t deal in lies   or being hated  don’t give way to hating      and yet don’t look too good  nor talk too wise\"\n",
        "print(verse, '\\n')\n",
        "\n",
        "# split verse into list of words\n",
        "verse_list =\n",
        "print(verse_list, '\\n')\n",
        "\n",
        "# convert list to a data structure that stores unique elements\n",
        "verse_set =\n",
        "print(verse_set, '\\n')\n",
        "\n",
        "# print the number of unique words\n",
        "num_unique = \n",
        "print(num_unique, '\\n')\n",
        "```"
      ],
      "metadata": {
        "id": "WW6y8Pbql0Ff"
      }
    },
    {
      "cell_type": "code",
      "source": [
        "verse = \"if you can keep your head when all about you are losing theirs and blaming it on you   if you can trust yourself when all men doubt you     but make allowance for their doubting too   if you can wait and not be tired by waiting      or being lied about  don’t deal in lies   or being hated  don’t give way to hating      and yet don’t look too good  nor talk too wise\"\n",
        "print(verse, \"\\n\")\n",
        "\n",
        "# split verse into list of words\n",
        "verse_list = verse.split()\n",
        "print(verse_list, '\\n')\n",
        "\n",
        "# convert list to set to get unique words\n",
        "verse_set = set(verse_list)\n",
        "print(verse_set, '\\n')\n",
        "\n",
        "# print the number of unique words\n",
        "num_unique = len(verse_set)\n",
        "print(num_unique)"
      ],
      "metadata": {
        "colab": {
          "base_uri": "https://localhost:8080/"
        },
        "id": "3rfCqipRnG4Z",
        "outputId": "b1ad5d4b-36e6-4aef-f00f-cb7e83905d7a"
      },
      "execution_count": null,
      "outputs": [
        {
          "output_type": "stream",
          "name": "stdout",
          "text": [
            "if you can keep your head when all about you are losing theirs and blaming it on you   if you can trust yourself when all men doubt you     but make allowance for their doubting too   if you can wait and not be tired by waiting      or being lied about  don’t deal in lies   or being hated  don’t give way to hating      and yet don’t look too good  nor talk too wise \n",
            "\n",
            "['if', 'you', 'can', 'keep', 'your', 'head', 'when', 'all', 'about', 'you', 'are', 'losing', 'theirs', 'and', 'blaming', 'it', 'on', 'you', 'if', 'you', 'can', 'trust', 'yourself', 'when', 'all', 'men', 'doubt', 'you', 'but', 'make', 'allowance', 'for', 'their', 'doubting', 'too', 'if', 'you', 'can', 'wait', 'and', 'not', 'be', 'tired', 'by', 'waiting', 'or', 'being', 'lied', 'about', 'don’t', 'deal', 'in', 'lies', 'or', 'being', 'hated', 'don’t', 'give', 'way', 'to', 'hating', 'and', 'yet', 'don’t', 'look', 'too', 'good', 'nor', 'talk', 'too', 'wise'] \n",
            "\n",
            "{'are', 'by', 'waiting', 'tired', 'good', 'can', 'your', 'blaming', 'but', 'on', 'when', 'being', 'it', 'doubt', 'talk', 'for', 'keep', 'and', 'deal', 'you', 'lied', 'theirs', 'men', 'yourself', 'their', 'too', 'make', 'head', 'be', 'or', 'lies', 'allowance', 'don’t', 'all', 'yet', 'hated', 'if', 'way', 'nor', 'in', 'doubting', 'give', 'wait', 'hating', 'not', 'look', 'losing', 'about', 'wise', 'trust', 'to'} \n",
            "\n",
            "51\n"
          ]
        }
      ]
    },
    {
      "cell_type": "markdown",
      "source": [
        "# **Quiz: Verse Dictionary**\n",
        "In the code editor below, you'll find a dictionary containing the unique words of `verse` stored as keys and the number of times they appear in `verse` stored as values. Use this dictionary to answer the following questions. Submit these answers in the quiz below the code editor.\n",
        "\n",
        "Try to answer these using code, rather than inspecting the dictionary manually!\n",
        "\n",
        "1. How many unique words are in `verse_dict`?\n",
        "2. Is the key `\"breathe\"` in `verse_dict`?\n",
        "3. What is the first element in the list created when `verse_dict` is sorted by keys? **Hint**: Use the appropriate dictionary method to get a list of its keys, and then sort that list. Use this list of keys to answer the next two questions as well.\n",
        "4. Which key (word) has the highest value in `verse_dict`?\n",
        "\n",
        "\n",
        "```\n",
        "verse_dict =  {'if': 3, 'you': 6, 'can': 3, 'keep': 1, 'your': 1, 'head': 1, 'when': 2, 'all': 2, 'about': 2, 'are': 1, 'losing': 1, 'theirs': 1, 'and': 3, 'blaming': 1, 'it': 1, 'on': 1, 'trust': 1, 'yourself': 1, 'men': 1, 'doubt': 1, 'but': 1, 'make': 1, 'allowance': 1, 'for': 1, 'their': 1, 'doubting': 1, 'too': 3, 'wait': 1, 'not': 1, 'be': 1, 'tired': 1, 'by': 1, 'waiting': 1, 'or': 2, 'being': 2, 'lied': 1, 'don\\'t': 3, 'deal': 1, 'in': 1, 'lies': 1, 'hated': 1, 'give': 1, 'way': 1, 'to': 1, 'hating': 1, 'yet': 1, 'look': 1, 'good': 1, 'nor': 1, 'talk': 1, 'wise': 1}\n",
        "print(verse_dict, '\\n')\n",
        "\n",
        "\n",
        "# find number of unique keys in the dictionary\n",
        "num_keys = \n",
        "print(num_keys)\n",
        "\n",
        "# find whether 'breathe' is a key in the dictionary\n",
        "contains_breathe = \n",
        "print(contains_breathe)\n",
        "\n",
        "# create and sort a list of the dictionary's keys\n",
        "sorted_keys = \n",
        "\n",
        "# get the first element in the sorted list of keys\n",
        "print()\n",
        "\n",
        "# find the element with the highest value in the list of keys\n",
        "print() \n",
        "```\n",
        "\n"
      ],
      "metadata": {
        "id": "a4BcdhqCmN8c"
      }
    },
    {
      "cell_type": "code",
      "source": [
        "verse_dict =  {'if': 3, 'you': 6, 'can': 3, 'keep': 1, 'your': 1, 'head': 1, 'when': 2, 'all': 2, 'about': 2, 'are': 1, 'losing': 1, 'theirs': 1, 'and': 3, 'blaming': 1, 'it': 1, 'on': 1, 'trust': 1, 'yourself': 1, 'men': 1, 'doubt': 1, 'but': 1, 'make': 1, 'allowance': 1, 'for': 1, 'their': 1, 'doubting': 1, 'too': 3, 'wait': 1, 'not': 1, 'be': 1, 'tired': 1, 'by': 1, 'waiting': 1, 'or': 2, 'being': 2, 'lied': 1, 'don\\'t': 3, 'deal': 1, 'in': 1, 'lies': 1, 'hated': 1, 'give': 1, 'way': 1, 'to': 1, 'hating': 1, 'yet': 1, 'look': 1, 'good': 1, 'nor': 1, 'talk': 1, 'wise': 1}\n",
        "print(verse_dict, '\\n')\n",
        "\n",
        "# find number of unique keys in the dictionary\n",
        "num_keys = len(verse_dict)\n",
        "print(num_keys)\n",
        "\n",
        "# find whether 'breathe' is a key in the dictionary\n",
        "contains_breathe = \"breathe\" in verse_dict\n",
        "print(contains_breathe)\n",
        "\n",
        "# create and sort a list of the dictionary's keys\n",
        "sorted_keys = sorted(verse_dict.keys())\n",
        "\n",
        "# get the first element in the sorted list of keys\n",
        "print(sorted_keys[0])\n",
        "\n",
        "# find the element with the highest value in the list of keys\n",
        "print(sorted_keys[-1]) "
      ],
      "metadata": {
        "colab": {
          "base_uri": "https://localhost:8080/"
        },
        "id": "p2mhpaxNmCh8",
        "outputId": "10b3baa8-8124-4830-993a-7619a491b242"
      },
      "execution_count": null,
      "outputs": [
        {
          "output_type": "stream",
          "name": "stdout",
          "text": [
            "{'if': 3, 'you': 6, 'can': 3, 'keep': 1, 'your': 1, 'head': 1, 'when': 2, 'all': 2, 'about': 2, 'are': 1, 'losing': 1, 'theirs': 1, 'and': 3, 'blaming': 1, 'it': 1, 'on': 1, 'trust': 1, 'yourself': 1, 'men': 1, 'doubt': 1, 'but': 1, 'make': 1, 'allowance': 1, 'for': 1, 'their': 1, 'doubting': 1, 'too': 3, 'wait': 1, 'not': 1, 'be': 1, 'tired': 1, 'by': 1, 'waiting': 1, 'or': 2, 'being': 2, 'lied': 1, \"don't\": 3, 'deal': 1, 'in': 1, 'lies': 1, 'hated': 1, 'give': 1, 'way': 1, 'to': 1, 'hating': 1, 'yet': 1, 'look': 1, 'good': 1, 'nor': 1, 'talk': 1, 'wise': 1} \n",
            "\n",
            "51\n",
            "False\n",
            "about\n",
            "yourself\n"
          ]
        }
      ]
    },
    {
      "cell_type": "markdown",
      "source": [
        "A good understanding of data structures is integral for programming and data analysis. As a data analyst, you will be working with data and code all the time, so a solid understanding of what data types and data structures are available and when to use each one will help you write more efficient code.\n",
        "\n",
        "Remember, you can get more practice on sites like [HackerRank](https://www.hackerrank.com/domains/python).\n",
        "\n",
        "In this lesson, we covered four important data structures in Python:\n",
        "\n",
        "<div class=\"_3iP2TrDXtmCaMBMDFgM-Os\"><table class=\"_31OI8Tmq3yywD_20_EuBtM _1pZkqGvd1RdMO5JXUl_2oA\">\n",
        "<thead>\n",
        "<tr>\n",
        "<th><strong>Data Structure</strong></th>\n",
        "<th><strong>Ordered</strong></th>\n",
        "<th><strong>Mutable</strong></th>\n",
        "<th><strong>Constructor</strong></th>\n",
        "<th><strong>Example</strong></th>\n",
        "</tr>\n",
        "</thead>\n",
        "<tbody>\n",
        "<tr>\n",
        "<td>List</td>\n",
        "<td>Yes</td>\n",
        "<td>Yes</td>\n",
        "<td><code>[ ]</code> or <code>list()</code></td>\n",
        "<td><code>[5.7, 4, 'yes', 5.7]</code></td>\n",
        "</tr>\n",
        "<tr>\n",
        "<td>Tuple</td>\n",
        "<td>Yes</td>\n",
        "<td>No</td>\n",
        "<td><code>( )</code> or <code>tuple()</code></td>\n",
        "<td><code>(5.7, 4, 'yes', 5.7)</code></td>\n",
        "</tr>\n",
        "<tr>\n",
        "<td>Set</td>\n",
        "<td>No</td>\n",
        "<td>Yes</td>\n",
        "<td><code>{}</code>* or <code>set()</code></td>\n",
        "<td><code>{5.7, 4, 'yes'}</code></td>\n",
        "</tr>\n",
        "<tr>\n",
        "<td>Dictionary</td>\n",
        "<td>No</td>\n",
        "<td>No**</td>\n",
        "<td><code>{ }</code> or <code>dict()</code></td>\n",
        "<td><code>{'Jun': 75, 'Jul': 89}</code></td>\n",
        "</tr>\n",
        "</tbody>\n",
        "</table>\n",
        "</div>\n",
        "\n",
        "* You can use curly braces to define a set like this: `{1, 2, 3}`. However, if you leave the curly braces empty like this: `{}` Python will instead create an empty dictionary. So to create an empty set, use `set()`.\n",
        "* A dictionary itself is mutable, but each of its individual keys must be immutable."
      ],
      "metadata": {
        "id": "VFdRRrObnQ9C"
      }
    },
    {
      "cell_type": "markdown",
      "source": [
        "## **Collections**\n",
        "When we have a group of data we can think about it as a collection (of data elements). In this lesson, we have seen many different data structures that Python provides for storing, accessing and manipulating collections of data. In particular, we have seen lists, sets, and dictionaries.\n",
        "\n",
        "\n",
        "\n",
        "*    Lists are sortable, you can add an item to a list with .append and list items are always indexed with numbers starting at 0.\n",
        "\n",
        "*    Sets are not ordered, so the order in which items appear can be inconsistent, and you add items to sets with `.add`. Like dictionaries and lists, sets are mutable.\n",
        "No item can appear more than once in a set and you cannot sort sets. For duplication and sorting, a list would be more appropriate.\n",
        "\n",
        "*     Each item in a dictionary contains two parts (a key and a value), the items in a dictionary are not ordered, and we have seen in this lesson examples of nested dictionaries.\n",
        "Because dictionaries are not ordered, they are not sortable. And you do not add items to a dictionary with `.append`.\n"
      ],
      "metadata": {
        "id": "1-Gf4Bya6mUI"
      }
    },
    {
      "cell_type": "code",
      "source": [
        "verse_dict =  {'if': 3, 'you': 6, 'can': 3, 'keep': 1, 'your': 1, 'head': 1, 'when': 2, 'all': 2, 'about': 2, 'are': 1, 'losing': 1, 'theirs': 1, 'and': 3, 'blaming': 1, 'it': 1, 'on': 1, 'trust': 1, 'yourself': 1, 'men': 1, 'doubt': 1, 'but': 1, 'make': 1, 'allowance': 1, 'for': 1, 'their': 1, 'doubting': 1, 'too': 3, 'wait': 1, 'not': 1, 'be': 1, 'tired': 1, 'by': 1, 'waiting': 1, 'or': 2, 'being': 2, 'lied': 1, 'don\\'t': 3, 'deal': 1, 'in': 1, 'lies': 1, 'hated': 1, 'give': 1, 'way': 1, 'to': 1, 'hating': 1, 'yet': 1, 'look': 1, 'good': 1, 'nor': 1, 'talk': 1, 'wise': 1}\n",
        "print(verse_dict, '\\n')\n",
        "\n",
        "# find number of unique keys in the dictionary\n",
        "num_keys = len(set(verse_dict))\n",
        "print(num_keys)\n",
        "\n",
        "# find whether 'breathe' is a key in the dictionary\n",
        "contains_breathe = verse_dict.get(\"breathe\")\n",
        "print(contains_breathe)"
      ],
      "metadata": {
        "id": "k8brV1xmnocB",
        "colab": {
          "base_uri": "https://localhost:8080/"
        },
        "outputId": "419cbf84-066c-4c83-c8f0-64610cf67393"
      },
      "execution_count": null,
      "outputs": [
        {
          "output_type": "stream",
          "name": "stdout",
          "text": [
            "{'if': 3, 'you': 6, 'can': 3, 'keep': 1, 'your': 1, 'head': 1, 'when': 2, 'all': 2, 'about': 2, 'are': 1, 'losing': 1, 'theirs': 1, 'and': 3, 'blaming': 1, 'it': 1, 'on': 1, 'trust': 1, 'yourself': 1, 'men': 1, 'doubt': 1, 'but': 1, 'make': 1, 'allowance': 1, 'for': 1, 'their': 1, 'doubting': 1, 'too': 3, 'wait': 1, 'not': 1, 'be': 1, 'tired': 1, 'by': 1, 'waiting': 1, 'or': 2, 'being': 2, 'lied': 1, \"don't\": 3, 'deal': 1, 'in': 1, 'lies': 1, 'hated': 1, 'give': 1, 'way': 1, 'to': 1, 'hating': 1, 'yet': 1, 'look': 1, 'good': 1, 'nor': 1, 'talk': 1, 'wise': 1} \n",
            "\n",
            "51\n",
            "None\n"
          ]
        }
      ]
    }
  ]
}