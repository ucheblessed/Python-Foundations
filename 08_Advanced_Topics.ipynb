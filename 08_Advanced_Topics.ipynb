{
  "nbformat": 4,
  "nbformat_minor": 0,
  "metadata": {
    "colab": {
      "provenance": [],
      "authorship_tag": "ABX9TyNo0lwjoEtYxup/lBy8acSv",
      "include_colab_link": true
    },
    "kernelspec": {
      "name": "python3",
      "display_name": "Python 3"
    },
    "language_info": {
      "name": "python"
    }
  },
  "cells": [
    {
      "cell_type": "markdown",
      "metadata": {
        "id": "view-in-github",
        "colab_type": "text"
      },
      "source": [
        "<a href=\"https://colab.research.google.com/github/ucheblessed/ucheblessed/blob/main/08_Advanced_Topics.ipynb\" target=\"_parent\"><img src=\"https://colab.research.google.com/assets/colab-badge.svg\" alt=\"Open In Colab\"/></a>"
      ]
    },
    {
      "cell_type": "markdown",
      "source": [
        "# **Iterators And Generators**\n",
        "**Iterables** are objects that can return one of their elements at a time, such as a list. Many of the built-in functions we’ve used so far, like 'enumerate,' return an iterator.\n",
        "\n",
        "An **iterator** is an object that represents a stream of data. This is different from a **list**, which is also an iterable, but is not an iterator because it is not a stream of data.\n",
        "\n",
        "**Generators** are a simple way to create iterators using functions. You can also define iterators using **classes**, which you can read more about [here](https://docs.python.org/3/tutorial/classes.html#iterators).\n",
        "\n",
        "Here is an example of a generator function called `my_range`, which produces an iterator that is a stream of numbers from 0 to (x - 1)."
      ],
      "metadata": {
        "id": "djGG0CS0bkLC"
      }
    },
    {
      "cell_type": "code",
      "source": [
        "def my_range(x):\n",
        "    i = 0\n",
        "    while i < x:\n",
        "        yield i\n",
        "        i += 1"
      ],
      "metadata": {
        "id": "9TOQFMUzb362"
      },
      "execution_count": 1,
      "outputs": []
    },
    {
      "cell_type": "markdown",
      "source": [
        "Notice that instead of using the return keyword, it uses `yield`. This allows the function to return values one at a time, and start where it left off each time it’s called. This `yield` keyword is what differentiates a generator from a typical function.\n",
        "\n",
        "Remember, since this returns an iterator, we can convert it to a list or iterate through it in a loop to view its contents. For example, this code:"
      ],
      "metadata": {
        "id": "SCA_rdn6b-YU"
      }
    },
    {
      "cell_type": "code",
      "source": [
        "for x in my_range(5):\n",
        "    print(x)"
      ],
      "metadata": {
        "colab": {
          "base_uri": "https://localhost:8080/"
        },
        "id": "m920fN5hb4j3",
        "outputId": "dbc4ce4a-f133-4620-c982-54892a97ee3a"
      },
      "execution_count": 2,
      "outputs": [
        {
          "output_type": "stream",
          "name": "stdout",
          "text": [
            "0\n",
            "1\n",
            "2\n",
            "3\n",
            "4\n"
          ]
        }
      ]
    },
    {
      "cell_type": "markdown",
      "source": [
        "## **Why Generators?**\n",
        "You may be wondering why we'd use generators over lists. Here’s an excerpt from a Stack Overflow [page](https://softwareengineering.stackexchange.com/questions/290231/when-should-i-use-a-generator-and-when-a-list-in-python/290235) that addresses this:\n",
        "\n",
        "> *Generators are a lazy way to build iterables. They are useful when the fully realized list would not fit in memory, or when the cost to calculate each list element is high and you want to do it as late as possible. But they can only be iterated over once.*"
      ],
      "metadata": {
        "id": "hg2KdTp8cF3E"
      }
    },
    {
      "cell_type": "markdown",
      "source": [
        "# **Quiz: Implement `my_enumerate`**\n",
        "\n",
        "Write your own generator function `my_enumerate` that works like the built-in function `enumerate`.\n",
        "\n",
        "Calling your function like this:\n",
        "\n",
        "```\n",
        "lessons = [\"Why Python Programming\", \"Data Types and Operators\", \"Control Flow\", \"Functions\", \"Scripting\"]\n",
        "\n",
        "for i, lesson in my_enumerate(lessons, 1):\n",
        "    print(\"Lesson {}: {}\".format(i, lesson))\n",
        "```\n",
        "\n",
        "should output:\n",
        "\n",
        "```\n",
        "Lesson 1: Why Python Programming\n",
        "Lesson 2: Data Types and Operators\n",
        "Lesson 3: Control Flow\n",
        "Lesson 4: Functions\n",
        "Lesson 5: Scripting\n",
        "```\n",
        "\n",
        "\n"
      ],
      "metadata": {
        "id": "oIzdjnQ0cUFz"
      }
    },
    {
      "cell_type": "code",
      "source": [
        "lessons = [\"Why Python Programming\", \"Data Types and Operators\", \"Control Flow\", \"Functions\", \"Scripting\"]\n",
        "\n",
        "def my_enumerate(iterable, start=0):\n",
        "    # Implement your generator function here\n",
        "\n",
        "\n",
        "for i, lesson in my_enumerate(lessons, 1):\n",
        "    print(\"Lesson {}: {}\".format(i, lesson))"
      ],
      "metadata": {
        "id": "csYgY1oFcC62"
      },
      "execution_count": 3,
      "outputs": []
    },
    {
      "cell_type": "markdown",
      "source": [
        "# **Solution**"
      ],
      "metadata": {
        "id": "G_-reNKFcwfN"
      }
    },
    {
      "cell_type": "code",
      "source": [
        "lessons = [\"Why Python Programming\", \"Data Types and Operators\", \"Control Flow\", \"Functions\", \"Scripting\"]\n",
        "\n",
        "def my_enumerate(iterable, start=0):\n",
        "    count = start\n",
        "    for element in iterable:\n",
        "        yield count, element\n",
        "        count += 1\n",
        "\n",
        "for i, lesson in my_enumerate(lessons, 1):\n",
        "    print(\"Lesson {}: {}\".format(i, lesson))"
      ],
      "metadata": {
        "colab": {
          "base_uri": "https://localhost:8080/"
        },
        "id": "h7gY7RdvcdzA",
        "outputId": "1c2b6a2f-fac5-461a-e948-ff8227f2f7c5"
      },
      "execution_count": 4,
      "outputs": [
        {
          "output_type": "stream",
          "name": "stdout",
          "text": [
            "Lesson 1: Why Python Programming\n",
            "Lesson 2: Data Types and Operators\n",
            "Lesson 3: Control Flow\n",
            "Lesson 4: Functions\n",
            "Lesson 5: Scripting\n"
          ]
        }
      ]
    },
    {
      "cell_type": "markdown",
      "source": [
        "# **Quiz: Chunker**\n",
        "If you have an iterable that is too large to fit in memory in full (e.g., when dealing with large files), being able to take and use chunks of it at a time can be very valuable.\n",
        "\n",
        "Implement a generator function, `chunker`, that takes in an iterable and yields a chunk of a specified size at a time.\n",
        "\n",
        "Calling the function like this:\n",
        "\n",
        "```\n",
        "for chunk in chunker(range(25), 4):\n",
        "    print(list(chunk))\n",
        "```\n",
        "\n",
        "should output:\n",
        "\n",
        "```\n",
        "[0, 1, 2, 3]\n",
        "[4, 5, 6, 7]\n",
        "[8, 9, 10, 11]\n",
        "[12, 13, 14, 15]\n",
        "[16, 17, 18, 19]\n",
        "[20, 21, 22, 23]\n",
        "[24]\n",
        "```"
      ],
      "metadata": {
        "id": "wGHTG7AGc9uO"
      }
    },
    {
      "cell_type": "code",
      "source": [
        "def chunker(iterable, size):\n",
        "    # Implement function here\n",
        "\n",
        "\n",
        "for chunk in chunker(range(25), 4):\n",
        "    print(list(chunk))"
      ],
      "metadata": {
        "id": "DNxF5Axzc6Mx"
      },
      "execution_count": null,
      "outputs": []
    },
    {
      "cell_type": "markdown",
      "source": [
        "# **Quiz Solution: `Chunker`**\n",
        "Here's one way you could do it. You can find this implementation on this [Stack Overflow page](https://stackoverflow.com/questions/312443/how-do-you-split-a-list-into-evenly-sized-chunks)."
      ],
      "metadata": {
        "id": "3QZ1rEz3dLno"
      }
    },
    {
      "cell_type": "code",
      "source": [
        "def chunker(iterable, size):\n",
        "    \"\"\"Yield successive chunks from iterable of length size.\"\"\"\n",
        "    for i in range(0, len(iterable), size):\n",
        "        yield iterable[i:i + size]\n",
        "\n",
        "for chunk in chunker(range(25), 4):\n",
        "    print(list(chunk))"
      ],
      "metadata": {
        "colab": {
          "base_uri": "https://localhost:8080/"
        },
        "id": "oKSx8T57dW87",
        "outputId": "4a09e39a-70fd-4e48-ff5f-b341ba1bee1a"
      },
      "execution_count": 5,
      "outputs": [
        {
          "output_type": "stream",
          "name": "stdout",
          "text": [
            "[0, 1, 2, 3]\n",
            "[4, 5, 6, 7]\n",
            "[8, 9, 10, 11]\n",
            "[12, 13, 14, 15]\n",
            "[16, 17, 18, 19]\n",
            "[20, 21, 22, 23]\n",
            "[24]\n"
          ]
        }
      ]
    },
    {
      "cell_type": "markdown",
      "source": [
        "# Generator Expressions\n",
        "Here's a cool concept that combines generators and list comprehensions! You can actually create a generator in the same way you'd normally write a list comprehension, except with parentheses instead of square brackets. For example:\n"
      ],
      "metadata": {
        "id": "SeDXGnL7dbT4"
      }
    },
    {
      "cell_type": "code",
      "source": [
        "sq_list = [x**2 for x in range(10)]  # this produces a list of squares\n",
        "\n",
        "sq_iterator = (x**2 for x in range(10))  # this produces an iterator of squares|"
      ],
      "metadata": {
        "id": "I6-wFG3udYvT"
      },
      "execution_count": 6,
      "outputs": []
    },
    {
      "cell_type": "markdown",
      "source": [
        "This can help you save time and create efficient code!"
      ],
      "metadata": {
        "id": "BMm-vifmdhoZ"
      }
    }
  ]
}